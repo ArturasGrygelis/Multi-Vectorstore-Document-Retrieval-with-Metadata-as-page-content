{
 "cells": [
  {
   "cell_type": "markdown",
   "metadata": {},
   "source": [
    "# Introduction\n",
    "This project is developed for exploration and learning purposes. The main objective is to experiment with multiple vector stores enriched with metadata, aiming to optimize document retrieval and grading in a downstream application. The smallest vector stores are designed to contain minimal text but maximize the amount of useful information, enabling efficient and precise search results.\n",
    "\n",
    "This approach closely resembles LangChain's multi-vectorstore implementation but offers advantages in terms of memory usage and speed, operating nearly as fast as a single retriever. In this setup, the documents benefit from well-structured and informative filenames, which facilitate metadata extraction. For less structured documents, it is recommended to identify essential metadata fields to create highly informative, concise document representations for the vector stores by concatenating those fields into a single page content.\n",
    "\n",
    "Compared to retrieval-augmented generation (RAG) methods that prepend metadata in front of full documents (which may lead to hallucination by large language models due to excessive text), this approach minimizes hallucination risks by limiting the text length. The application retrieves only small, relevant documents identified by unique identifiers, resulting in fast and accurate responses. Moreover, metadata allows easy filtering and opens opportunities for advanced retrieval strategies, where an LLM can decide dynamically which metadata to use for improved effectiveness. This modular design offers great flexibility and scalability for future enhancements."
   ]
  },
  {
   "cell_type": "markdown",
   "metadata": {},
   "source": [
    "# Įvadas\n",
    "Šis projektas sukurtas tyrinėjimo ir mokymosi tikslais. Pagrindinis tikslas – eksperimentuoti su keliais metaduomenimis praturtintais vektorių saugyklomis, siekiant optimizuoti dokumentų paiešką ir vertinimą tolimesnėje programoje. Mažiausios vektorių saugyklos yra kuriamos taip, kad jose būtų kuo mažiau teksto, bet maksimaliai daug naudingos informacijos, kas leidžia efektyviai ir tiksliai rasti reikiamus dokumentus.\n",
    "\n",
    "Šis požiūris yra panašus į LangChain daugiavektorių saugyklų įgyvendinimą, tačiau turi pranašumų atminties naudojimo ir greičio atžvilgiu, veikdamas beveik taip pat greitai kaip vienas paieškos variklis. Šiame sprendime dokumentai naudoja gerai struktūruotus ir informatyvius failų pavadinimus, kurie palengvina metaduomenų išgavimą. Blogiau pavadintų dokumentų atveju rekomenduojama identifikuoti svarbiausius metaduomenų laukus ir sujungti juos į vieną turinį, kad būtų sukurtos kuo informatyvesnės ir glaustesnės dokumentų reprezentacijos vektorių saugykloms.\n",
    "\n",
    "Palyginti su RAG (retrieval-augmented generation) metodais,kaip \"Path-Rag\" kurie metaduomenis deda prieš visą dokumentą (kas pagerina veikima, bet vistiek gali sukelti didžiųjų kalbos modelių halucinacijas dėl pernelyg ilgo teksto), šis metodas sumažina halucinacijų riziką, ribodamas teksto ilgį. Programa atlieka paiešką tik mažose, aktualiose dokumentų dalyse, identifikuotose pagal unikalius identifikatorius, todėl užtikrinamas greitas ir tikslus atsakymas. Be to, metaduomenys leidžia lengvai filtruoti dokumentus ir suteikia galimybę taikyti pažangias paieškos strategijas, kai LLM dinamiškai nusprendžia, kokius metaduomenis naudoti efektyvesniam rezultatui. Toks modulinis dizainas suteikia didelį lankstumą ir pritaikomumą ateities plėtrai. Kai identifikuojami maži dokumentai tinkami, tada išgaunami ir pilni dokumentai, atsakymams gauti."
   ]
  },
  {
   "cell_type": "code",
   "execution_count": 1,
   "metadata": {},
   "outputs": [],
   "source": [
    "%%capture --no-display\n",
    "import os\n",
    "import shutil\n",
    "from typing_extensions import TypedDict, List\n",
    "from langchain_huggingface import HuggingFaceEmbeddings\n",
    "from langchain_community.vectorstores import Chroma\n",
    "from IPython.display import Image, display\n",
    "from langchain_core.pydantic_v1 import BaseModel, Field\n",
    "from langchain.schema import Document\n",
    "from langgraph.graph import START, END, StateGraph\n",
    "from langchain.prompts import PromptTemplate\n",
    "import uuid\n",
    "import sys\n",
    "from langchain_groq import ChatGroq\n",
    "from langchain.text_splitter import RecursiveCharacterTextSplitter\n",
    "from langchain_core.output_parsers import StrOutputParser\n",
    "from langchain_core.output_parsers import JsonOutputParser\n",
    "from langchain_community.vectorstores.utils import filter_complex_metadata\n",
    "from langchain.schema import Document\n",
    "from langgraph.graph import START, END, StateGraph\n",
    "from langchain_community.document_loaders.directory import DirectoryLoader\n",
    "from langchain.document_loaders import TextLoader\n",
    "from pathlib import Path\n",
    "from langchain_text_splitters import CharacterTextSplitter\n",
    "from pydantic import BaseModel\n",
    "import re\n",
    "from langchain.document_loaders.pdf import PyPDFDirectoryLoader\n",
    "from langchain_community.document_loaders.directory import DirectoryLoader\n",
    "import pandas as pd\n",
    "from langchain_groq import ChatGroq\n",
    "from langchain.prompts import ChatPromptTemplate\n",
    "import fitz  \n",
    "from datetime import datetime\n",
    "\n",
    "import warnings\n",
    "warnings.filterwarnings('ignore')\n",
    "warnings.simplefilter('ignore')\n"
   ]
  },
  {
   "cell_type": "code",
   "execution_count": 2,
   "metadata": {},
   "outputs": [
    {
     "name": "stderr",
     "output_type": "stream",
     "text": [
      "[nltk_data] Downloading package punkt to\n",
      "[nltk_data]     C:\\Users\\artur\\AppData\\Roaming\\nltk_data...\n",
      "[nltk_data]   Package punkt is already up-to-date!\n"
     ]
    },
    {
     "data": {
      "text/plain": [
       "True"
      ]
     },
     "execution_count": 2,
     "metadata": {},
     "output_type": "execute_result"
    }
   ],
   "source": [
    "import nltk\n",
    "nltk.download('punkt')"
   ]
  },
  {
   "cell_type": "markdown",
   "metadata": {},
   "source": [
    "### To use this notebook, please paste your API keys below. Optionally, enable Langsmith tracing where AI models are used.\n",
    "### Norėdami naudotis šia Jupyter užrašine, įveskite savo API raktus žemiau.  Jei norite, įjunkite Langsmith resursu ir eigos sekimą ten, kur naudojami DI modeliai."
   ]
  },
  {
   "cell_type": "code",
   "execution_count": 3,
   "metadata": {},
   "outputs": [],
   "source": [
    "os.environ[\"LANGCHAIN_API_KEY\"] = ''\n",
    "os.environ[\"LANGCHAIN_TRACING_V2\"]=\"false\"\n",
    "os.environ[\"LANGCHAIN_ENDPOINT\"]= \"https://api.langchain.plus\"\n",
    "os.environ[\"LANGCHAIN_PROJECT\"] = \"\"\n",
    "os.environ[\"GROQ_API_KEY\"] = ''"
   ]
  },
  {
   "cell_type": "markdown",
   "metadata": {},
   "source": [
    "## Loading PDF documents from a folder and initializing them as LangChain documents for subsequent preprocessing.\n",
    "## Įkeliami PDF dokumentai iš aplanko ir inicializuojami LangChain dokumentai tolesniam apdorojimui."
   ]
  },
  {
   "cell_type": "code",
   "execution_count": 4,
   "metadata": {
    "scrolled": true
   },
   "outputs": [
    {
     "name": "stdout",
     "output_type": "stream",
     "text": [
      "{'Dokumento_pavadinimas': 'Aukštabalio g. 4, Šiauliai Įėjimo laiptų remontas.pdf'}\n",
      " \n",
      " \n",
      " \n",
      " \n",
      "SKELBIMAS PATEIKTI PASIŪLYMĄ \n",
      "2025-05-28  \n",
      "V24-0218517-29 \n",
      " \n",
      "1. \n",
      "Užsakovas: UAB Mano Būstas Šiauliai įmonės kodas 144619514 \n",
      " \n",
      "2. \n",
      "Objektas: Aukštabalio g. 4, Šiauliai \n",
      " \n",
      "3. \n",
      "Teiktinų paslaugų arba atliktinų darbų pobūdis: \n",
      "                         Įėjimo laiptų, aikštelių remontas. \n",
      " \n",
      "4. \n",
      "Pateiktų dokumentų pavadinimai kainai paskaičiuoti: \n",
      "4.1. \n",
      "Kiekių žiniaraštis, defektinis aktas Nr. DA611289 \n",
      " \n",
      "5. \n",
      "Numatoma darbų/paslaugų pradžios data: 2025 m. III-IV ketvirtis  \n",
      " \n",
      "6. \n",
      "Konkurso sąly\n"
     ]
    }
   ],
   "source": [
    "import os\n",
    "import fitz  \n",
    "from langchain.schema import Document\n",
    "\n",
    "folder_path = 'data'\n",
    "\n",
    "pdf_files = [f for f in os.listdir(folder_path) if f.endswith('.pdf')]\n",
    "\n",
    "documents = []\n",
    "\n",
    "for pdf_file in pdf_files:\n",
    "    pdf_path = os.path.join(folder_path, pdf_file)\n",
    "    text = \"\"\n",
    "    \n",
    "    with fitz.open(pdf_path) as doc:\n",
    "        for page in doc:\n",
    "            text += page.get_text()\n",
    "    \n",
    "    document = Document(\n",
    "        page_content=text,\n",
    "        metadata={\"Dokumento_pavadinimas\": pdf_file}\n",
    "    )\n",
    "    documents.append(document)\n",
    "\n",
    "\n",
    "print(documents[0].metadata)\n",
    "print(documents[0].page_content[:500])"
   ]
  },
  {
   "cell_type": "markdown",
   "metadata": {},
   "source": [
    "### Showing an example of a loaded document\n",
    "### Rodymas įkelto dokumento pavyzdžio"
   ]
  },
  {
   "cell_type": "code",
   "execution_count": 5,
   "metadata": {
    "scrolled": true
   },
   "outputs": [
    {
     "data": {
      "text/plain": [
       "Document(metadata={'Dokumento_pavadinimas': 'Kvietimas pateikti pasiūlymą adresu Liepų g. 28, Klaipėda, dėl stogo remonto darbų.pdf'}, page_content=' \\n \\n \\nSKELBIMAS PATEIKTI PASIŪLYMĄ \\n2025-05-27 \\n \\n \\n1. \\nUžsakovas: UAB Mano Būstas Baltija įmonės kodas  140514359 \\n \\n2. \\nObjektas: Liepų g.   28, Klaipėda \\n \\n3. \\nTeiktinų paslaugų arba atliktinų darbų pobūdis: \\n3.1. Stogo remonto darbai \\n \\n4. \\nPateiktų dokumentų pavadinimai kainai paskaičiuoti: \\n4.1. \\nNUMATOMŲ ATLIKTI DARBŲ ir DEFEKTAVIMO AKTAS  \\n5. \\nKonkurso sąlygos: \\n5.1. Vadovaujantis Lietuvos Respublikos teisės aktais, darbai turi būti atliekami kokybiškai ir suteikiant jiems \\ngarantiją. \\n5.2. Pasiūlymo galiojimo terminas 3 mėnesiai.  \\n5.3. Darbų eigą ir atlikimą pagal atskirą susitarimą fiksuoti per Administratoriaus nurodytą sistemą (e-Paskyra). \\n5.4. Siekiant užtikrinti Rangovo garantinių įsipareigojimų tinkamą vykdymą, taikomos šios sąlygos: \\n5.4.1. Kai Rangovo pasiūlymo kaina yra iki 3000 Eur be PVM, garantinis sulaikymas arba draudimas \\nnereikalaujamas. \\n5.4.2. Kai Rangovo pasiūlymo kaina yra nuo 3001 Eur be PVM iki 15 000 Eur be PVM, Administratorius \\nsulaiko 7 proc. sumą nuo sutarties kainos Eur be PVM darbų garantiniam laikotarpiui. \\n5.4.3. Kai Rangovo pasiūlymo kaina yra didesnė nei 15 001 Eur be PVM - privalomas sutartinių \\nįsipareigojimų garantinio laikotarpio laidavimo draudimas (10% nuo darbų vertės), kuris apimtų nemokumo \\nir bankroto atvejį. Šis draudimas turi galioti ne trumpiau nei darbams taikomas garantinis terminas. \\n5.5. Galutinė pasiūlymo kaina nurodoma su PVM (jeigu įmonė yra PVM mokėtojas). \\n5.6. Pasiūlyme Rangovas pasirenka kokiomis sąlygomis dalyvaus konkurse. \\n5.7. Administratorius vieną kartą į ketvirtį už atliktus darbus Rangovui apmoka tiek, kiek surinko lėšų iš \\ndaugiabučio namo savininkų (gyventojų), t.y. Rangovui tenka visa mokesčių nemokėjimo ir faktinių \\natliekamų darbų gavėjų nemokumo rizika. Jeigu Rangovas pageidauja gauti atsiskaitymą per 45 \\nkalendorines dienas, rangovas gali įsigyti paslaugų paketą, kuris apskaičiuojamas nuo bendros \\npasiūlymo vertės: \\n5.7.1. Techninis konsultavimas dėl darbų optimalaus įgyvendinimo; \\n5.7.2. Projektinės užduoties parengimas; \\n5.7.3. Rangovų atliktų darbų garantinių įsipareigojimų organizavimas; \\n5.7.4. Sertifikavimas (įtraukimas į patikimų rangovų sąrašą); \\n \\n \\n6. \\nReikalavimai kainų apklausos dalyviams: \\n6.1. Rangovas, dalyvaujantis konkurse, turi atitikti šio kvietimo priede Nr. 1 nurodytus reikalavimus ir pateikti tą \\npatvirtinančius dokumentus. Tuo atveju, kai ankstesnių apklausų ar konkursų pagrindu Rangovas jau yra \\npateikęs Priede Nr. 1 nurodytus reikalavimus patvirtinančius dokumentus, o aplinkybės dėl šių reikalavimų \\natitikimo nėra pasikeitusios, Rangovas neprivalo teikti jų pakartotinai. Pasibaigus pateiktų dokumentų \\ngaliojimo terminui arba pasikeitus galiojančių dokumentų turiniui ar apimčiai, Rangovas privalo apie tai \\ninformuoti Užsakovą ir pateikti galiojančias dokumentų versijas.   \\n6.2. Rangovas teikdamas pasiūlymą patvirtina, kad jam yra žinoma, jog jei pagal galiojančius teisės aktus \\natlikti Darbus yra būtinos licencijos, atestatai ar leidimai, Rangovas įsipareigoja laiku gauti visus reikiamus \\nleidimus, sutikimus ir kitus dokumentus Darbų atlikimui ir užbaigimui. \\n6.3. Rangovas pasiūlymo pateikimo dieną privalo būti įvykdęs įsipareigojimus, susijusius su mokesčių, socialinio \\ndraudimo įmokų mokėjimu. Rangovas laikomas įvykdžiusiu įsipareigojimus, susijusius su mokesčių \\nmokėjimu, jeigu jo neįvykdytų įsipareigojimų suma yra mažesnė kaip 50 Eur. Užsakovas atitiktį šiam \\nreikalavimui tikrins viešai prieinamuose registruose. \\n6.4. Jeigu Rangovas ketina pasitelkti subrangovus ar kitus ūkio subjektus pirkimo sutarties vykdymui, Rangovas \\njuos privalo nurodyti pasiūlymo pateikimo metu. \\n5.7.5. Marketinginės (patikimų rangovų sąrašo viešinimas) paslaugos; \\n[Type here] \\n \\n \\n6.5. Rangovas, teikdamas pasiūlymą, privalo pateikti informaciją apie dalyvavimą teisminiuose procesuose kaip \\natsakovas dėl Rangovo vykdomos veiklos (pvz. sutartinių įsipareigojimų netinkamo vykdymo ir pan.) per \\npaskutinius trejus metus iki pasiūlymų pateikimo termino paskutinės dienos. \\n6.6. Rangovas, teikdamas pasiūlymą patvirtina, kad yra susipažinęs su City Service SE įmonių grupės Partnerių \\nelgesio kodeksu bei Mano Būstas įmonių grupės Subjektų įtraukimo į nepatikimų subjektų sąrašą tvarkos \\naprašu (City Service SE įmonių grupės Partnerių elgesio kodeksas ir Mano Būstas įmonių grupės Subjektų \\nįtraukimo į nepatikimų subjektų sąrašą tvarkos aprašas).  \\n \\n7. \\nPasiūlymų vertinimo kriterijai ir sąlygos: \\n \\n7.1. Vertinami tik tie pasiūlymai ir jį pateikęs dalyviai, kurie atitinka šiame Kvietime aukščiau nurodytus \\nreikalavimus. Reikalavimų neatitinkantys pasiūlymai nevertinami. \\n7.2. Kainų apklausos reikalavimus atitinkantys pasiūlymai vertinami vadovaujantis mažiausiu kainos kriterijumi. \\n \\n8. Jei pasiūlyme nebus nurodytos pastabos, bus priimama, kad pasiūlymas galioja pagal visas konkurso \\nsąlygas. \\n \\n9.  Pasiūlymą pateikti iki  2025-06-11 d.  12 val. \\n \\n10. Pasiūlymo pateikimo būdas: renata@pirkimucentras.lt \\n \\n11. Pasiūlymų vertinimo vieta, data, laikas (valanda): Mano būstas Klaipėda, Kuosų g. 18-1, Klaipėda \\n2025-06-11 d. 14 val. \\n \\n \\nDėl papildomos informacijos kreiptis el. paštu. renata@pirkimucentras.lt \\n \\n \\n \\n \\n \\n \\n \\n \\n \\n \\n \\n \\n \\n \\n \\n \\n \\n \\n \\n \\n \\n \\n \\n \\nPriedas Nr. 1. Reikalavimai Rangovams \\nNr. \\nDarbų sritis \\nDarbų grupė \\nDarbų pavadinimai \\nKvalifikacijos reikalavimai \\nKvalifikacijos reikalavimus patvirtinantys \\ndokumentai \\n1 \\nBendrastatybiniai \\n(BST) darbai \\nPlokščio stogo \\nremonto darbų \\n• Plokščio stogo bituminės \\nhidroizoliacinės dangos \\nklojimas; \\n• Plokščio stogo šiltinimo darbai; \\n• Parapetų apskardinimo darbai; \\n• Lietaus trapų, įlajų, stovų \\nkeitimo darbai; \\n• Patalpų oro vėdinimo kaminų \\nįrengimas; \\n• Ir kiti, priklausantys šiai darbų \\ngrupei, darbai. \\n1. SSVA arba SPSC įmonės atestatas:  \\nteisė būti ypatingojo statinio statybos rangovu. \\nStatiniai:  \\ngyvenamieji ir negyvenamieji pastatai. \\nStatybos darbų sritys:  \\nbendrieji statybos darbai (stogų įrengimas; apdailos darbai; \\nstatinio vandentiekio ir nuotekų šalinimo inžinerinių sistemų \\nįrengimas) - priklausomai nuo konkrečių darbų pobūdžio. \\nPASTABA: Jei neypatingas statinys yra KPD zonoje, \\nrangovas privalo turėti pirmiau nurodytą atestatą. \\n1. SSVA arba SPSC rangovo kvalifikacijos \\natestato kopija arba nuoroda į jo viešai \\nprieinamame šaltinyje pateikiamą išrašą. \\n(Išrašas iš statybos veiklos įmonių \\nkvalifikacijos atestatų ir teisės pripažinimo \\ndokumentų registro) \\n2. Darbams turi vadovauti atestuotas statybos vadovas:  \\nStatybos darbų sritys: bendrieji statybos darbai. \\nStatiniai: gyvenamieji ir negyvenamieji pastatai, \\ntaip pat statiniai, esantys kultūros paveldo objekto \\nteritorijoje, jo apsaugos zonoje, kultūros paveldo vietovėje - \\njei darbų objektas yra KPD arba KP zonoje. \\n2. SSVA  arba SPSC specialisto kvalifikacijos \\natestato kopija arba nuoroda į jo viešai \\nprieinamame šaltinyje pateikiamą išrašą. \\n(Išrašas iš statybos veiklos įmonių \\nkvalifikacijos atestatų ir teisės pripažinimo \\ndokumentų registro) \\n2 \\nBST darbai \\nŠlaitinio stogo \\nremonto darbų \\n• Šlaitinio stogo konstrukcijų \\nremonto darbai; \\n• Čerpių dangos įrengimo darbai; \\n• Plieninės profiliuotos dangos \\nįrengimo darbai; \\n• \"Classic\" plieninės dangos \\nįrengimo darbai; \\n• Pastato išorėje lietaus latakų ir \\nstovų keitimo - įrengimo \\n1. SSVA arba SPSC įmonės atestatas:  \\nteisė būti ypatingojo statinio statybos rangovu.  \\nStatiniai:  \\ngyvenamieji ir negyvenamieji pastatai.  \\nStatybos darbų sritys:  \\nbendrieji statybos darba (stogų įrengimas; apdailos darbai; \\nstatinio vandentiekio ir nuotekų šalinimo inžinerinių sistemų \\nįrengimas)  - priklausomai nuo konkrečių darbų pobūdžio.  \\nPASTABA: Jei neypatingas statinys yra KPD zonoje, \\nrangovas privalo turėti pirmiau nurodytą atestatą. \\n1. SSVA arba SPSC rangovo kvalifikacijos \\natestato kopija arba nuoroda į jo viešai \\nprieinamame šaltinyje pateikiamą išrašą. \\n(Išrašas iš statybos veiklos įmonių \\nkvalifikacijos atestatų ir teisės pripažinimo \\ndokumentų registro) \\n[Type here] \\n \\n \\ndarbai; \\n• Tūrinio stogo švieslangio \\nįrengimas; \\n• Mūro kaminų remontas; \\n• Ir kiti, priklausantys šiai darbų \\ngrupei, darbai. \\n2. Darbams turi vadovauti atestuotas statybos vadovas:  \\nStatybos darbų sritys: bendrieji statybos darbai. \\nStatiniai: gyvenamieji ir negyvenamieji pastatai, \\ntaip pat statiniai, esantys kultūros paveldo objekto \\nteritorijoje, jo apsaugos zonoje, kultūros paveldo vietovėje - \\njei darbų objektas yra KPD arba KP zonoje. \\n2. SSVA  arba SPSC specialisto kvalifikacijos \\natestato kopija arba nuoroda į jo viešai \\nprieinamame šaltinyje pateikiamą išrašą. \\n(Išrašas iš statybos veiklos įmonių \\nkvalifikacijos atestatų ir teisės pripažinimo \\ndokumentų registro) \\n3 \\nBST darbai \\nFasadų \\nšiltinimo ir \\napdailos \\nįrengimo darbų \\n• Ventiliuojamo fasado remonto \\ndarbai (apdailinių plokščių \\nkeitimas, apšiltinimo medžiagos \\nkeitimas, skardos elementų ir \\naliumininės konstrukcijos \\nremonto darbai); \\n• Tinkuojamo fasado remonto \\ndarbai (apšiltinimo medžiagos \\nremonto/keitimo darbai, tinko \\narmavimo/remonto darbai, \\ndažymo darbai, klinkerio \\nplytelių klijavimo darbai); \\n• Siūlių remonto darbai \\n(apšiltinta siūlė ir neapšiltinta \\nsiūlė); \\n• Ir kiti, priklausantys šiai darbų \\ngrupei, darbai. \\n1. SSVA arba SPSC įmonės atestatas:  \\nteisė būti ypatingojo statinio statybos rangovu. \\nStatiniai: \\ngyvenamieji ir negyvenamieji pastatai.  \\nStatybos darbų sritys:  \\nbendrieji statybos darbai. \\nPASTABA: Jei neypatingas statinys yra KPD zonoje, \\nrangovas privalo turėti pirmiau nurodytą atestatą. \\n1. SSVA arba SPSC rangovo kvalifikacijos \\natestato kopija arba nuoroda į jo viešai \\nprieinamame šaltinyje pateikiamą išrašą. \\n(Išrašas iš statybos veiklos įmonių \\nkvalifikacijos atestatų ir teisės pripažinimo \\ndokumentų registro) \\n2. Darbams turi vadovauti atestuotas statybos vadovas:  \\nStatybos darbų sritys: bendrieji statybos darbai. \\nStatiniai: gyvenamieji ir negyvenamieji pastatai, \\ntaip pat statiniai, esantys kultūros paveldo objekto \\nteritorijoje, jo apsaugos zonoje, kultūros paveldo vietovėje - \\njei darbų objektas yra KPD arba KP zonoje. \\n2. SSVA  arba SPSC specialisto kvalifikacijos \\natestato kopija arba nuoroda į jo viešai \\nprieinamame šaltinyje pateikiamą išrašą. \\n(Išrašas iš statybos veiklos įmonių \\nkvalifikacijos atestatų ir teisės pripažinimo \\ndokumentų registro) \\n4 \\nBST darbai \\nBetonavimo \\ndarbų \\n• Grindų balkonuose ir kiti \\nbetonavimo darbai; \\n• Ir kiti, priklausantys šiai darbų \\ngrupei, darbai. \\n1. SSVA arba SPSC įmonės atestatas:  \\nteisė būti ypatingojo statinio statybos rangovu. \\nStatiniai: \\ngyvenamieji ir negyvenamieji pastatai. \\nStatybos darbų sritys:  \\nbendrieji statybos darbai. \\nPASTABA: Jei neypatingas statinys yra KPD zonoje, \\nrangovas privalo turėti pirmiau nurodytą atestatą. \\n1. SSVA arba SPSC rangovo kvalifikacijos \\natestato kopija arba nuoroda į jo viešai \\nprieinamame šaltinyje pateikiamą išrašą. \\n(Išrašas iš statybos veiklos įmonių \\nkvalifikacijos atestatų ir teisės pripažinimo \\ndokumentų registro) \\n \\n \\n2. Darbams turi vadovauti atestuotas statybos vadovas:  \\nStatybos darbų sritys: bendrieji statybos darbai. \\nStatiniai: gyvenamieji ir negyvenamieji pastatai, \\ntaip pat statiniai, esantys kultūros paveldo objekto \\nteritorijoje, jo apsaugos zonoje, kultūros paveldo vietovėje - \\njei darbų objektas yra KPD arba KP zonoje. \\n2. SSVA  arba SPSC specialisto kvalifikacijos \\natestato kopija arba nuoroda į jo viešai \\nprieinamame šaltinyje pateikiamą išrašą. \\n(Išrašas iš statybos veiklos įmonių \\nkvalifikacijos atestatų ir teisės pripažinimo \\ndokumentų registro) \\n5 \\nBST darbai \\nMetalo \\nkonstrukcijų \\nmontavimo \\ndarbų \\n• Balkono laikančių plieno sijų \\nremonto darbai; \\n• Plieno rėmų montavimo darbai; \\n• Ir kiti, priklausantys šiai darbų \\ngrupei, darbai. \\n1. SSVA arba SPSC įmonės atestatas:  \\nteisė būti ypatingojo statinio statybos rangovu.  \\nStatiniai: \\ngyvenamieji ir negyvenamieji pastatai. \\nStatybos darbų sritys:  \\nbendrieji statybos darbai. \\nPASTABA: Jei neypatingas statinys yra KPD zonoje, \\nrangovas privalo turėti pirmiau nurodytą atestatą. \\n1. SSVA arba SPSC rangovo kvalifikacijos \\natestato kopija arba nuoroda į jo viešai \\nprieinamame šaltinyje pateikiamą išrašą. \\n(Išrašas iš statybos veiklos įmonių \\nkvalifikacijos atestatų ir teisės pripažinimo \\ndokumentų registro) \\n2. Darbams turi vadovauti atestuotas statybos vadovas:  \\nStatybos darbų sritys: bendrieji statybos darbai. \\nStatiniai: gyvenamieji ir negyvenamieji pastatai, \\ntaip pat statiniai, esantys kultūros paveldo objekto \\nteritorijoje, jo apsaugos zonoje, kultūros paveldo vietovėje - \\njei darbų objektas yra KPD arba KP zonoje. \\n2. SSVA  arba SPSC specialisto kvalifikacijos \\natestato kopija arba nuoroda į jo viešai \\nprieinamame šaltinyje pateikiamą išrašą. \\n(Išrašas iš statybos veiklos įmonių \\nkvalifikacijos atestatų ir teisės pripažinimo \\ndokumentų registro) \\n6 \\nBST darbai \\nMūro darbų \\n• Stogo mūro kaminų remontas; \\n• Ir kiti, priklausantys šiai darbų \\ngrupei, darbai. \\n1. SSVA arba SPSC įmonės atestatas:  \\nteisė būti ypatingojo statinio statybos rangovu.  \\nStatiniai: \\ngyvenamieji ir negyvenamieji pastatai. \\nStatybos darbų sritys:  \\nbendrieji statybos darbai. \\nPASTABA: Jei neypatingas statinys yra KPD zonoje, \\nrangovas privalo turėti pirmiau nurodytą atestatą. \\n1. SSVA arba SPSC rangovo kvalifikacijos \\natestato kopija arba nuoroda į jo viešai \\nprieinamame šaltinyje pateikiamą išrašą. \\n(Išrašas iš statybos veiklos įmonių \\nkvalifikacijos atestatų ir teisės pripažinimo \\ndokumentų registro) \\n2. Darbams turi vadovauti atestuotas statybos vadovas:  \\nStatybos darbų sritys: bendrieji statybos darbai. \\nStatiniai: gyvenamieji ir negyvenamieji pastatai, \\ntaip pat statiniai, esantys kultūros paveldo objekto \\nteritorijoje, jo apsaugos zonoje, kultūros paveldo vietovėje - \\njei darbų objektas yra KPD arba KP zonoje. \\n2. SSVA  arba SPSC specialisto kvalifikacijos \\natestato kopija arba nuoroda į jo viešai \\nprieinamame šaltinyje pateikiamą išrašą. \\n(Išrašas iš statybos veiklos įmonių \\nkvalifikacijos atestatų ir teisės pripažinimo \\ndokumentų registro) \\n7 \\nBST darbai \\nĮėjimo laiptų ir \\naikštelių \\nmontavimo \\n• Gelžbetoninių elementų \\nkeitimas; \\n• Metalinių konstrukcijų \\nsurinkimo darbai (laiptasijos, \\natramos, turėklai ir t.t.); \\n• Ir kiti, priklausantys šiai darbų \\ngrupei, darbai. \\n1. Darbams turi vadovauti atestuotas statybos vadovas:  \\nStatybos darbų sritys: bendrieji statybos darbai. \\nStatiniai: gyvenamieji ir negyvenamieji pastatai, \\ntaip pat statiniai, esantys kultūros paveldo objekto \\nteritorijoje, jo apsaugos zonoje, kultūros paveldo vietovėje. \\n1. SSVA  arba SPSC specialisto kvalifikacijos \\natestato kopija arba nuoroda į jo viešai \\nprieinamame šaltinyje pateikiamą išrašą. \\n(Išrašas iš statybos veiklos įmonių \\nkvalifikacijos atestatų ir teisės pripažinimo \\ndokumentų registro) \\n[Type here] \\n \\n \\n8 \\nBST darbai \\nLaiptinės ir \\nrūsio durų, \\nlangų \\nmontavimas \\n• Laiptinės ir rūsio metalinių \\ndurų ir PVC langų montavimas \\n/keitimas; \\n• Ir kiti, priklausantys šiai darbų \\ngrupei, darbai. \\n1. Darbams turi vadovauti atestuotas statybos vadovas:  \\nStatybos darbų sritys: bendrieji statybos darbai. \\nStatiniai: gyvenamieji ir negyvenamieji pastatai, \\ntaip pat statiniai, esantys kultūros paveldo objekto \\nteritorijoje, jo apsaugos zonoje, kultūros paveldo vietovėje - \\njei darbų objektas yra KPD arba KP zonoje. \\n1. SSVA  arba SPSC specialisto kvalifikacijos \\natestato kopija arba nuoroda į jo viešai \\nprieinamame šaltinyje pateikiamą išrašą. \\n(Išrašas iš statybos veiklos įmonių \\nkvalifikacijos atestatų ir teisės pripažinimo \\ndokumentų registro) \\n9 \\nBST darbai \\nLaiptinės vidaus \\nremonto darbai \\n• Lubų remontas (perdažymas, \\npadengimas dekoratyviniu \\ntinku); \\n• Sienų remontas (perdažymas, \\npadengimas dekoratyviniu \\ntinku); \\n• Laiptų aikštelių ir pakopų \\nremontas (paviršiaus \\npadengimas epoksidine danga, \\nplytelių klijavimas); \\n• Turėklų remontas \\n(trūkstamų/sulankstytų stipinų \\nįvirinimas, perdažymas, \\nguminio/medinio porankių \\nsumontavimas); \\n• Elektros skydelių durų \\nremontas (smulkūs remontas ir \\nperdažymas); \\n• Ir kiti, priklausantys šiai darbų \\ngrupei, darbai. \\n1. SSVA arba SPSC įmonės atestatas:  \\nteisė būti ypatingojo statinio statybos rangovu. \\nStatiniai:  \\ngyvenamieji ir negyvenamieji pastatai.  \\nStatybos darbų sritys:  \\nbendrieji statybos darbai (apdailos darbai). \\nPASTABA: Jei neypatingas statinys yra KPD zonoje, \\nrangovas privalo turėti pirmiau nurodytą atestatą. \\n1. SSVA arba SPSC rangovo kvalifikacijos \\natestato kopija arba nuoroda į jo viešai \\nprieinamame šaltinyje pateikiamą išrašą. \\n(Išrašas iš statybos veiklos įmonių \\nkvalifikacijos atestatų ir teisės pripažinimo \\ndokumentų registro) \\n2. Darbams turi vadovauti atestuotas statybos vadovas:  \\nStatybos darbų sritys: bendrieji statybos darbai. \\nStatiniai: gyvenamieji ir negyvenamieji pastatai, \\ntaip pat statiniai, esantys kultūros paveldo objekto \\nteritorijoje, jo apsaugos zonoje, kultūros paveldo vietovėje - \\njei darbų objektas yra KPD arba KP zonoje. \\n2. SSVA  arba SPSC specialisto kvalifikacijos \\natestato kopija arba nuoroda į jo viešai \\nprieinamame šaltinyje pateikiamą išrašą. \\n(Išrašas iš statybos veiklos įmonių \\nkvalifikacijos atestatų ir teisės pripažinimo \\ndokumentų registro) \\n10 \\nBST darbai \\nCokolio \\nremonto darbai \\n• Tinkavimas, dažymas; \\n• Ir kiti, priklausantys šiai darbų \\ngrupei, darbai. \\n1. SSVA arba SPSC įmonės atestatas:  \\nteisė būti ypatingojo statinio statybos rangovu. \\nStatiniai:  \\ngyvenamieji ir negyvenamieji pastatai. \\nStatybos darbų sritys:  \\nbendrieji statybos darbai (žemės darbai; statybinių \\nkonstrukcijų montavimas; apdailos darbai)  - priklausomai \\nnuo konkrečių darbų pobūdžio. \\nPASTABA: Jei neypatingas statinys yra KPD zonoje, \\nrangovas privalo turėti pirmiau nurodytą atestatą. \\n1. SSVA arba SPSC rangovo kvalifikacijos \\natestato kopija arba nuoroda į jo viešai \\nprieinamame šaltinyje pateikiamą išrašą. \\n(Išrašas iš statybos veiklos įmonių \\nkvalifikacijos atestatų ir teisės pripažinimo \\ndokumentų registro) \\n2. Darbams turi vadovauti atestuotas statybos vadovas:  \\nStatybos darbų sritys: bendrieji statybos darbai. \\nStatiniai: gyvenamieji ir negyvenamieji pastatai, \\ntaip pat statiniai, esantys kultūros paveldo objekto \\nteritorijoje, jo apsaugos zonoje, kultūros paveldo vietovėje - \\n2. SSVA  arba SPSC specialisto kvalifikacijos \\natestato kopija arba nuoroda į jo viešai \\nprieinamame šaltinyje pateikiamą išrašą. \\n(Išrašas iš statybos veiklos įmonių \\nkvalifikacijos atestatų ir teisės pripažinimo \\n \\n \\njei darbų objektas yra KPD arba KP zonoje. \\ndokumentų registro) \\n11 \\nBST darbai \\nNuogrindos \\nremonto darbai \\n• Nuogrindos nuolydžio \\nformavimas ir trūkstamos/ \\npažeistos dangos \\nsumontavimas; \\n• Ir kiti, priklausantys šiai darbų \\ngrupei, darbai. \\n1. SSVA arba SPSC įmonės atestatas:  \\nteisė būti ypatingojo statinio statybos rangovu. \\nStatiniai:  \\ngyvenamieji ir negyvenamieji pastatai. \\nStatybos darbų sritys:  \\nbendrieji statybos darbai (žemės darbai; statybinių \\nkonstrukcijų montavimas; apdailos darbai)  - priklausomai \\nnuo konkrečių darbų pobūdžio. \\nPASTABA: Jei neypatingas statinys yra KPD zonoje, \\nrangovas privalo turėti pirmiau nurodytą atestatą. \\n1. SSVA arba SPSC rangovo kvalifikacijos \\natestato kopija arba nuoroda į jo viešai \\nprieinamame šaltinyje pateikiamą išrašą. \\n(Išrašas iš statybos veiklos įmonių \\nkvalifikacijos atestatų ir teisės pripažinimo \\ndokumentų registro) \\n2. Darbams turi vadovauti atestuotas statybos vadovas:  \\nStatybos darbų sritys: bendrieji statybos darbai. \\nStatiniai: gyvenamieji ir negyvenamieji pastatai, \\ntaip pat statiniai, esantys kultūros paveldo objekto \\nteritorijoje, jo apsaugos zonoje, kultūros paveldo vietovėje - \\njei darbų objektas yra KPD arba KP zonoje. \\n2. SSVA  arba SPSC specialisto kvalifikacijos \\natestato kopija arba nuoroda į jo viešai \\nprieinamame šaltinyje pateikiamą išrašą. \\n(Išrašas iš statybos veiklos įmonių \\nkvalifikacijos atestatų ir teisės pripažinimo \\ndokumentų registro) \\n12 \\nBST darbai \\nBalkonų/terasų/\\nlodžijų remonto \\ndarbai \\n• Balkonuose apdailos remonto \\ndarbai; \\n• Balkonuose hidroizoliacijos \\nįrengimo darbai; \\n• Balkono atitvaro remonto \\ndarbai; \\n• Balkono stogelių remonto \\ndarbai; \\n• Balkono pado remontas; \\n• Balkono skardinių elementų \\nkeitimas; \\n• Ir kiti, priklausantys šiai darbų \\ngrupei, darbai. \\n1. SSVA arba SPSC įmonės atestatas:  \\nteisė būti ypatingojo statinio statybos rangovu.  \\nStatiniai: \\ngyvenamieji ir negyvenamieji pastatai. \\nStatybos darbų sritys:  \\nbendrieji statybos darbai. \\nPASTABA: Jei neypatingas statinys yra KPD zonoje, \\nrangovas privalo turėti pirmiau nurodytą atestatą. \\n1. SSVA arba SPSC rangovo kvalifikacijos \\natestato kopija arba nuoroda į jo viešai \\nprieinamame šaltinyje pateikiamą išrašą. \\n(Išrašas iš statybos veiklos įmonių \\nkvalifikacijos atestatų ir teisės pripažinimo \\ndokumentų registro) \\n2. Darbams turi vadovauti atestuotas statybos vadovas:  \\nStatybos darbų sritys: bendrieji statybos darbai. \\nStatiniai: gyvenamieji ir negyvenamieji pastatai, \\ntaip pat statiniai, esantys kultūros paveldo objekto \\nteritorijoje, jo apsaugos zonoje, kultūros paveldo vietovėje - \\njei darbų objektas yra KPD arba KP zonoje. \\n2. SSVA  arba SPSC specialisto kvalifikacijos \\natestato kopija arba nuoroda į jo viešai \\nprieinamame šaltinyje pateikiamą išrašą. \\n(Išrašas iš statybos veiklos įmonių \\nkvalifikacijos atestatų ir teisės pripažinimo \\ndokumentų registro) \\n[Type here] \\n \\n \\n13 \\nBST darbai \\nSąramų keitimo \\ndarbai \\n• Gelžbetoninių sąramų keitimo \\ndarbai; \\n• Gelžbetoninių sąramų remonto \\ndarbai su remontiniais \\nmišiniais; \\n• Plieninių sąramų įrengimas; \\n• Ir kiti, priklausantys šiai darbų \\ngrupei, darbai. \\n1. SSVA arba SPSC įmonės atestatas:  \\nteisė būti ypatingojo statinio statybos rangovu.  \\nStatiniai: \\ngyvenamieji ir negyvenamieji pastatai. \\nStatybos darbų sritys:  \\nbendrieji statybos darbai (statybinių konstrukcijų \\nmontavimas (g/b, metalo, mūro). \\nPASTABA: Jei neypatingas statinys yra KPD zonoje, \\nrangovas privalo turėti pirmiau nurodytą atestatą. \\n1. SSVA arba SPSC rangovo kvalifikacijos \\natestato kopija arba nuoroda į jo viešai \\nprieinamame šaltinyje pateikiamą išrašą. \\n(Išrašas iš statybos veiklos įmonių \\nkvalifikacijos atestatų ir teisės pripažinimo \\ndokumentų registro) \\n2. Darbams turi vadovauti atestuotas statybos vadovas:  \\nStatybos darbų sritys: bendrieji statybos darbai. \\nStatiniai: gyvenamieji ir negyvenamieji pastatai, \\ntaip pat statiniai, esantys kultūros paveldo objekto \\nteritorijoje, jo apsaugos zonoje, kultūros paveldo vietovėje - \\njei darbų objektas yra KPD arba KP zonoje. \\n2. SSVA  arba SPSC specialisto kvalifikacijos \\natestato kopija arba nuoroda į jo viešai \\nprieinamame šaltinyje pateikiamą išrašą. \\n(Išrašas iš statybos veiklos įmonių \\nkvalifikacijos atestatų ir teisės pripažinimo \\ndokumentų registro) \\n14 \\nElektros sistemos \\nBendro \\nnaudojimo \\nelektros sistemų \\nremonto darbai \\n• Daugiabučio gyvenamojo namo \\nelektros ūkio remonto darbai; \\n• Ir kiti, priklausantys šiai darbų \\ngrupei, darbai. \\n1. Rangovas - juridinis asmuo (UAB, MB ir kiti): \\nAtestatas energetikos įrenginiams eksploatuoti - Elektros \\ninstaliacijos iki 1000 V eksploatavimo darbai. \\nRangovas - fizinis asmuo (Individuali veikla): \\nEnergetikos darbuotojo pažymėjimas (Vidutinė kategorija, \\nįtampa iki 1000V). \\n1. Rangovas - juridinis asmuo (UAB, MB ir \\nkiti): \\nValstybinės energetikos reguliavimo tarybos \\nprie LR energetikos ministerijos išduotas \\natestatas (elektros instaliacijos iki 1000V \\neksploatavimo darbai \\nRangovas - fizinis asmuo (Individuali veikla): \\nSertifikavimo įstaigos išduotas energetikos \\ndarbuotojo kvalifikacijos pažymėjimas (Visi \\nobjekte dirbantys darbuotojai privalo turėti šį \\npažymėjai). \\n15 \\nElektros sistemos \\nSilpnų srovių \\nsistemų \\nremonto darbai \\n• Telefonspynių, priešgaisrinių, \\nvėdinimo, vaizdo stebėjimo \\nsistemų remonto/įrengimo;  \\n• Ir kiti, priklausantys šiai darbų \\ngrupei, darbai. \\n1. Energetikos darbuotojo pažymėjimas (Vidutinė kategorija, \\nįtampa iki 1000V). \\n1. Sertifikavimo įstaigos išduotas energetikos \\ndarbuotojo kvalifikacijos pažymėjimas. \\n16 \\nŠildymo \\nsistemos \\nŠildymo ir \\nkaršto vandens \\nsistemų \\nremonto darbai \\n• Visi priklausantys šiai darbo \\ngrupei, darbai \\n1. Rangovas - juridinis asmuo (UAB, MB ir kiti): \\nAtestatas energetikos įrenginiams eksploatuoti - Šilumos \\npunktų iki 1 MW (kartu su pastatų šildymo ir karšto vandens \\nsistemomis) eksploatavimo darbai; \\nRangovas - fizinis asmuo (Individuali veikla): \\nEnergetikos darbuotojo pažymėjimas - Šilumos įrenginius \\n(iki ir daugiau 1MW galios, šilumos tiekimo tinklus iki 500 \\nmm ir didesnio sąlyginio skersmens DN) eksploatuojantis \\ndarbininkas. (Atestavimo sritis ir suteikiamos teisės - \\neksploatuoti, t.y. technologiškai valdyti, techniškai \\nprižiūrėti, remontuoti, matuoti, bandyti, paleisti ir derinti, \\npirmiau nurodytus įrenginius ir tinklus) \\n1. Rangovas - juridinis asmuo (UAB, MB ir \\nkiti): \\nValstybinės energetikos reguliavimo tarybos \\nprie LR energetikos ministerijos išduotas \\natestatas (nurodytos reikalavimuose arba \\naukštesnės kategorijos) \\nRangovas - fizinis asmuo (Individuali veikla): \\nSertifikavimo įstaigos išduotas energetikos \\ndarbuotojo kvalifikacijos pažymėjimas. \\n \\n \\n17 \\nLiftai \\nLiftų remonto \\nar keitimo \\ndarbai \\n• Lifto remontas; \\n• Lifto keitimas; \\n• Ir kiti, priklausantys šiai darbų \\ngrupei, darbai; \\n• Ir kiti, priklausantys šiai darbų \\ngrupei, darbai. \\n  \\n1. Nuolatinės potencialiai pavojingų įrenginių priežiūros \\nlicencija - \"Potencialiai pavojingų įrenginių nuolatinė \\npriežiūra \\\\ Liftų ir jų įrangos (5 grupė) nuolatinė priežiūra\" \\n1. Lietuvos Respublikos valstybinės darbo \\ninspekcijos prie Socialinės apsaugos ir darbo \\nministerijos išduota Nuolatinės potencialiai \\npavojingų įrenginių priežiūros licencija \\n2. SSVA arba SPSC įmonės atestatas:  \\nteisė būti ypatingojo statinio statybos rangovu;  \\nStatiniai:  \\ngyvenamieji ir negyvenamieji pastatai;  \\nStatybos darbų sritys:  \\nbendrieji statybos darbai; \\nPASTABA: Jei neypatingas statinys yra KPD zonoje, \\nrangovas privalo turėti pirmiau nurodytą atestatą. \\n2. SSVA arba SPSC rangovo kvalifikacijos \\natestato kopija arba nuoroda į jo viešai \\nprieinamame šaltinyje pateikiamą išrašą. \\n(Išrašas iš statybos veiklos įmonių \\nkvalifikacijos atestatų ir teisės pripažinimo \\ndokumentų registro) \\n3. Darbams turi vadovauti atestuotas statybos vadovas:  \\nStatybos darbų sritys: bendrieji statybos darbai. \\nStatiniai: gyvenamieji ir negyvenamieji pastatai, \\ntaip pat statiniai, esantys kultūros paveldo objekto \\nteritorijoje, jo apsaugos zonoje, kultūros paveldo vietovėje - \\njei darbų objektas yra KPD arba KP zonoje. \\n3. SSVA  arba SPSC specialisto kvalifikacijos \\natestato kopija arba nuoroda į jo viešai \\nprieinamame šaltinyje pateikiamą išrašą. \\n(Išrašas iš statybos veiklos įmonių \\nkvalifikacijos atestatų ir teisės pripažinimo \\ndokumentų registro) \\n4. Atestatas energetikos įrenginiams eksploatuoti - \"Elektros \\ninstaliacijos iki 1000 V eksploatavimo darbai\" ir \\n\"Specialiųjų elektros įrenginių eksploatavimo darbai\"; \\n4. Valstybinės energetikos reguliavimo \\ntarybos prie LR energetikos ministerijos \\nišduotas atestatas (\"Elektros instaliacijos iki \\n1000 V eksploatavimo darbai\" ir \"Specialiųjų \\nelektros įrenginių eksploatavimo darbai\") \\n5. Rangovas turi turėti atstovavimo teisę Liftų gamintojui \\n(jei pats nėra gamintojas) arba turėti bendradarbiavimo \\nsutartį su ūkio subjektu, turinčiu minėtą teisę. \\n5. Liftų gamintojo išduotas dokumentas, \\npatvirtinantis Rangovo atstovavimo teisę \\ngamintojui arba bendradarbiavimo sutartis su \\nūkio subjektu, turinčiu atstovavimo teisę \\ngamintojui. Jei pateikiama bendradarbiavimo \\nsutartis su ūkio subjektu, turinčiu atstovavimo \\nteisę, tai taip pat turėtų būti pridėtas ir ūkio \\nsubjektui išduotas gamintojo įgaliojimas.  \\n6. Rangovas turi turėti teisę atlikti Liftų techninę priežiūrą \\nbei remontą ar turi būti sudaręs sutartį su ūkio subjektu, \\nturinčiu teisę atlikti Liftų techninę priežiūrą bei remontą. \\n6. Gamintojo išduotas dokumentas, \\npatvirtinantis teisę atlikti Liftų techninę \\npriežiūrą ir remontą, o jei sudaryta sutartis su \\nūkio subjektu, turinčiu teisę atlikti Liftų \\ntechninę priežiūrą bei remontą – pateikti ūkio \\nsubjektui išduotą gamintojo dokumentą, \\npatvirtinantį teisę atlikti Liftų techninę \\npriežiūrą bei remontą ir sutartį su ūkio \\nsubjektu.  \\n[Type here] \\n \\n \\n18 \\nVisos \\nDarbai aukštyje \\n• Bendrastatybiniai remonto \\ndarbai aukštyje >1,3 m; \\n• Elektros sistemų remonto \\ndarbai aukštyje >1,3 m; \\n• Valymo darbai aukštyje > 1,3 \\nm; \\n• Ir kiti darbai atliekami \\ndidesniame nei 1,3 m aukštyje. \\nJei darbai atliekami didesniame nei 1,3 m aukštyje: \\n1. Su papildomomis priemonėmis – kopėčios, pastoliai ir \\npan. - aukštalipio, darbo aukštyje ar analogiškas \\npažymėjimas arba sertifikatas; \\n2. Naudojant alpinistinę įrangą - pramoninio alpinizmo \\nsertifikatas arba specialus darbininko kvalifikacijos \\npažymėjimas. \\n3. Naudojant mobiliąją darbinę kėlimo platformą – mobilios \\ndarbinės kėlimo platformos operatoriaus pažymėjimas (šios \\nplatformos operatoriui) ir aukštalipio, darbo aukštyje ar \\nanalogiškas pažymėjimas (asmeniui atliekančiam darbus \\naukštyje). \\n1. Sertifikavimo įstaigos išduotas atitinkamas \\nkvalifikacijos sertifikatas arba pažymėjimas. \\n2. Sertifikavimo įstaigos išduotas atitinkamas \\nkvalifikacijos sertifikatas arba pažymėjimas. \\n3. Sertifikavimo įstaigos išduotas atitinkamas \\nkvalifikacijos sertifikatas arba pažymėjimas. \\n \\n')"
      ]
     },
     "execution_count": 5,
     "metadata": {},
     "output_type": "execute_result"
    }
   ],
   "source": [
    "documents[9]"
   ]
  },
  {
   "cell_type": "markdown",
   "metadata": {},
   "source": [
    "### Preprocessing documents by truncating content before the text \"Priedas nr.1\". Not all documents contain this text, but tables start after this line and are not needed for this project.\n",
    "### Apdorojami dokumentai – apkarpomas turinys iki teksto „Priedas nr.1“. Ne visi dokumentai turi šį tekstą, tačiau po jo prasideda lentelės, kurios nėra reikalingos šiam projektui"
   ]
  },
  {
   "cell_type": "code",
   "execution_count": 6,
   "metadata": {},
   "outputs": [],
   "source": [
    "def cut_before_priedas(text: str) -> str:\n",
    "    marker = \"Priedas Nr. 1.\"\n",
    "    index = text.find(marker)\n",
    "    if index != -1:\n",
    "        return text[:index].rstrip()  # everything before the marker\n",
    "    return text\n",
    "\n",
    "def preprocess_documents(docs: List[Document]) -> List[Document]:\n",
    "    processed_docs = []\n",
    "    for doc in docs:\n",
    "        new_content = cut_before_priedas(doc.page_content)\n",
    "        processed_docs.append(Document(page_content=new_content, metadata=doc.metadata))\n",
    "    return processed_docs"
   ]
  },
  {
   "cell_type": "code",
   "execution_count": 7,
   "metadata": {},
   "outputs": [],
   "source": [
    "processed_docs = preprocess_documents(documents)"
   ]
  },
  {
   "cell_type": "markdown",
   "metadata": {},
   "source": [
    "### Showing an example after preprocessing — the document is now significantly shorter.\n",
    "### Rodymas pavyzdžio po apdorojimo – šis konkretus dokumentas tapo žymiai trumpesnis."
   ]
  },
  {
   "cell_type": "code",
   "execution_count": 8,
   "metadata": {
    "scrolled": true
   },
   "outputs": [
    {
     "data": {
      "text/plain": [
       "Document(metadata={'Dokumento_pavadinimas': 'Kvietimas pateikti pasiūlymą adresu Liepų g. 28, Klaipėda, dėl stogo remonto darbų.pdf'}, page_content=' \\n \\n \\nSKELBIMAS PATEIKTI PASIŪLYMĄ \\n2025-05-27 \\n \\n \\n1. \\nUžsakovas: UAB Mano Būstas Baltija įmonės kodas  140514359 \\n \\n2. \\nObjektas: Liepų g.   28, Klaipėda \\n \\n3. \\nTeiktinų paslaugų arba atliktinų darbų pobūdis: \\n3.1. Stogo remonto darbai \\n \\n4. \\nPateiktų dokumentų pavadinimai kainai paskaičiuoti: \\n4.1. \\nNUMATOMŲ ATLIKTI DARBŲ ir DEFEKTAVIMO AKTAS  \\n5. \\nKonkurso sąlygos: \\n5.1. Vadovaujantis Lietuvos Respublikos teisės aktais, darbai turi būti atliekami kokybiškai ir suteikiant jiems \\ngarantiją. \\n5.2. Pasiūlymo galiojimo terminas 3 mėnesiai.  \\n5.3. Darbų eigą ir atlikimą pagal atskirą susitarimą fiksuoti per Administratoriaus nurodytą sistemą (e-Paskyra). \\n5.4. Siekiant užtikrinti Rangovo garantinių įsipareigojimų tinkamą vykdymą, taikomos šios sąlygos: \\n5.4.1. Kai Rangovo pasiūlymo kaina yra iki 3000 Eur be PVM, garantinis sulaikymas arba draudimas \\nnereikalaujamas. \\n5.4.2. Kai Rangovo pasiūlymo kaina yra nuo 3001 Eur be PVM iki 15 000 Eur be PVM, Administratorius \\nsulaiko 7 proc. sumą nuo sutarties kainos Eur be PVM darbų garantiniam laikotarpiui. \\n5.4.3. Kai Rangovo pasiūlymo kaina yra didesnė nei 15 001 Eur be PVM - privalomas sutartinių \\nįsipareigojimų garantinio laikotarpio laidavimo draudimas (10% nuo darbų vertės), kuris apimtų nemokumo \\nir bankroto atvejį. Šis draudimas turi galioti ne trumpiau nei darbams taikomas garantinis terminas. \\n5.5. Galutinė pasiūlymo kaina nurodoma su PVM (jeigu įmonė yra PVM mokėtojas). \\n5.6. Pasiūlyme Rangovas pasirenka kokiomis sąlygomis dalyvaus konkurse. \\n5.7. Administratorius vieną kartą į ketvirtį už atliktus darbus Rangovui apmoka tiek, kiek surinko lėšų iš \\ndaugiabučio namo savininkų (gyventojų), t.y. Rangovui tenka visa mokesčių nemokėjimo ir faktinių \\natliekamų darbų gavėjų nemokumo rizika. Jeigu Rangovas pageidauja gauti atsiskaitymą per 45 \\nkalendorines dienas, rangovas gali įsigyti paslaugų paketą, kuris apskaičiuojamas nuo bendros \\npasiūlymo vertės: \\n5.7.1. Techninis konsultavimas dėl darbų optimalaus įgyvendinimo; \\n5.7.2. Projektinės užduoties parengimas; \\n5.7.3. Rangovų atliktų darbų garantinių įsipareigojimų organizavimas; \\n5.7.4. Sertifikavimas (įtraukimas į patikimų rangovų sąrašą); \\n \\n \\n6. \\nReikalavimai kainų apklausos dalyviams: \\n6.1. Rangovas, dalyvaujantis konkurse, turi atitikti šio kvietimo priede Nr. 1 nurodytus reikalavimus ir pateikti tą \\npatvirtinančius dokumentus. Tuo atveju, kai ankstesnių apklausų ar konkursų pagrindu Rangovas jau yra \\npateikęs Priede Nr. 1 nurodytus reikalavimus patvirtinančius dokumentus, o aplinkybės dėl šių reikalavimų \\natitikimo nėra pasikeitusios, Rangovas neprivalo teikti jų pakartotinai. Pasibaigus pateiktų dokumentų \\ngaliojimo terminui arba pasikeitus galiojančių dokumentų turiniui ar apimčiai, Rangovas privalo apie tai \\ninformuoti Užsakovą ir pateikti galiojančias dokumentų versijas.   \\n6.2. Rangovas teikdamas pasiūlymą patvirtina, kad jam yra žinoma, jog jei pagal galiojančius teisės aktus \\natlikti Darbus yra būtinos licencijos, atestatai ar leidimai, Rangovas įsipareigoja laiku gauti visus reikiamus \\nleidimus, sutikimus ir kitus dokumentus Darbų atlikimui ir užbaigimui. \\n6.3. Rangovas pasiūlymo pateikimo dieną privalo būti įvykdęs įsipareigojimus, susijusius su mokesčių, socialinio \\ndraudimo įmokų mokėjimu. Rangovas laikomas įvykdžiusiu įsipareigojimus, susijusius su mokesčių \\nmokėjimu, jeigu jo neįvykdytų įsipareigojimų suma yra mažesnė kaip 50 Eur. Užsakovas atitiktį šiam \\nreikalavimui tikrins viešai prieinamuose registruose. \\n6.4. Jeigu Rangovas ketina pasitelkti subrangovus ar kitus ūkio subjektus pirkimo sutarties vykdymui, Rangovas \\njuos privalo nurodyti pasiūlymo pateikimo metu. \\n5.7.5. Marketinginės (patikimų rangovų sąrašo viešinimas) paslaugos; \\n[Type here] \\n \\n \\n6.5. Rangovas, teikdamas pasiūlymą, privalo pateikti informaciją apie dalyvavimą teisminiuose procesuose kaip \\natsakovas dėl Rangovo vykdomos veiklos (pvz. sutartinių įsipareigojimų netinkamo vykdymo ir pan.) per \\npaskutinius trejus metus iki pasiūlymų pateikimo termino paskutinės dienos. \\n6.6. Rangovas, teikdamas pasiūlymą patvirtina, kad yra susipažinęs su City Service SE įmonių grupės Partnerių \\nelgesio kodeksu bei Mano Būstas įmonių grupės Subjektų įtraukimo į nepatikimų subjektų sąrašą tvarkos \\naprašu (City Service SE įmonių grupės Partnerių elgesio kodeksas ir Mano Būstas įmonių grupės Subjektų \\nįtraukimo į nepatikimų subjektų sąrašą tvarkos aprašas).  \\n \\n7. \\nPasiūlymų vertinimo kriterijai ir sąlygos: \\n \\n7.1. Vertinami tik tie pasiūlymai ir jį pateikęs dalyviai, kurie atitinka šiame Kvietime aukščiau nurodytus \\nreikalavimus. Reikalavimų neatitinkantys pasiūlymai nevertinami. \\n7.2. Kainų apklausos reikalavimus atitinkantys pasiūlymai vertinami vadovaujantis mažiausiu kainos kriterijumi. \\n \\n8. Jei pasiūlyme nebus nurodytos pastabos, bus priimama, kad pasiūlymas galioja pagal visas konkurso \\nsąlygas. \\n \\n9.  Pasiūlymą pateikti iki  2025-06-11 d.  12 val. \\n \\n10. Pasiūlymo pateikimo būdas: renata@pirkimucentras.lt \\n \\n11. Pasiūlymų vertinimo vieta, data, laikas (valanda): Mano būstas Klaipėda, Kuosų g. 18-1, Klaipėda \\n2025-06-11 d. 14 val. \\n \\n \\nDėl papildomos informacijos kreiptis el. paštu. renata@pirkimucentras.lt')"
      ]
     },
     "execution_count": 8,
     "metadata": {},
     "output_type": "execute_result"
    }
   ],
   "source": [
    "processed_docs[9]"
   ]
  },
  {
   "cell_type": "markdown",
   "metadata": {},
   "source": [
    "### Checking document lengths to ensure all documents are properly preprocessed.\n",
    "### Tikrinami dokumentų ilgiai, siekiant užtikrinti, kad visi dokumentai būtų tinkamai apdoroti."
   ]
  },
  {
   "cell_type": "code",
   "execution_count": 9,
   "metadata": {},
   "outputs": [],
   "source": [
    "import matplotlib.pyplot as plt\n",
    "import seaborn as sns\n",
    "from langchain.schema import Document  # or your Document class import\n",
    "\n",
    "def plot_document_lengths(docs: List[Document]):\n",
    "    lengths = [len(doc.page_content) for doc in docs]\n",
    "    \n",
    "    print(f\"Min length: {min(lengths)}\")\n",
    "    print(f\"Max length: {max(lengths)}\")\n",
    "    print(f\"Average length: {sum(lengths) / len(lengths):.2f}\")\n",
    "\n",
    "    sns.set(style=\"whitegrid\")\n",
    "    plt.figure(figsize=(10, 6))\n",
    "    sns.histplot(lengths, bins=20, kde=True, color=\"skyblue\")\n",
    "    plt.title(\"Document Character Length Distribution\")\n",
    "    plt.xlabel(\"Character Count\")\n",
    "    plt.ylabel(\"Number of Documents\")\n",
    "    plt.show()"
   ]
  },
  {
   "cell_type": "code",
   "execution_count": 10,
   "metadata": {},
   "outputs": [
    {
     "name": "stdout",
     "output_type": "stream",
     "text": [
      "Min length: 3489\n",
      "Max length: 8057\n",
      "Average length: 4738.72\n"
     ]
    },
    {
     "data": {
      "image/png": "[encoded data removed]",
      "text/plain": [
       "<Figure size 1000x600 with 1 Axes>"
      ]
     },
     "metadata": {},
     "output_type": "display_data"
    }
   ],
   "source": [
    "plot_document_lengths(processed_docs)"
   ]
  },
  {
   "cell_type": "markdown",
   "metadata": {},
   "source": [
    "### One document is exceptionally longer than the others; verifying its preprocessing.\n",
    "### Vienas dokumentas yra išskirtinai ilgesnis nei kiti; tikrinama jo apdorojimo kokybė"
   ]
  },
  {
   "cell_type": "code",
   "execution_count": 11,
   "metadata": {},
   "outputs": [],
   "source": [
    "def print_long_documents(docs: List[Document], min_length: int = 7000):\n",
    "    for doc in docs:\n",
    "        if len(doc.page_content) > min_length:\n",
    "            print(doc.page_content)"
   ]
  },
  {
   "cell_type": "code",
   "execution_count": 12,
   "metadata": {},
   "outputs": [
    {
     "name": "stdout",
     "output_type": "stream",
     "text": [
      " \n",
      " \n",
      " \n",
      " \n",
      " \n",
      "SKELBIMAS PATEIKTI PASIŪLYMĄ \n",
      "2025-02-06 \n",
      " \n",
      " \n",
      "1. \n",
      "Užsakovas: UAB Mano Būstas Vakarai įmonės kodas 177000697 \n",
      " \n",
      "2. \n",
      "Objektas: Sodų g.    1, Šilutė \n",
      " \n",
      "3. \n",
      "Teiktinų paslaugų arba atliktinų darbų pobūdis: \n",
      "3.1. Vidaus šildymo sistemos modernizavimo rangos darbai su projektinės dokumentacijos paruošimu. \n",
      "3.2. Pateikiant pasiūlymą išskirti kainas:  \n",
      "Darbai \n",
      "Kaina su PVM \n",
      "Projektinės dokumentacijos paruošimas \n",
      " \n",
      "Vidaus šildymo sistemos modernizavimo rangos \n",
      "darbai \n",
      " \n",
      "Viso:  \n",
      " \n",
      "4. \n",
      "Pateiktų dokumentų pavadinimai kainai paskaičiuoti: \n",
      "4.1. 1) bendrosios nuosavybės teise valdomų elevatorinių šilumos punktų keitimo į naują automatizuotą \n",
      "šilumos punktą ar senų susidėvėjusių automatinių šilumos punktų, kurie automatiškai nepalaiko nustatytos \n",
      "karšto vandens temperatūros pastato vidaus karšto vandens tiekimo sistemoje,  atnaujinimo arba atskiro \n",
      "šilumos punkto daugiabučiame name įrengimo, įskaitant balansinių ventilių ant šildymo ir karšto vandens \n",
      "stovų įrengimo; 2) šildymo sistemos pertvarkymo ar keitimo (įskaitant radiatorių keitimą, termostatinių \n",
      "ventilių įrengimą, vamzdynų keitimą ir (ar) vamzdynų izoliavimą, balansinių ventilių ar kitos balansavimo \n",
      "įrangos rengimą); 3) individualių šilumos apskaitos prietaisų ar šilumos daliklių sistemos įrengimo ir (ar) \n",
      "išmaniosios apskaitos, įgalinančios vienalaikį rodmenų nuskaitymą iš daliklių daugiabučiame name 4) vidaus \n",
      "šildymo sistemos modernizavimo (mažosios renovacijos) gyventojų pritarimo, projekto rengimo ir \n",
      "įgyvendinimo (toliau – Namo mažoji renovacija). \n",
      " \n",
      "5. \n",
      "Numatoma darbų/paslaugų pradžios data: 2025 m.  II ketvirtis.  \n",
      " \n",
      "6. \n",
      "Konkurso sąlygos: \n",
      "6.1. Vadovaujantis Lietuvos Respublikos teisės aktais, darbai turi būti atliekami kokybiškai ir suteikiant jiems \n",
      "garantiją. \n",
      "6.2. Pasiūlymo galiojimo terminas 3 mėnesiai.  \n",
      "6.3. Darbų eigą ir atlikimą pagal atskirą susitarimą fiksuoti per Administratoriaus nurodytą sistemą (e-Paskyra). \n",
      "6.4. Siekiant užtikrinti Rangovo garantinių įsipareigojimų tinkamą vykdymą, taikomos šios sąlygos: \n",
      "Rangovas nuo sutarties pasirašymo dienos per 10 darbo dienų įsipareigoja pateikti Užsakovui šios sutarties \n",
      "įvykdymo užtikrinimą (banko garantiją arba draudimo bendrovės laidavimo raštą) kurio vertė ne mažesnė kaip \n",
      "10 proc. pasiūlymo vertės arba šią sumą pervesti į Užsakovo banko sąskaitą, kuri bus naudojama kaip \n",
      "besąlyginis šios sutarties įvykdymo užtikrinimas (Užsakovas neturės pareigos įrodinėti nuostolių sumos už \n",
      "Rangovo sutartinių įsipareigojimų nevykdymą) \n",
      "6.5. Galutinė pasiūlymo kaina nurodoma su PVM (jeigu įmonė yra PVM mokėtojas). \n",
      "6.6.    Atsiskaitymo su Rangovu už atliktus darbus sąlygos ir terminai: \n",
      "6.6.1. Darbų suma, sumažinta paramos dalimi (kurią Užsakovui po darbų atlikimo turėtų sumokėti paramos \n",
      "administratorius), sumokama Rangovui per 48 mėn. nuo darbų atlikimo. \n",
      "6.6.2. Likusi suma už Darbus (paramos suma) sumokama Rangovui per 30 kalendorinių dienų nuo dienos, \n",
      "kai paramą Užsakovui perveda paramos administratorius.  \n",
      "6.6.3. Jeigu Rangovas pageidauja gauti mokėjimą, nurodytą 6.6.1 p., per 30 kalendorinių dienų, Rangovas \n",
      "gali įsigyti paslaugų paketą, kurio kaina bus apskaičiuota pasibaigus konkursui. Į šį paketą įeina: \n",
      "6.6.3.1. Techninis konsultavimas dėl darbų optimalaus įgyvendinimo; \n",
      "6.6.3.2. Projektinės užduoties parengimas; \n",
      "6.6.3.3. Rangovų atliktų darbų garantinių įsipareigojimų organizavimas; \n",
      " \n",
      "6.6.3.4. Sertifikavimas (įtraukimas į patikimų rangovų sąrašą); \n",
      "6.6.3.5. Marketinginės (patikimų rangovų sąrašo viešinimas) paslaugos; \n",
      "6.6.3.6. Rangovų finansinio faktoringo organizavimas; \n",
      "6.6.3.7. Garantijos, kurią išduoda Užsakovas, kad su Rangovu pagal Sutartį bus atsiskaityta, kaštai. \n",
      "6.6.4. Jeigu parama nėra gaunama, likusi Darbų suma (paramos suma) sumokama Rangovui per 6.6.1 p. \n",
      "nurodytą terminą. Rangovui pageidaujant gauti mokėjimą anksčiau – Rangovas gali kreiptis į \n",
      "faktoringo įmonę. \n",
      "6.6.5. Pateikus statybos užbaigimą patvirtinantį dokumentą, jeigu jį privaloma pateikti Statybos įstatyme \n",
      "nustatyta tvarka; \n",
      "6.6.6. Pateikus Valstybinės energetikos reguliavimo tarybos šilumos įrenginių būklės patikrinimo dokumentą. \n",
      " \n",
      "7. \n",
      "Reikalavimai kainų apklausos dalyviams: \n",
      "7.1. Rangovas, norinti dalyvauti atrankoje, privalo pateikti licencijas, atestatus ar leidimus ir (ar) jos darbuotojų \n",
      "kvalifikaciją, patvirtinančią teisę atlikti nustatytus darbus, liudijančius dokumentus, jeigu pagal galiojančius \n",
      "teisės aktus darbus atlikti yra būtinos licencijos, atestatai ar leidimai ir (ar) darbuotojo kvalifikacija. \n",
      "7.2. Rangovas turi būti įregistruotas įstatymų nustatyta tvarka ir turi teisę verstis rangos darbų veikla, kuri \n",
      "reikalinga sutarčiai įvykdyti. \n",
      "7.3. Rangovas turi pakankamas apyvartines lėšas sutartiniams įsipareigojimams įvykdyti, t. y. disponuoja ne \n",
      "mažesne kaip 10 proc. savo pasiūlymo vertės suma su PVM tris paskutinius mėnesius iki pasiūlymų pateikimo \n",
      "dienos. \n",
      "7.4. Rangovo vidutinė metinė atliktų statybos ir montavimo darbų, apimtis  ne mažesnė kaip 550 000,00 Eur su \n",
      "PVM.  \n",
      "7.5. Rangovo per pastaruosius 3 metus arba per laiką nuo Rangovo registracijos dienos (jeigu Rangovas vykdė \n",
      "veiklą mažiau nei 3 metus) tinkamai įvykdytų ir priduotų komisijai ne mažiau kaip trijų ypatingų gyvenamosios \n",
      "paskirties pastatų modernizavimo statybos darbų sutarčių (kurioje atlikti šilumos sistemos modernizavimo \n",
      "darbai)  vertės (kiekvienos atskirai) turi būti ne mažesnės kaip  300 000,00 Eur be PVM. \n",
      "7.6. Rangovas sutarties vykdymui turi pasiūlyti bent vieną atestuotą specialiųjų statybos darbų vadovą darbų sritis: \n",
      "statinio vandentiekio ir nuotekų šalinimo inžinerinių sistemų įrengimas statinio šildymo ir vėdinimo \n",
      "inžinerinių sistemų įrengimas;, kuris vadovavo ne  mažiau nei 2 (dviejų) ypatingų gyvenamosios paskirties \n",
      "pastatų atnaujinimo (modernizavimo) statybos darbams, kurių kiekvieno vertė nemažesnė kaip 160 00,00 Eur \n",
      "be PVM. \n",
      "7.7. Rangovas turi teisę verstis projektų rengimo ir projektų vykdymo priežiūros veikla. \n",
      "7.8. Rangovo vidutinės metinės pajamos veiklos, susijusios su gyvenamosios paskirties pastatų projektavimu, per \n",
      "paskutinius 3 finansinius metus, o jeigu rangovas įregistruotas ar veiklą atitinkamoje srityje pradėjo vėliau – \n",
      "nuo jo įregistravimo dienos, turi būti ne mažesnės kaip 550 000,000 Eur su PVM.  \n",
      "7.9. Rangovas privalo turėti ne mažiau kaip 1 kvalifikuotą specialistą darbų atlikimui. Techniniu reglamentu STR \n",
      "1.02.01:2017 „Statybos dalyvių atestavimo ir teisės pripažinimo tvarkos aprašas. \n",
      "7.10. Rangovas numatomiems atlikti darbams turi būti įdiegęs aplinkos apsaugos vadybos sistemą EMAS arba kitą \n",
      "aplinkos apsaugos vadybos sistemą pagal standartą LST EN ISO 14001 ar kitus aplinkos apsaugos vadybos \n",
      "standartus, pagrįstus atitinkamais Europos arba tarptautiniais standartais, kuriuos yra patvirtinusios \n",
      "sertifikavimo įstaigos, atitinkančios Europos Sąjungos teisės aktus arba atitinkamus Europos ar tarptautinius \n",
      "sertifikavimo standartus. \n",
      "7.11. Tuo atveju, jeigu Rangovas pretenduoja veikti jungtinės veiklos pagrindu, Rangovas įsipareigoja pranešti \n",
      "Užsakovui, jog tarp Rangovo ir Partnerio yra sudaryta jungtinės veiklos sutartis ir ją pateikti. \n",
      " \n",
      "8. \n",
      "Pasiūlymų vertinimo kriterijai ir sąlygos: \n",
      "8.1. Vertinami tik tie pasiūlymai ir jį pateikęs dalyviai, kurie atitinka šiame Kvietime aukščiau nurodytus \n",
      "reikalavimus. Reikalavimų neatitinkantys pasiūlymai nevertinami. \n",
      "8.2. Kainų apklausos reikalavimus atitinkantys pasiūlymai vertinami vadovaujantis mažiausiu kainos kriterijumi. \n",
      " \n",
      "9. Jei pasiūlyme nebus nurodytos pastabos, bus priimama, kad pasiūlymas galioja pagal visas konkurso \n",
      "sąlygas. \n",
      " \n",
      "10. Pasiūlymą pateikti iki  2025-02-20 d.  12 val. \n",
      " \n",
      " Pasiūlymo pateikimo būdas: renata@pirkimucentras.lt \n",
      " \n",
      " \n",
      "11. Pasiūlymų vertinimo vieta, data, laikas (valanda): Kuosų g. 18-1, Klaipėda, 2025-02-20 d. 14 val. \n",
      " \n",
      " \n",
      " \n",
      "12. Administratoriaus organizuojamuose konkursuose objektų įgalioti atstovai yra kviečiami dalyvauti \n",
      "komisijos posėdyje stebėtojo teisėmis, iš anksto informavus apie savo dalyvavimą. \n",
      " \n",
      " \n",
      "Dėl papildomos informacijos kreiptis el. paštu – Renata Rapšė, renata@pirkimucentras/lt \n",
      " \n",
      " \n",
      "\n"
     ]
    }
   ],
   "source": [
    "print_long_documents(processed_docs, 7000)"
   ]
  },
  {
   "cell_type": "markdown",
   "metadata": {},
   "source": [
    "### The longest document is preprocessed as expected. \n",
    "### Ilgiausias dokumentas apdorojamas kaip tikėtasi."
   ]
  },
  {
   "cell_type": "markdown",
   "metadata": {},
   "source": [
    "## Extracting the application deadline date for projects.\n",
    "## Ištraukiama projekto paraiškos pateikimo pabaigos data."
   ]
  },
  {
   "cell_type": "code",
   "execution_count": 13,
   "metadata": {},
   "outputs": [],
   "source": [
    "import re\n",
    "\n",
    "def extract_pasiulyma_metadata(text: str):\n",
    "    # Capture everything after 'Pasiūlymą pateikti iki' up to the first newline (including newlines inside)\n",
    "    # We'll capture all chars until we hit a newline OR end of string\n",
    "    pattern = re.compile(\n",
    "        r'Pasiūlymą pateikti iki\\s*(.*?)(?:\\n|$)',\n",
    "        re.IGNORECASE | re.DOTALL\n",
    "    )\n",
    "    match = pattern.search(text)\n",
    "    if match:\n",
    "        captured = match.group(1).strip()\n",
    "        # Optionally, normalize whitespace/newlines inside\n",
    "        captured = ' '.join(captured.split())\n",
    "        return captured\n",
    "    return None\n",
    "\n",
    "def preprocess_documents(docs: list[Document]) -> list[Document]:\n",
    "    processed_docs = []\n",
    "    for doc in docs:\n",
    "        pasiulyma_metadata = extract_pasiulyma_metadata(doc.page_content)\n",
    "\n",
    "        new_metadata = dict(doc.metadata) if doc.metadata else {}\n",
    "        if pasiulyma_metadata:\n",
    "            new_metadata['Pasiulyma_pateikti_iki'] = pasiulyma_metadata\n",
    "\n",
    "        new_content = doc.page_content  \n",
    "\n",
    "        processed_docs.append(Document(page_content=new_content, metadata=new_metadata))\n",
    "    return processed_docs\n"
   ]
  },
  {
   "cell_type": "code",
   "execution_count": 14,
   "metadata": {},
   "outputs": [],
   "source": [
    "processed_documents_metadata = preprocess_documents(processed_docs)"
   ]
  },
  {
   "cell_type": "code",
   "execution_count": 15,
   "metadata": {
    "scrolled": true
   },
   "outputs": [
    {
     "data": {
      "text/plain": [
       "Document(metadata={'Dokumento_pavadinimas': 'Kvietimas pateikti pasiūlymą adresu Liepų g. 28, Klaipėda, dėl stogo remonto darbų.pdf', 'Pasiulyma_pateikti_iki': '2025-06-11 d. 12 val.'}, page_content=' \\n \\n \\nSKELBIMAS PATEIKTI PASIŪLYMĄ \\n2025-05-27 \\n \\n \\n1. \\nUžsakovas: UAB Mano Būstas Baltija įmonės kodas  140514359 \\n \\n2. \\nObjektas: Liepų g.   28, Klaipėda \\n \\n3. \\nTeiktinų paslaugų arba atliktinų darbų pobūdis: \\n3.1. Stogo remonto darbai \\n \\n4. \\nPateiktų dokumentų pavadinimai kainai paskaičiuoti: \\n4.1. \\nNUMATOMŲ ATLIKTI DARBŲ ir DEFEKTAVIMO AKTAS  \\n5. \\nKonkurso sąlygos: \\n5.1. Vadovaujantis Lietuvos Respublikos teisės aktais, darbai turi būti atliekami kokybiškai ir suteikiant jiems \\ngarantiją. \\n5.2. Pasiūlymo galiojimo terminas 3 mėnesiai.  \\n5.3. Darbų eigą ir atlikimą pagal atskirą susitarimą fiksuoti per Administratoriaus nurodytą sistemą (e-Paskyra). \\n5.4. Siekiant užtikrinti Rangovo garantinių įsipareigojimų tinkamą vykdymą, taikomos šios sąlygos: \\n5.4.1. Kai Rangovo pasiūlymo kaina yra iki 3000 Eur be PVM, garantinis sulaikymas arba draudimas \\nnereikalaujamas. \\n5.4.2. Kai Rangovo pasiūlymo kaina yra nuo 3001 Eur be PVM iki 15 000 Eur be PVM, Administratorius \\nsulaiko 7 proc. sumą nuo sutarties kainos Eur be PVM darbų garantiniam laikotarpiui. \\n5.4.3. Kai Rangovo pasiūlymo kaina yra didesnė nei 15 001 Eur be PVM - privalomas sutartinių \\nįsipareigojimų garantinio laikotarpio laidavimo draudimas (10% nuo darbų vertės), kuris apimtų nemokumo \\nir bankroto atvejį. Šis draudimas turi galioti ne trumpiau nei darbams taikomas garantinis terminas. \\n5.5. Galutinė pasiūlymo kaina nurodoma su PVM (jeigu įmonė yra PVM mokėtojas). \\n5.6. Pasiūlyme Rangovas pasirenka kokiomis sąlygomis dalyvaus konkurse. \\n5.7. Administratorius vieną kartą į ketvirtį už atliktus darbus Rangovui apmoka tiek, kiek surinko lėšų iš \\ndaugiabučio namo savininkų (gyventojų), t.y. Rangovui tenka visa mokesčių nemokėjimo ir faktinių \\natliekamų darbų gavėjų nemokumo rizika. Jeigu Rangovas pageidauja gauti atsiskaitymą per 45 \\nkalendorines dienas, rangovas gali įsigyti paslaugų paketą, kuris apskaičiuojamas nuo bendros \\npasiūlymo vertės: \\n5.7.1. Techninis konsultavimas dėl darbų optimalaus įgyvendinimo; \\n5.7.2. Projektinės užduoties parengimas; \\n5.7.3. Rangovų atliktų darbų garantinių įsipareigojimų organizavimas; \\n5.7.4. Sertifikavimas (įtraukimas į patikimų rangovų sąrašą); \\n \\n \\n6. \\nReikalavimai kainų apklausos dalyviams: \\n6.1. Rangovas, dalyvaujantis konkurse, turi atitikti šio kvietimo priede Nr. 1 nurodytus reikalavimus ir pateikti tą \\npatvirtinančius dokumentus. Tuo atveju, kai ankstesnių apklausų ar konkursų pagrindu Rangovas jau yra \\npateikęs Priede Nr. 1 nurodytus reikalavimus patvirtinančius dokumentus, o aplinkybės dėl šių reikalavimų \\natitikimo nėra pasikeitusios, Rangovas neprivalo teikti jų pakartotinai. Pasibaigus pateiktų dokumentų \\ngaliojimo terminui arba pasikeitus galiojančių dokumentų turiniui ar apimčiai, Rangovas privalo apie tai \\ninformuoti Užsakovą ir pateikti galiojančias dokumentų versijas.   \\n6.2. Rangovas teikdamas pasiūlymą patvirtina, kad jam yra žinoma, jog jei pagal galiojančius teisės aktus \\natlikti Darbus yra būtinos licencijos, atestatai ar leidimai, Rangovas įsipareigoja laiku gauti visus reikiamus \\nleidimus, sutikimus ir kitus dokumentus Darbų atlikimui ir užbaigimui. \\n6.3. Rangovas pasiūlymo pateikimo dieną privalo būti įvykdęs įsipareigojimus, susijusius su mokesčių, socialinio \\ndraudimo įmokų mokėjimu. Rangovas laikomas įvykdžiusiu įsipareigojimus, susijusius su mokesčių \\nmokėjimu, jeigu jo neįvykdytų įsipareigojimų suma yra mažesnė kaip 50 Eur. Užsakovas atitiktį šiam \\nreikalavimui tikrins viešai prieinamuose registruose. \\n6.4. Jeigu Rangovas ketina pasitelkti subrangovus ar kitus ūkio subjektus pirkimo sutarties vykdymui, Rangovas \\njuos privalo nurodyti pasiūlymo pateikimo metu. \\n5.7.5. Marketinginės (patikimų rangovų sąrašo viešinimas) paslaugos; \\n[Type here] \\n \\n \\n6.5. Rangovas, teikdamas pasiūlymą, privalo pateikti informaciją apie dalyvavimą teisminiuose procesuose kaip \\natsakovas dėl Rangovo vykdomos veiklos (pvz. sutartinių įsipareigojimų netinkamo vykdymo ir pan.) per \\npaskutinius trejus metus iki pasiūlymų pateikimo termino paskutinės dienos. \\n6.6. Rangovas, teikdamas pasiūlymą patvirtina, kad yra susipažinęs su City Service SE įmonių grupės Partnerių \\nelgesio kodeksu bei Mano Būstas įmonių grupės Subjektų įtraukimo į nepatikimų subjektų sąrašą tvarkos \\naprašu (City Service SE įmonių grupės Partnerių elgesio kodeksas ir Mano Būstas įmonių grupės Subjektų \\nįtraukimo į nepatikimų subjektų sąrašą tvarkos aprašas).  \\n \\n7. \\nPasiūlymų vertinimo kriterijai ir sąlygos: \\n \\n7.1. Vertinami tik tie pasiūlymai ir jį pateikęs dalyviai, kurie atitinka šiame Kvietime aukščiau nurodytus \\nreikalavimus. Reikalavimų neatitinkantys pasiūlymai nevertinami. \\n7.2. Kainų apklausos reikalavimus atitinkantys pasiūlymai vertinami vadovaujantis mažiausiu kainos kriterijumi. \\n \\n8. Jei pasiūlyme nebus nurodytos pastabos, bus priimama, kad pasiūlymas galioja pagal visas konkurso \\nsąlygas. \\n \\n9.  Pasiūlymą pateikti iki  2025-06-11 d.  12 val. \\n \\n10. Pasiūlymo pateikimo būdas: renata@pirkimucentras.lt \\n \\n11. Pasiūlymų vertinimo vieta, data, laikas (valanda): Mano būstas Klaipėda, Kuosų g. 18-1, Klaipėda \\n2025-06-11 d. 14 val. \\n \\n \\nDėl papildomos informacijos kreiptis el. paštu. renata@pirkimucentras.lt')"
      ]
     },
     "execution_count": 15,
     "metadata": {},
     "output_type": "execute_result"
    }
   ],
   "source": [
    "processed_documents_metadata[9]"
   ]
  },
  {
   "cell_type": "markdown",
   "metadata": {},
   "source": [
    "### Some documents are missing the day in the full date. In those cases, the day is assigned as 28, which is an optimal choice since it corresponds to the shortest month. This also signals users to verify the exact date in the full document, as there is a section specifying when and where to submit applications. it will help in application to filter out expired projects.\n",
    "\n",
    "###  Kai kuriuose dokumentuose trūksta datos dienos. Tokiais atvejais diena priskiriama 28-ai, kas yra optimalus sprendimas, nes atitinka trumpiausio mėnesio dienų skaičių. Tai taip pat nurodo vartotojams, kad verta patikrinti datą pilname dokumente, kur yra skiltis apie paraiškos pateikimo laiką ir vietą. Tai padės aplikacijoje išfiltruoti nebegaliojančius projektų teikimus."
   ]
  },
  {
   "cell_type": "code",
   "execution_count": 16,
   "metadata": {},
   "outputs": [],
   "source": [
    "\n",
    "\n",
    "def fix_incomplete_date(date_str: str, default_day: int = 28) -> str:\n",
    "    date_str = date_str.strip()\n",
    "    \n",
    "    # Try to find date pattern YYYY-MM-DD or partial YYYY-MM\n",
    "    # If day is missing, add default day\n",
    "    \n",
    "    # Match full date YYYY-MM-DD\n",
    "    full_date_match = re.match(r'^(\\d{4})-(\\d{2})-(\\d{2})', date_str)\n",
    "    if full_date_match:\n",
    "        # date complete, return as is with possible trailing time\n",
    "        return date_str\n",
    "    \n",
    "    partial_date_match = re.match(r'^(\\d{4})-(\\d{2})-?$', date_str)\n",
    "    if partial_date_match:\n",
    "        year, month = partial_date_match.groups()\n",
    "        fixed_date = f\"{year}-{month}-{default_day:02d}\"\n",
    "        return fixed_date\n",
    "    \n",
    "    # Match partial date YYYY-MM with trailing chars or incomplete day\n",
    "    partial_date_match2 = re.match(r'^(\\d{4})-(\\d{2})-', date_str)\n",
    "    if partial_date_match2:\n",
    "        year, month = partial_date_match2.groups()\n",
    "        fixed_date = f\"{year}-{month}-{default_day:02d}\"\n",
    "        # Append rest of string after YYYY-MM-\n",
    "        rest = date_str[len(f\"{year}-{month}-\"):]\n",
    "        fixed_date += rest\n",
    "        return fixed_date\n",
    "    \n",
    "    return date_str\n",
    "\n",
    "def preprocess_documents(docs: List[Document]) -> List[Document]:\n",
    "    processed_docs = []\n",
    "    for doc in docs:\n",
    "        pasiulyma_metadata = extract_pasiulyma_metadata(doc.page_content)\n",
    "\n",
    "        new_metadata = dict(doc.metadata) if doc.metadata else {}\n",
    "        if pasiulyma_metadata:\n",
    "            fixed_date = fix_incomplete_date(pasiulyma_metadata, default_day=28)\n",
    "            new_metadata['Pasiulyma_pateikti_iki'] = fixed_date\n",
    "\n",
    "        processed_docs.append(Document(page_content=doc.page_content, metadata=new_metadata))\n",
    "    return processed_docs"
   ]
  },
  {
   "cell_type": "code",
   "execution_count": 17,
   "metadata": {},
   "outputs": [],
   "source": [
    "processed_documents_metadata = preprocess_documents(processed_documents_metadata)"
   ]
  },
  {
   "cell_type": "code",
   "execution_count": 18,
   "metadata": {},
   "outputs": [
    {
     "data": {
      "text/plain": [
       "Document(metadata={'Dokumento_pavadinimas': 'Kvietimas pateikti pasiūlymą adresu Sodų g. 1, Šilutė, dėl vidaus šildymo sistemos modernizavimo rangos darbų su projektinės dokumentacijos paruošimu.pdf', 'Pasiulyma_pateikti_iki': '2025-02-20 d. 12 val.'}, page_content=' \\n \\n \\n \\n \\nSKELBIMAS PATEIKTI PASIŪLYMĄ \\n2025-02-06 \\n \\n \\n1. \\nUžsakovas: UAB Mano Būstas Vakarai įmonės kodas 177000697 \\n \\n2. \\nObjektas: Sodų g.    1, Šilutė \\n \\n3. \\nTeiktinų paslaugų arba atliktinų darbų pobūdis: \\n3.1. Vidaus šildymo sistemos modernizavimo rangos darbai su projektinės dokumentacijos paruošimu. \\n3.2. Pateikiant pasiūlymą išskirti kainas:  \\nDarbai \\nKaina su PVM \\nProjektinės dokumentacijos paruošimas \\n \\nVidaus šildymo sistemos modernizavimo rangos \\ndarbai \\n \\nViso:  \\n \\n4. \\nPateiktų dokumentų pavadinimai kainai paskaičiuoti: \\n4.1. 1) bendrosios nuosavybės teise valdomų elevatorinių šilumos punktų keitimo į naują automatizuotą \\nšilumos punktą ar senų susidėvėjusių automatinių šilumos punktų, kurie automatiškai nepalaiko nustatytos \\nkaršto vandens temperatūros pastato vidaus karšto vandens tiekimo sistemoje,  atnaujinimo arba atskiro \\nšilumos punkto daugiabučiame name įrengimo, įskaitant balansinių ventilių ant šildymo ir karšto vandens \\nstovų įrengimo; 2) šildymo sistemos pertvarkymo ar keitimo (įskaitant radiatorių keitimą, termostatinių \\nventilių įrengimą, vamzdynų keitimą ir (ar) vamzdynų izoliavimą, balansinių ventilių ar kitos balansavimo \\nįrangos rengimą); 3) individualių šilumos apskaitos prietaisų ar šilumos daliklių sistemos įrengimo ir (ar) \\nišmaniosios apskaitos, įgalinančios vienalaikį rodmenų nuskaitymą iš daliklių daugiabučiame name 4) vidaus \\nšildymo sistemos modernizavimo (mažosios renovacijos) gyventojų pritarimo, projekto rengimo ir \\nįgyvendinimo (toliau – Namo mažoji renovacija). \\n \\n5. \\nNumatoma darbų/paslaugų pradžios data: 2025 m.  II ketvirtis.  \\n \\n6. \\nKonkurso sąlygos: \\n6.1. Vadovaujantis Lietuvos Respublikos teisės aktais, darbai turi būti atliekami kokybiškai ir suteikiant jiems \\ngarantiją. \\n6.2. Pasiūlymo galiojimo terminas 3 mėnesiai.  \\n6.3. Darbų eigą ir atlikimą pagal atskirą susitarimą fiksuoti per Administratoriaus nurodytą sistemą (e-Paskyra). \\n6.4. Siekiant užtikrinti Rangovo garantinių įsipareigojimų tinkamą vykdymą, taikomos šios sąlygos: \\nRangovas nuo sutarties pasirašymo dienos per 10 darbo dienų įsipareigoja pateikti Užsakovui šios sutarties \\nįvykdymo užtikrinimą (banko garantiją arba draudimo bendrovės laidavimo raštą) kurio vertė ne mažesnė kaip \\n10 proc. pasiūlymo vertės arba šią sumą pervesti į Užsakovo banko sąskaitą, kuri bus naudojama kaip \\nbesąlyginis šios sutarties įvykdymo užtikrinimas (Užsakovas neturės pareigos įrodinėti nuostolių sumos už \\nRangovo sutartinių įsipareigojimų nevykdymą) \\n6.5. Galutinė pasiūlymo kaina nurodoma su PVM (jeigu įmonė yra PVM mokėtojas). \\n6.6.    Atsiskaitymo su Rangovu už atliktus darbus sąlygos ir terminai: \\n6.6.1. Darbų suma, sumažinta paramos dalimi (kurią Užsakovui po darbų atlikimo turėtų sumokėti paramos \\nadministratorius), sumokama Rangovui per 48 mėn. nuo darbų atlikimo. \\n6.6.2. Likusi suma už Darbus (paramos suma) sumokama Rangovui per 30 kalendorinių dienų nuo dienos, \\nkai paramą Užsakovui perveda paramos administratorius.  \\n6.6.3. Jeigu Rangovas pageidauja gauti mokėjimą, nurodytą 6.6.1 p., per 30 kalendorinių dienų, Rangovas \\ngali įsigyti paslaugų paketą, kurio kaina bus apskaičiuota pasibaigus konkursui. Į šį paketą įeina: \\n6.6.3.1. Techninis konsultavimas dėl darbų optimalaus įgyvendinimo; \\n6.6.3.2. Projektinės užduoties parengimas; \\n6.6.3.3. Rangovų atliktų darbų garantinių įsipareigojimų organizavimas; \\n \\n6.6.3.4. Sertifikavimas (įtraukimas į patikimų rangovų sąrašą); \\n6.6.3.5. Marketinginės (patikimų rangovų sąrašo viešinimas) paslaugos; \\n6.6.3.6. Rangovų finansinio faktoringo organizavimas; \\n6.6.3.7. Garantijos, kurią išduoda Užsakovas, kad su Rangovu pagal Sutartį bus atsiskaityta, kaštai. \\n6.6.4. Jeigu parama nėra gaunama, likusi Darbų suma (paramos suma) sumokama Rangovui per 6.6.1 p. \\nnurodytą terminą. Rangovui pageidaujant gauti mokėjimą anksčiau – Rangovas gali kreiptis į \\nfaktoringo įmonę. \\n6.6.5. Pateikus statybos užbaigimą patvirtinantį dokumentą, jeigu jį privaloma pateikti Statybos įstatyme \\nnustatyta tvarka; \\n6.6.6. Pateikus Valstybinės energetikos reguliavimo tarybos šilumos įrenginių būklės patikrinimo dokumentą. \\n \\n7. \\nReikalavimai kainų apklausos dalyviams: \\n7.1. Rangovas, norinti dalyvauti atrankoje, privalo pateikti licencijas, atestatus ar leidimus ir (ar) jos darbuotojų \\nkvalifikaciją, patvirtinančią teisę atlikti nustatytus darbus, liudijančius dokumentus, jeigu pagal galiojančius \\nteisės aktus darbus atlikti yra būtinos licencijos, atestatai ar leidimai ir (ar) darbuotojo kvalifikacija. \\n7.2. Rangovas turi būti įregistruotas įstatymų nustatyta tvarka ir turi teisę verstis rangos darbų veikla, kuri \\nreikalinga sutarčiai įvykdyti. \\n7.3. Rangovas turi pakankamas apyvartines lėšas sutartiniams įsipareigojimams įvykdyti, t. y. disponuoja ne \\nmažesne kaip 10 proc. savo pasiūlymo vertės suma su PVM tris paskutinius mėnesius iki pasiūlymų pateikimo \\ndienos. \\n7.4. Rangovo vidutinė metinė atliktų statybos ir montavimo darbų, apimtis  ne mažesnė kaip 550 000,00 Eur su \\nPVM.  \\n7.5. Rangovo per pastaruosius 3 metus arba per laiką nuo Rangovo registracijos dienos (jeigu Rangovas vykdė \\nveiklą mažiau nei 3 metus) tinkamai įvykdytų ir priduotų komisijai ne mažiau kaip trijų ypatingų gyvenamosios \\npaskirties pastatų modernizavimo statybos darbų sutarčių (kurioje atlikti šilumos sistemos modernizavimo \\ndarbai)  vertės (kiekvienos atskirai) turi būti ne mažesnės kaip  300 000,00 Eur be PVM. \\n7.6. Rangovas sutarties vykdymui turi pasiūlyti bent vieną atestuotą specialiųjų statybos darbų vadovą darbų sritis: \\nstatinio vandentiekio ir nuotekų šalinimo inžinerinių sistemų įrengimas statinio šildymo ir vėdinimo \\ninžinerinių sistemų įrengimas;, kuris vadovavo ne  mažiau nei 2 (dviejų) ypatingų gyvenamosios paskirties \\npastatų atnaujinimo (modernizavimo) statybos darbams, kurių kiekvieno vertė nemažesnė kaip 160 00,00 Eur \\nbe PVM. \\n7.7. Rangovas turi teisę verstis projektų rengimo ir projektų vykdymo priežiūros veikla. \\n7.8. Rangovo vidutinės metinės pajamos veiklos, susijusios su gyvenamosios paskirties pastatų projektavimu, per \\npaskutinius 3 finansinius metus, o jeigu rangovas įregistruotas ar veiklą atitinkamoje srityje pradėjo vėliau – \\nnuo jo įregistravimo dienos, turi būti ne mažesnės kaip 550 000,000 Eur su PVM.  \\n7.9. Rangovas privalo turėti ne mažiau kaip 1 kvalifikuotą specialistą darbų atlikimui. Techniniu reglamentu STR \\n1.02.01:2017 „Statybos dalyvių atestavimo ir teisės pripažinimo tvarkos aprašas. \\n7.10. Rangovas numatomiems atlikti darbams turi būti įdiegęs aplinkos apsaugos vadybos sistemą EMAS arba kitą \\naplinkos apsaugos vadybos sistemą pagal standartą LST EN ISO 14001 ar kitus aplinkos apsaugos vadybos \\nstandartus, pagrįstus atitinkamais Europos arba tarptautiniais standartais, kuriuos yra patvirtinusios \\nsertifikavimo įstaigos, atitinkančios Europos Sąjungos teisės aktus arba atitinkamus Europos ar tarptautinius \\nsertifikavimo standartus. \\n7.11. Tuo atveju, jeigu Rangovas pretenduoja veikti jungtinės veiklos pagrindu, Rangovas įsipareigoja pranešti \\nUžsakovui, jog tarp Rangovo ir Partnerio yra sudaryta jungtinės veiklos sutartis ir ją pateikti. \\n \\n8. \\nPasiūlymų vertinimo kriterijai ir sąlygos: \\n8.1. Vertinami tik tie pasiūlymai ir jį pateikęs dalyviai, kurie atitinka šiame Kvietime aukščiau nurodytus \\nreikalavimus. Reikalavimų neatitinkantys pasiūlymai nevertinami. \\n8.2. Kainų apklausos reikalavimus atitinkantys pasiūlymai vertinami vadovaujantis mažiausiu kainos kriterijumi. \\n \\n9. Jei pasiūlyme nebus nurodytos pastabos, bus priimama, kad pasiūlymas galioja pagal visas konkurso \\nsąlygas. \\n \\n10. Pasiūlymą pateikti iki  2025-02-20 d.  12 val. \\n \\n Pasiūlymo pateikimo būdas: renata@pirkimucentras.lt \\n \\n \\n11. Pasiūlymų vertinimo vieta, data, laikas (valanda): Kuosų g. 18-1, Klaipėda, 2025-02-20 d. 14 val. \\n \\n \\n \\n12. Administratoriaus organizuojamuose konkursuose objektų įgalioti atstovai yra kviečiami dalyvauti \\nkomisijos posėdyje stebėtojo teisėmis, iš anksto informavus apie savo dalyvavimą. \\n \\n \\nDėl papildomos informacijos kreiptis el. paštu – Renata Rapšė, renata@pirkimucentras/lt \\n \\n \\n')"
      ]
     },
     "execution_count": 18,
     "metadata": {},
     "output_type": "execute_result"
    }
   ],
   "source": [
    "processed_documents_metadata[16]"
   ]
  },
  {
   "cell_type": "markdown",
   "metadata": {},
   "source": [
    "## Initializing the sentence similarity model \"intfloat/multilingual-e5-large-instruct,\" which generates embeddings. This instruct model performs well with the Instruct retriever that will be built on top of the base retriever from the Chroma vector store.\n",
    "## Inicializuojamas sakinių panašumo modelis \"intfloat/multilingual-e5-large-instruct\", kuris generuoja įterpimus. Šis instruktuojamas modelis puikiai veikia kartu su Instruct retriveriu, kuris bus sukurtas virš bazinio retriverio iš Chroma vektorių saugyklos."
   ]
  },
  {
   "cell_type": "code",
   "execution_count": 19,
   "metadata": {},
   "outputs": [],
   "source": [
    "model_name = \"intfloat/multilingual-e5-large-instruct\"\n",
    "model_kwargs = {'device': 'cpu',\n",
    "                  \"trust_remote_code\" : 'False'}\n",
    "encode_kwargs = {'normalize_embeddings': True}\n",
    "embeddings = HuggingFaceEmbeddings(\n",
    "        model_name=model_name,\n",
    "        model_kwargs=model_kwargs,\n",
    "        encode_kwargs=encode_kwargs\n",
    "    )"
   ]
  },
  {
   "cell_type": "markdown",
   "metadata": {},
   "source": [
    "### Creating a metadata fields extractor using an LLM with structured outputs. The LLM used is \"meta-llama/llama-4-maverick-17b-128e-instruct\" from the ChatGroq provider.\n",
    "###  Kuriamas metaduomenų laukų ištraukimų įrankis, naudojant LLM su struktūrizuotais atsakymais. Naudojamas modelis „meta-llama/llama-4-maverick-17b-128e-instruct“ iš ChatGroq tiekėjo."
   ]
  },
  {
   "cell_type": "code",
   "execution_count": 20,
   "metadata": {},
   "outputs": [],
   "source": [
    "from pydantic import BaseModel, Field\n",
    "from langchain_core.prompts import PromptTemplate\n",
    "\n",
    "def create_document_metadata_extractor(llm):\n",
    "    \"\"\"\n",
    "    Creates a document metadata extractor using the provided LLM.\n",
    "    \n",
    "    Args:\n",
    "        llm: The language model to be used for extracting metadata.\n",
    "        \n",
    "    Returns:\n",
    "        Callable: A pipeline function that extracts metadata from document titles.\n",
    "    \"\"\"\n",
    "    \n",
    "    class DocumentMetadata(BaseModel):\n",
    "        \"\"\"Structured output for document metadata extraction.\"\"\"\n",
    "        Dokumento_tipas: str = Field(\n",
    "            description=\"Dokumento tipas: 'Kvietimas', 'Skelbimas', arba 'Nėra'\"\n",
    "        )\n",
    "        Miestas: str = Field(\n",
    "            description=\"Miesto pavadinimas, pvz. 'Vilnius', 'Kaunas', 'Šilutė'\",\n",
    "            default =\"Nenurodyta pavadinime\"\n",
    "        )\n",
    "        Gatvė: str = Field(\n",
    "            description=\"Gatvės pavadinimas su numeriu, pvz. 'Taikos g. 15'\",\n",
    "            default =\"Nenurodyta pavadinime\"\n",
    "        )\n",
    "        Kreipiamasi_dėl: str = Field(\n",
    "            description=\"Dėl ko kreipiamasi dokumente, pvz. 'dėl fasado ir stogo remonto'\",\n",
    "            default=\"Nenurodyta\"\n",
    "        )\n",
    "    \n",
    "    structured_metadata_extractor = llm.with_structured_output(DocumentMetadata)\n",
    "\n",
    "    prompt = PromptTemplate(\n",
    "        template=\"\"\"Jūs esate dokumentų metaduomenų išgavimo specialistas.\n",
    "        \n",
    "Išanalizuokite pateiktą dokumento pavadinimą ir ištraukite šią struktūrinę informaciją:\n",
    "1. Dokumento_tipas - gali būti \"Kvietimas\", \"Skelbimas\" arba \"Nėra\"\n",
    "2. Miestas - miesto pavadinimas (Vilnius, Kaunas , Klaipėda , Šilutė , Alytus , Rusnė etc..)\n",
    "3. Gatvė - gatvės pavadinimas su namo numeriu ( pvz Putinų g. 6 )\n",
    "4. Kreipiamasi_dėl - dėl ko kreipiamasi dokumente\n",
    "\n",
    "Dokumento pavadinimas: {document_title}\n",
    "\n",
    "Pavyzdys:\n",
    "Jei pavadinimas būtų \"Kvietimas pateikti pasiūlymą adresu Taikos g. 15, Šilutė, dėl fasado ir stogo paprastojo remonto\"\n",
    "Rezultatas būtų:\n",
    "- Dokumento_tipas: Kvietimas\n",
    "- Miestas: Šilutė\n",
    "- Gatvė: Taikos g. 15\n",
    "- Kreipiamasi_dėl: dėl fasado ir stogo paprastojo remonto\n",
    "\n",
    "Grąžinkite tik struktūruotą informaciją be papildomo teksto.\n",
    "\"\"\",\n",
    "        input_variables=[\"document_title\"],\n",
    "    )\n",
    "    \n",
    "    metadata_extractor = prompt | structured_metadata_extractor\n",
    "\n",
    "    return metadata_extractor"
   ]
  },
  {
   "cell_type": "code",
   "execution_count": null,
   "metadata": {},
   "outputs": [],
   "source": []
  },
  {
   "cell_type": "code",
   "execution_count": 21,
   "metadata": {},
   "outputs": [],
   "source": [
    "import uuid\n",
    "\n",
    "def enrich_documents_with_metadata(documents, llm):\n",
    "    \"\"\"\n",
    "    Processes documents and enriches them with extracted metadata.\n",
    "    \n",
    "    Args:\n",
    "        documents: List of Document objects with metadata['Dokumento_pavadinimas']\n",
    "        llm: Language model to use for extraction\n",
    "    \n",
    "    Returns:\n",
    "        List of documents with enriched metadata\n",
    "    \"\"\"\n",
    "    metadata_extractor = create_document_metadata_extractor(llm)\n",
    "    \n",
    "    enriched_docs = []\n",
    "    for doc in documents:\n",
    "        document_title = doc.metadata.get('Dokumento_pavadinimas', '')\n",
    "        \n",
    "        if document_title:\n",
    "            try:\n",
    "                extracted_metadata = metadata_extractor.invoke({\"document_title\": document_title})\n",
    "                \n",
    "                new_doc = Document(\n",
    "                    page_content=doc.page_content,\n",
    "                    metadata=doc.metadata.copy()\n",
    "                )\n",
    "\n",
    "\n",
    "                if 'uuid' not in new_doc.metadata:\n",
    "                    new_doc.metadata['uuid'] = str(uuid.uuid4())\n",
    "                \n",
    "                # Add extracted metadata\n",
    "\n",
    "                \n",
    "                new_doc.metadata['Dokumento_tipas'] = extracted_metadata.Dokumento_tipas\n",
    "                new_doc.metadata['Miestas'] = extracted_metadata.Miestas\n",
    "                new_doc.metadata['Gatvė'] = extracted_metadata.Gatvė\n",
    "                new_doc.metadata['Kreipiamasi_dėl'] = extracted_metadata.Kreipiamasi_dėl\n",
    "                \n",
    "                enriched_docs.append(new_doc)\n",
    "                \n",
    "            except Exception as e:\n",
    "                print(f\"Error processing document {document_title}: {e}\")\n",
    "                enriched_docs.append(doc)\n",
    "        else:\n",
    "            enriched_docs.append(doc)\n",
    "    \n",
    "    return enriched_docs"
   ]
  },
  {
   "cell_type": "markdown",
   "metadata": {},
   "source": [
    "### Extracting metadata fields such as City, Street, Work Type, and Document Type.\n",
    "### Ištraukiami metaduomenys, tokie kaip Miestas, Gatvė, Darbo tipas ir Dokumento tipas."
   ]
  },
  {
   "cell_type": "code",
   "execution_count": null,
   "metadata": {},
   "outputs": [],
   "source": []
  },
  {
   "cell_type": "code",
   "execution_count": 22,
   "metadata": {},
   "outputs": [],
   "source": [
    "llm = ChatGroq(\n",
    "            model=\"meta-llama/llama-4-maverick-17b-128e-instruct\",  \n",
    "           temperature=0.0,\n",
    "            max_tokens=200,\n",
    "            max_retries=3,\n",
    "\n",
    "        )"
   ]
  },
  {
   "cell_type": "code",
   "execution_count": 23,
   "metadata": {
    "scrolled": true
   },
   "outputs": [],
   "source": [
    "enriched_documents = enrich_documents_with_metadata(processed_documents_metadata, llm)\n",
    "\n"
   ]
  },
  {
   "cell_type": "markdown",
   "metadata": {},
   "source": [
    "### Example of how the extracted metadata fields appear.\n",
    "### Pavyzdys, kaip atrodo ištraukti metaduomenys."
   ]
  },
  {
   "cell_type": "code",
   "execution_count": 24,
   "metadata": {},
   "outputs": [
    {
     "name": "stdout",
     "output_type": "stream",
     "text": [
      "Original title: Aukštabalio g. 4, Šiauliai Įėjimo laiptų remontas.pdf\n",
      "Dokumento_tipas: Nėra\n",
      "Miestas: Šiauliai\n",
      "Gatvė: Aukštabalio g.4\n",
      "Kreipiamasi_dėl: Įėjimo laiptų remontas\n",
      "Original title: Dariaus ir Girėno g. 8, Šiauliai, Stogo, galinių sienų remontas įrengiant apšiltinimą.pdf\n",
      "Dokumento_tipas: Kvietimas\n",
      "Miestas: Šiauliai\n",
      "Gatvė: Dariaus ir Girėno g.8\n",
      "Kreipiamasi_dėl: Stogo, galinių sienų remontas įrengiant apšiltinimą\n",
      "Original title: Kvietimas pateikti pasiūlymą adresu Baltijos pr. 47, Klaipėda, dėl 7 laiptinės laiptų pakopų atnaujinimo darbų.pdf\n",
      "Dokumento_tipas: Kvietimas\n",
      "Miestas: Klaipėda\n",
      "Gatvė: Baltijos pr.47\n",
      "Kreipiamasi_dėl: dėl 7 laiptinės laiptų pakopų atnaujinimo darbų\n"
     ]
    }
   ],
   "source": [
    "for doc in enriched_documents[:3]:\n",
    "    print(f\"Original title: {doc.metadata.get('Dokumento_pavadinimas')}\")\n",
    "    print(f\"Dokumento_tipas: {doc.metadata.get('Dokumento_tipas')}\")\n",
    "    print(f\"Miestas: {doc.metadata.get('Miestas')}\")\n",
    "    print(f\"Gatvė: {doc.metadata.get('Gatvė')}\")\n",
    "    print(f\"Kreipiamasi_dėl: {doc.metadata.get('Kreipiamasi_dėl')}\")"
   ]
  },
  {
   "cell_type": "markdown",
   "metadata": {},
   "source": [
    "### Converting documents into a pandas DataFrame for data analysis. Confirming if this approach is appropriate.\n",
    "### Konvertuojami dokumentai į pandas DataFrame analizei. Patikrinama, ar tai tinkamamas būdas buvo naudojamas gauti metaduomenis."
   ]
  },
  {
   "cell_type": "code",
   "execution_count": 25,
   "metadata": {},
   "outputs": [],
   "source": [
    "def metadata_to_dataframe(docs: list) -> pd.DataFrame:\n",
    "    records = []\n",
    "    for doc in docs:\n",
    "        if doc.metadata:\n",
    "            records.append(doc.metadata)\n",
    "        else:\n",
    "            records.append({})\n",
    "    df = pd.DataFrame(records)\n",
    "    return df"
   ]
  },
  {
   "cell_type": "code",
   "execution_count": 26,
   "metadata": {},
   "outputs": [],
   "source": [
    "df_metadata = metadata_to_dataframe(enriched_documents)"
   ]
  },
  {
   "cell_type": "code",
   "execution_count": 27,
   "metadata": {},
   "outputs": [
    {
     "data": {
      "text/html": [
       "<div>\n",
       "<style scoped>\n",
       "    .dataframe tbody tr th:only-of-type {\n",
       "        vertical-align: middle;\n",
       "    }\n",
       "\n",
       "    .dataframe tbody tr th {\n",
       "        vertical-align: top;\n",
       "    }\n",
       "\n",
       "    .dataframe thead th {\n",
       "        text-align: right;\n",
       "    }\n",
       "</style>\n",
       "<table border=\"1\" class=\"dataframe\">\n",
       "  <thead>\n",
       "    <tr style=\"text-align: right;\">\n",
       "      <th></th>\n",
       "      <th>Dokumento_pavadinimas</th>\n",
       "      <th>Pasiulyma_pateikti_iki</th>\n",
       "      <th>uuid</th>\n",
       "      <th>Dokumento_tipas</th>\n",
       "      <th>Miestas</th>\n",
       "      <th>Gatvė</th>\n",
       "      <th>Kreipiamasi_dėl</th>\n",
       "    </tr>\n",
       "  </thead>\n",
       "  <tbody>\n",
       "    <tr>\n",
       "      <th>0</th>\n",
       "      <td>Aukštabalio g. 4, Šiauliai Įėjimo laiptų remon...</td>\n",
       "      <td>2025-06-11 d. 12 val.</td>\n",
       "      <td>f2afcf42-c5e3-444e-bd71-44b5930064de</td>\n",
       "      <td>Nėra</td>\n",
       "      <td>Šiauliai</td>\n",
       "      <td>Aukštabalio g.4</td>\n",
       "      <td>Įėjimo laiptų remontas</td>\n",
       "    </tr>\n",
       "    <tr>\n",
       "      <th>1</th>\n",
       "      <td>Dariaus ir Girėno g. 8, Šiauliai, Stogo, galin...</td>\n",
       "      <td>2025-06-05 d. 12 val.</td>\n",
       "      <td>304d0f4a-a3e8-4ed7-a2ba-e087655ccd03</td>\n",
       "      <td>Kvietimas</td>\n",
       "      <td>Šiauliai</td>\n",
       "      <td>Dariaus ir Girėno g.8</td>\n",
       "      <td>Stogo, galinių sienų remontas įrengiant apšilt...</td>\n",
       "    </tr>\n",
       "    <tr>\n",
       "      <th>2</th>\n",
       "      <td>Kvietimas pateikti pasiūlymą adresu Baltijos p...</td>\n",
       "      <td>2025-05-12 d. 12 val.</td>\n",
       "      <td>ff781da8-4a31-4d20-b4ee-57556ba1e707</td>\n",
       "      <td>Kvietimas</td>\n",
       "      <td>Klaipėda</td>\n",
       "      <td>Baltijos pr.47</td>\n",
       "      <td>dėl 7 laiptinės laiptų pakopų atnaujinimo darbų</td>\n",
       "    </tr>\n",
       "    <tr>\n",
       "      <th>3</th>\n",
       "      <td>Kvietimas pateikti pasiūlymą adresu Baltijos p...</td>\n",
       "      <td>2025-05-28 d. 12 val.</td>\n",
       "      <td>30b315a9-c1c7-4fe3-92ee-6a19e185bfec</td>\n",
       "      <td>Kvietimas</td>\n",
       "      <td>Klaipėda</td>\n",
       "      <td>Baltijos pr.81</td>\n",
       "      <td>dėl Fasado remontas (Siūlių padengimas hermeti...</td>\n",
       "    </tr>\n",
       "    <tr>\n",
       "      <th>4</th>\n",
       "      <td>Kvietimas pateikti pasiūlymą adresu Debreceno ...</td>\n",
       "      <td>2025-06-02 d. 12 val.</td>\n",
       "      <td>229e91c1-e005-4fa0-a42a-dc4401415dd2</td>\n",
       "      <td>Kvietimas</td>\n",
       "      <td>Klaipėda</td>\n",
       "      <td>Debreceno g.16</td>\n",
       "      <td>dėl fasado plytų mūro remonto darbų</td>\n",
       "    </tr>\n",
       "  </tbody>\n",
       "</table>\n",
       "</div>"
      ],
      "text/plain": [
       "                               Dokumento_pavadinimas Pasiulyma_pateikti_iki  \\\n",
       "0  Aukštabalio g. 4, Šiauliai Įėjimo laiptų remon...  2025-06-11 d. 12 val.   \n",
       "1  Dariaus ir Girėno g. 8, Šiauliai, Stogo, galin...  2025-06-05 d. 12 val.   \n",
       "2  Kvietimas pateikti pasiūlymą adresu Baltijos p...  2025-05-12 d. 12 val.   \n",
       "3  Kvietimas pateikti pasiūlymą adresu Baltijos p...  2025-05-28 d. 12 val.   \n",
       "4  Kvietimas pateikti pasiūlymą adresu Debreceno ...  2025-06-02 d. 12 val.   \n",
       "\n",
       "                                   uuid Dokumento_tipas   Miestas  \\\n",
       "0  f2afcf42-c5e3-444e-bd71-44b5930064de            Nėra  Šiauliai   \n",
       "1  304d0f4a-a3e8-4ed7-a2ba-e087655ccd03       Kvietimas  Šiauliai   \n",
       "2  ff781da8-4a31-4d20-b4ee-57556ba1e707       Kvietimas  Klaipėda   \n",
       "3  30b315a9-c1c7-4fe3-92ee-6a19e185bfec       Kvietimas  Klaipėda   \n",
       "4  229e91c1-e005-4fa0-a42a-dc4401415dd2       Kvietimas  Klaipėda   \n",
       "\n",
       "                   Gatvė                                    Kreipiamasi_dėl  \n",
       "0        Aukštabalio g.4                             Įėjimo laiptų remontas  \n",
       "1  Dariaus ir Girėno g.8  Stogo, galinių sienų remontas įrengiant apšilt...  \n",
       "2         Baltijos pr.47    dėl 7 laiptinės laiptų pakopų atnaujinimo darbų  \n",
       "3         Baltijos pr.81  dėl Fasado remontas (Siūlių padengimas hermeti...  \n",
       "4         Debreceno g.16                dėl fasado plytų mūro remonto darbų  "
      ]
     },
     "execution_count": 27,
     "metadata": {},
     "output_type": "execute_result"
    }
   ],
   "source": [
    "df_metadata.head(5)"
   ]
  },
  {
   "cell_type": "markdown",
   "metadata": {},
   "source": [
    "### No missing values detected, indicating good data preprocessing.\n",
    "### Trūkstamų reikšmių nėra, tai rodo gerą duomenų apdorojimą."
   ]
  },
  {
   "cell_type": "code",
   "execution_count": 28,
   "metadata": {},
   "outputs": [
    {
     "name": "stdout",
     "output_type": "stream",
     "text": [
      "False\n",
      "Dokumento_pavadinimas     0\n",
      "Pasiulyma_pateikti_iki    0\n",
      "uuid                      0\n",
      "Dokumento_tipas           0\n",
      "Miestas                   0\n",
      "Gatvė                     0\n",
      "Kreipiamasi_dėl           0\n",
      "dtype: int64\n"
     ]
    }
   ],
   "source": [
    "\n",
    "print(df_metadata.isnull().values.any())\n",
    "\n",
    "\n",
    "print(df_metadata.isnull().sum())"
   ]
  },
  {
   "cell_type": "markdown",
   "metadata": {},
   "source": [
    "## Checking the count of all projects across different cities.\n",
    "## Tikrinamas visų projektų skaičius pagal miestus."
   ]
  },
  {
   "cell_type": "code",
   "execution_count": 29,
   "metadata": {},
   "outputs": [
    {
     "data": {
      "image/png": "[encoded data removed]",
      "text/plain": [
       "<Figure size 1000x600 with 1 Axes>"
      ]
     },
     "metadata": {},
     "output_type": "display_data"
    }
   ],
   "source": [
    "plt.figure(figsize=(10, 6))\n",
    "\n",
    "\n",
    "sns.countplot(data=df_metadata, x='Miestas', order=df_metadata['Miestas'].value_counts().index)\n",
    "\n",
    "plt.title('Count of all Projects per City')\n",
    "plt.xlabel('Miestas')\n",
    "plt.ylabel('Count')\n",
    "plt.xticks(rotation=45, ha='right')\n",
    "plt.tight_layout()\n",
    "plt.show()"
   ]
  },
  {
   "cell_type": "markdown",
   "metadata": {},
   "source": [
    "### Most of the projects are in Vilnius , Klaipėda and Šilutė\n",
    "### Dauguma projektų yra Vilniuje, Klaipėdoje ir Šilutėje."
   ]
  },
  {
   "cell_type": "markdown",
   "metadata": {},
   "source": [
    "### Checking all currently available projects for application, by city.\n",
    "### Tikrinami visi šiuo metu laisvi projektai pagal miestus, kuriuos dar galima pateikti."
   ]
  },
  {
   "cell_type": "code",
   "execution_count": 30,
   "metadata": {},
   "outputs": [
    {
     "data": {
      "image/png": "[encoded data removed]",
      "text/plain": [
       "<Figure size 1000x600 with 1 Axes>"
      ]
     },
     "metadata": {},
     "output_type": "display_data"
    }
   ],
   "source": [
    "def extract_date(date_str):\n",
    "    if pd.isna(date_str):\n",
    "        return None\n",
    "    try:\n",
    "        date_part = date_str.strip()[:10]\n",
    "        return pd.to_datetime(date_part, format='%Y-%m-%d')\n",
    "    except Exception:\n",
    "        return None\n",
    "\n",
    "# Add a new column with parsed date\n",
    "df_metadata['Pasiulyma_date'] = df_metadata['Pasiulyma_pateikti_iki'].apply(extract_date)\n",
    "\n",
    "\n",
    "today = pd.to_datetime(datetime.today().date())\n",
    "df_filtered = df_metadata[df_metadata['Pasiulyma_date'] > today]\n",
    "\n",
    "plt.figure(figsize=(10, 6))\n",
    "sns.countplot(data=df_filtered, x='Miestas', order=df_filtered['Miestas'].value_counts().index)\n",
    "plt.title('Count of Projects per Miestas Still Open for Application')\n",
    "plt.xlabel('Miestas')\n",
    "plt.ylabel('Count')\n",
    "plt.xticks(rotation=45, ha='right')\n",
    "plt.tight_layout()\n",
    "plt.show()"
   ]
  },
  {
   "cell_type": "markdown",
   "metadata": {},
   "source": [
    "### Available projects show different distribution; Kaunas ranks third, and Šilutė currently has no open projects.\n",
    "### Laisvi projektai rodo kitokią pasiskirstymo struktūrą: Kaunas yra trečioje vietoje, o Šilutėje šiuo metu nėra laisvų projektų."
   ]
  },
  {
   "cell_type": "markdown",
   "metadata": {},
   "source": [
    "# Initializing the first vector store, containing documents with full page content. \n",
    "# Inicializuojama pirmoji vektorių saugykla, kurioje dokumentai turi pilną turinį."
   ]
  },
  {
   "cell_type": "code",
   "execution_count": 31,
   "metadata": {},
   "outputs": [],
   "source": [
    "vectorstores_dir = os.path.join(os.path.dirname(os.path.abspath('__file__')), 'vectorstores')\n",
    "if not os.path.exists(vectorstores_dir):\n",
    "    os.makedirs(vectorstores_dir)"
   ]
  },
  {
   "cell_type": "code",
   "execution_count": 32,
   "metadata": {},
   "outputs": [],
   "source": [
    "persist_directory = os.path.join(vectorstores_dir, 'Mano_BustasPasiulymai_VDidele')"
   ]
  },
  {
   "cell_type": "code",
   "execution_count": 33,
   "metadata": {},
   "outputs": [],
   "source": [
    "vectorstore  = Chroma.from_documents(documents=enriched_documents, embedding=embeddings, persist_directory=persist_directory,\n",
    ")"
   ]
  },
  {
   "cell_type": "code",
   "execution_count": 34,
   "metadata": {},
   "outputs": [],
   "source": [
    "retriever = vectorstore.as_retriever(search_type=\"similarity\", search_kwargs={\"k\": 3, })"
   ]
  },
  {
   "cell_type": "markdown",
   "metadata": {},
   "source": [
    "## Testing the base retriever created from the Chroma vector store.\n",
    "## Testuojamas bazinis retrieveris, sukurtas iš Chroma vektorių saugyklos."
   ]
  },
  {
   "cell_type": "code",
   "execution_count": 35,
   "metadata": {
    "scrolled": true
   },
   "outputs": [
    {
     "data": {
      "text/plain": [
       "[Document(metadata={'Dokumento_pavadinimas': 'Kvietimas pateikti pasiūlymą adresu Sodų g. 1, Šilutė, dėl vidaus šildymo sistemos modernizavimo rangos darbų su projektinės dokumentacijos paruošimu.pdf', 'Dokumento_tipas': 'Kvietimas', 'Gatvė': 'Sodų g.1', 'Kreipiamasi_dėl': 'dėl vidaus šildymo sistemos modernizavimo rangos darbų su projektinės dokumentacijos paruošimu', 'Miestas': 'Šilutė', 'Pasiulyma_pateikti_iki': '2025-02-20 d. 12 val.', 'uuid': 'a43277cd-251d-466a-94af-7124740d7a72'}, page_content=' \\n \\n \\n \\n \\nSKELBIMAS PATEIKTI PASIŪLYMĄ \\n2025-02-06 \\n \\n \\n1. \\nUžsakovas: UAB Mano Būstas Vakarai įmonės kodas 177000697 \\n \\n2. \\nObjektas: Sodų g.    1, Šilutė \\n \\n3. \\nTeiktinų paslaugų arba atliktinų darbų pobūdis: \\n3.1. Vidaus šildymo sistemos modernizavimo rangos darbai su projektinės dokumentacijos paruošimu. \\n3.2. Pateikiant pasiūlymą išskirti kainas:  \\nDarbai \\nKaina su PVM \\nProjektinės dokumentacijos paruošimas \\n \\nVidaus šildymo sistemos modernizavimo rangos \\ndarbai \\n \\nViso:  \\n \\n4. \\nPateiktų dokumentų pavadinimai kainai paskaičiuoti: \\n4.1. 1) bendrosios nuosavybės teise valdomų elevatorinių šilumos punktų keitimo į naują automatizuotą \\nšilumos punktą ar senų susidėvėjusių automatinių šilumos punktų, kurie automatiškai nepalaiko nustatytos \\nkaršto vandens temperatūros pastato vidaus karšto vandens tiekimo sistemoje,  atnaujinimo arba atskiro \\nšilumos punkto daugiabučiame name įrengimo, įskaitant balansinių ventilių ant šildymo ir karšto vandens \\nstovų įrengimo; 2) šildymo sistemos pertvarkymo ar keitimo (įskaitant radiatorių keitimą, termostatinių \\nventilių įrengimą, vamzdynų keitimą ir (ar) vamzdynų izoliavimą, balansinių ventilių ar kitos balansavimo \\nįrangos rengimą); 3) individualių šilumos apskaitos prietaisų ar šilumos daliklių sistemos įrengimo ir (ar) \\nišmaniosios apskaitos, įgalinančios vienalaikį rodmenų nuskaitymą iš daliklių daugiabučiame name 4) vidaus \\nšildymo sistemos modernizavimo (mažosios renovacijos) gyventojų pritarimo, projekto rengimo ir \\nįgyvendinimo (toliau – Namo mažoji renovacija). \\n \\n5. \\nNumatoma darbų/paslaugų pradžios data: 2025 m.  II ketvirtis.  \\n \\n6. \\nKonkurso sąlygos: \\n6.1. Vadovaujantis Lietuvos Respublikos teisės aktais, darbai turi būti atliekami kokybiškai ir suteikiant jiems \\ngarantiją. \\n6.2. Pasiūlymo galiojimo terminas 3 mėnesiai.  \\n6.3. Darbų eigą ir atlikimą pagal atskirą susitarimą fiksuoti per Administratoriaus nurodytą sistemą (e-Paskyra). \\n6.4. Siekiant užtikrinti Rangovo garantinių įsipareigojimų tinkamą vykdymą, taikomos šios sąlygos: \\nRangovas nuo sutarties pasirašymo dienos per 10 darbo dienų įsipareigoja pateikti Užsakovui šios sutarties \\nįvykdymo užtikrinimą (banko garantiją arba draudimo bendrovės laidavimo raštą) kurio vertė ne mažesnė kaip \\n10 proc. pasiūlymo vertės arba šią sumą pervesti į Užsakovo banko sąskaitą, kuri bus naudojama kaip \\nbesąlyginis šios sutarties įvykdymo užtikrinimas (Užsakovas neturės pareigos įrodinėti nuostolių sumos už \\nRangovo sutartinių įsipareigojimų nevykdymą) \\n6.5. Galutinė pasiūlymo kaina nurodoma su PVM (jeigu įmonė yra PVM mokėtojas). \\n6.6.    Atsiskaitymo su Rangovu už atliktus darbus sąlygos ir terminai: \\n6.6.1. Darbų suma, sumažinta paramos dalimi (kurią Užsakovui po darbų atlikimo turėtų sumokėti paramos \\nadministratorius), sumokama Rangovui per 48 mėn. nuo darbų atlikimo. \\n6.6.2. Likusi suma už Darbus (paramos suma) sumokama Rangovui per 30 kalendorinių dienų nuo dienos, \\nkai paramą Užsakovui perveda paramos administratorius.  \\n6.6.3. Jeigu Rangovas pageidauja gauti mokėjimą, nurodytą 6.6.1 p., per 30 kalendorinių dienų, Rangovas \\ngali įsigyti paslaugų paketą, kurio kaina bus apskaičiuota pasibaigus konkursui. Į šį paketą įeina: \\n6.6.3.1. Techninis konsultavimas dėl darbų optimalaus įgyvendinimo; \\n6.6.3.2. Projektinės užduoties parengimas; \\n6.6.3.3. Rangovų atliktų darbų garantinių įsipareigojimų organizavimas; \\n \\n6.6.3.4. Sertifikavimas (įtraukimas į patikimų rangovų sąrašą); \\n6.6.3.5. Marketinginės (patikimų rangovų sąrašo viešinimas) paslaugos; \\n6.6.3.6. Rangovų finansinio faktoringo organizavimas; \\n6.6.3.7. Garantijos, kurią išduoda Užsakovas, kad su Rangovu pagal Sutartį bus atsiskaityta, kaštai. \\n6.6.4. Jeigu parama nėra gaunama, likusi Darbų suma (paramos suma) sumokama Rangovui per 6.6.1 p. \\nnurodytą terminą. Rangovui pageidaujant gauti mokėjimą anksčiau – Rangovas gali kreiptis į \\nfaktoringo įmonę. \\n6.6.5. Pateikus statybos užbaigimą patvirtinantį dokumentą, jeigu jį privaloma pateikti Statybos įstatyme \\nnustatyta tvarka; \\n6.6.6. Pateikus Valstybinės energetikos reguliavimo tarybos šilumos įrenginių būklės patikrinimo dokumentą. \\n \\n7. \\nReikalavimai kainų apklausos dalyviams: \\n7.1. Rangovas, norinti dalyvauti atrankoje, privalo pateikti licencijas, atestatus ar leidimus ir (ar) jos darbuotojų \\nkvalifikaciją, patvirtinančią teisę atlikti nustatytus darbus, liudijančius dokumentus, jeigu pagal galiojančius \\nteisės aktus darbus atlikti yra būtinos licencijos, atestatai ar leidimai ir (ar) darbuotojo kvalifikacija. \\n7.2. Rangovas turi būti įregistruotas įstatymų nustatyta tvarka ir turi teisę verstis rangos darbų veikla, kuri \\nreikalinga sutarčiai įvykdyti. \\n7.3. Rangovas turi pakankamas apyvartines lėšas sutartiniams įsipareigojimams įvykdyti, t. y. disponuoja ne \\nmažesne kaip 10 proc. savo pasiūlymo vertės suma su PVM tris paskutinius mėnesius iki pasiūlymų pateikimo \\ndienos. \\n7.4. Rangovo vidutinė metinė atliktų statybos ir montavimo darbų, apimtis  ne mažesnė kaip 550 000,00 Eur su \\nPVM.  \\n7.5. Rangovo per pastaruosius 3 metus arba per laiką nuo Rangovo registracijos dienos (jeigu Rangovas vykdė \\nveiklą mažiau nei 3 metus) tinkamai įvykdytų ir priduotų komisijai ne mažiau kaip trijų ypatingų gyvenamosios \\npaskirties pastatų modernizavimo statybos darbų sutarčių (kurioje atlikti šilumos sistemos modernizavimo \\ndarbai)  vertės (kiekvienos atskirai) turi būti ne mažesnės kaip  300 000,00 Eur be PVM. \\n7.6. Rangovas sutarties vykdymui turi pasiūlyti bent vieną atestuotą specialiųjų statybos darbų vadovą darbų sritis: \\nstatinio vandentiekio ir nuotekų šalinimo inžinerinių sistemų įrengimas statinio šildymo ir vėdinimo \\ninžinerinių sistemų įrengimas;, kuris vadovavo ne  mažiau nei 2 (dviejų) ypatingų gyvenamosios paskirties \\npastatų atnaujinimo (modernizavimo) statybos darbams, kurių kiekvieno vertė nemažesnė kaip 160 00,00 Eur \\nbe PVM. \\n7.7. Rangovas turi teisę verstis projektų rengimo ir projektų vykdymo priežiūros veikla. \\n7.8. Rangovo vidutinės metinės pajamos veiklos, susijusios su gyvenamosios paskirties pastatų projektavimu, per \\npaskutinius 3 finansinius metus, o jeigu rangovas įregistruotas ar veiklą atitinkamoje srityje pradėjo vėliau – \\nnuo jo įregistravimo dienos, turi būti ne mažesnės kaip 550 000,000 Eur su PVM.  \\n7.9. Rangovas privalo turėti ne mažiau kaip 1 kvalifikuotą specialistą darbų atlikimui. Techniniu reglamentu STR \\n1.02.01:2017 „Statybos dalyvių atestavimo ir teisės pripažinimo tvarkos aprašas. \\n7.10. Rangovas numatomiems atlikti darbams turi būti įdiegęs aplinkos apsaugos vadybos sistemą EMAS arba kitą \\naplinkos apsaugos vadybos sistemą pagal standartą LST EN ISO 14001 ar kitus aplinkos apsaugos vadybos \\nstandartus, pagrįstus atitinkamais Europos arba tarptautiniais standartais, kuriuos yra patvirtinusios \\nsertifikavimo įstaigos, atitinkančios Europos Sąjungos teisės aktus arba atitinkamus Europos ar tarptautinius \\nsertifikavimo standartus. \\n7.11. Tuo atveju, jeigu Rangovas pretenduoja veikti jungtinės veiklos pagrindu, Rangovas įsipareigoja pranešti \\nUžsakovui, jog tarp Rangovo ir Partnerio yra sudaryta jungtinės veiklos sutartis ir ją pateikti. \\n \\n8. \\nPasiūlymų vertinimo kriterijai ir sąlygos: \\n8.1. Vertinami tik tie pasiūlymai ir jį pateikęs dalyviai, kurie atitinka šiame Kvietime aukščiau nurodytus \\nreikalavimus. Reikalavimų neatitinkantys pasiūlymai nevertinami. \\n8.2. Kainų apklausos reikalavimus atitinkantys pasiūlymai vertinami vadovaujantis mažiausiu kainos kriterijumi. \\n \\n9. Jei pasiūlyme nebus nurodytos pastabos, bus priimama, kad pasiūlymas galioja pagal visas konkurso \\nsąlygas. \\n \\n10. Pasiūlymą pateikti iki  2025-02-20 d.  12 val. \\n \\n Pasiūlymo pateikimo būdas: renata@pirkimucentras.lt \\n \\n \\n11. Pasiūlymų vertinimo vieta, data, laikas (valanda): Kuosų g. 18-1, Klaipėda, 2025-02-20 d. 14 val. \\n \\n \\n \\n12. Administratoriaus organizuojamuose konkursuose objektų įgalioti atstovai yra kviečiami dalyvauti \\nkomisijos posėdyje stebėtojo teisėmis, iš anksto informavus apie savo dalyvavimą. \\n \\n \\nDėl papildomos informacijos kreiptis el. paštu – Renata Rapšė, renata@pirkimucentras/lt \\n \\n \\n'),\n",
       " Document(metadata={'Dokumento_pavadinimas': 'Kvietimas pateikti pasiūlymą adresu V. Kudirkos g. 25, Šilutė, dėl Namo kadastrinės bylos atnaujinimo po namo renovacijos.pdf', 'Dokumento_tipas': 'Kvietimas', 'Gatvė': 'V. Kudirkos g.25', 'Kreipiamasi_dėl': 'dėl Namo kadastrinės bylos atnaujinimo po namo renovacijos', 'Miestas': 'Šilutė', 'Pasiulyma_pateikti_iki': '2024-09-17 d. 12 val.', 'uuid': 'd46ec46c-14e8-49c9-b4e3-a009b2819bcc'}, page_content=' \\n \\n \\n \\n \\n \\n \\n \\n \\n \\n \\nKVIETIMAS PATEIKTI PASIŪLYMĄ \\n2024-09-12 \\n \\n \\n1. Užsakovas: UAB Mano Būstas Vakarai \\n \\n2. Objektas:  V. Kudirkos g.   25, Šilutė \\n \\n3. Teiktinų paslaugų arba atliktinų darbų pobūdis: \\n3.1.   Po namo renovacijos, Namo kadastrinės bylos atnaujinimas 20 butų namas, 2 aukštų. Bendras namo plotas \\n1 223,17 m2, naudingas plotas 962,88 m2. \\n3.2.  Įregistravimas registrų centre \\n \\n4. Konkurso sąlygos: \\n4.1. Vykdant darbus vadovaujantis Lietuvos Respublikos teisės aktais.  \\n4.2. Darbų atlikimo terminas derinamas su laimėtoju sutarties pasirašymo metu; \\n4.3. Pasiūlymo galiojimo terminas 3 mėnesiai.  \\n4.4. Galutinė pasiūlymo kaina nurodoma su PVM (jeigu įmonė yra PVM mokėtojas). \\n4.5. Pasiūlyme Vykdytojas pasirenka kokiomis sąlygomis dalyvaus konkurse: \\n4.6. Administratorius vieną kartą į ketvirtį už atliktus darbus Vykdytojui apmoka tiek, kiek surinko lėšų iš \\ndaugiabučio namo savininkų (gyventojų), t.y. Vykdytojui tenka visa mokesčių nemokėjimo ir faktinių \\natliekamų darbų gavėjų nemokumo rizika. Vykdytojui pageidaujant gauti atsiskaitymą per 45 \\nkalendorines dienas, vykdytojas gali įsigyti paslaugų paketą, kuris apskaičiuojamas nuo bendros \\npasiūlymo vertės: \\n4.6.1. Techninis konsultavimas dėl darbų optimalaus įgyvendinimo; \\n4.6.2. Projektinės užduoties parengimas; \\n4.6.3. Sertifikavimas (įtraukimas į patikimų rangovų sąrašą); \\n4.6.4. Marketinginės (patikimų rangovų sąrašo viešinimas) paslaugos; \\n \\n5. Reikalavimai kainų apklausos dalyviams: \\n5.1. Įmonė, norinti dalyvauti atrankoje, privalo pateikti licencijas, atestatus ar leidimus ir (ar) jos darbuotojų \\nkvalifikaciją, patvirtinančią teisę atlikti nustatytus darbus, liudijančius dokumentus, jeigu pagal \\ngaliojančius teisės aktus darbus atlikti yra būtinos licencijos, atestatai ar leidimai ir (ar) darbuotojo \\nkvalifikacija. \\n5.2. Tuo atveju, jeigu Vykdytojas pretenduoja veikti jungtinės veiklos pagrindu, Vykdytojas įsipareigoja \\npranešti Užsakovui, jog tarp Vykdytojo ir Partnerio yra sudaryta jungtinės veiklos sutartis ir ją pateikti. \\n \\n6. Pasiūlymų vertinimo kriterijai ir sąlygos: \\n \\n6.1. Vertinami tik tie pasiūlymai ir jį pateikęs dalyviai, kurie atitinka šiame Kvietime aukščiau nurodytus \\nreikalavimus. Reikalavimų neatitinkantys pasiūlymai nevertinami. \\n6.2. Kainų apklausos reikalavimus atitinkantys pasiūlymai vertinami vadovaujantis mažiausiu kainos \\nkriterijumi. \\n6.3. Jei pasiūlyme nebuvo nurodytos pastabos, bus priimama, kad pasiūlymas galioja pagal visas konkurso \\nsąlygas. \\n6.4. Užsakovas vadovaudamasis 2001 m. gegužės 23 d. LR Vyriausybės nutarimo Nr. 603 Dėl daugiabučio \\nnamo bendrojo naudojimo objektų administravimo nuostatų patvirtinimo, patvirtinto 2022 m. gruodžio \\n29 d. LR Vyriausybės nutarimu Nr. 1331, 14.2.7. punktu daugiabučių namų skelbimų lentose ir \\nAdministratoriaus internetinėje svetainėje skelbs Rangovo informaciją t. y. kontaktinę informaciją \\n(telefono numerį) bei vardą pavardę/įmonės pavadinimą. \\n \\n7. Jei pasiūlyme nebus nurodytos pastabos, bus laikoma, kad pasiūlymas galioja pagal visas konkurso \\nsąlygas. \\n \\n9. Pasiūlymą pateikti iki  2024-09-17 d.  12 val. \\n \\n10.  Pasiūlymo pateikimo būdas: Pasiūlymai pateikiami el. paštu renata@pirkimucentras.lt arba pristatant \\npasiūlymą užklijuotame voke Administratoriui adresu Kuosų g. 18-1, Klaipėda. Ant voko turi būti užrašytas \\ntiekėjo pavadinimas ir prierašas ,,Darbų pavadinimas ir adresas“ \\n \\n11. Dėl papildomos informacijos kreiptis el.paštu.  \\nRenata Rapšė, renata@pirkimucentras/lt \\n \\n \\n  \\n'),\n",
       " Document(metadata={'Dokumento_pavadinimas': 'Kvietimas pateikti pasiūlymą adresu Taikos g. 15, Šilutė, dėl fasado ir stogo paprastojo remonto techninio – darbo projekto parengimo.pdf', 'Dokumento_tipas': 'Kvietimas', 'Gatvė': 'Taikos g.15', 'Kreipiamasi_dėl': 'dėl fasado ir stogo paprastojo remonto techninio – darbo projekto parengimo', 'Miestas': 'Šilutė', 'Pasiulyma_pateikti_iki': '2024-12-13 d. 12 val.', 'uuid': '23b3c17e-de48-4fbe-8fd9-8bd5930a9eaf'}, page_content=' \\n \\n \\n \\n \\n \\n \\n \\n \\n \\n \\nKVIETIMAS PATEIKTI PASIŪLYMĄ \\n2024-11-29 \\n \\n \\n1. Užsakovas: UAB Mano Būstas Vakarai \\n \\n2. Objektas:  Taikos g.   15, Šilutė \\n \\n3. \\nTeiktinų paslaugų arba atliktinų darbų pobūdis: \\n3.1. Daugiabučio gyvenamojo namo Taikos g. 15, ŠILUTĖ, fasado ir stogo paprastojo remonto techninis - darbo \\nprojektas (toliau – Projektas) \\n3.2. Pateiktų dokumentų pavadinimai kainai paskaičiuoti: \\n3.3. Techninė užduotis \\n \\n4. Konkurso sąlygos: \\n4.1. Darbų atlikimo terminas derinamas su laimėtoju sutarties pasirašymo metu;  \\n4.2. Darbus atlikti reikia vadovaujantis pridėtomis technologinėmis kortelėmis (jeigu yra pateiktos kartu su \\nkvietimu); \\n4.3. Darbų eigą ir atlikimą pagal atskirą susitarimą fiksuoti per Administratoriaus nurodytą sistemą (e-\\nPaskyra). \\n4.4. Galutinė pasiūlymo kaina nurodoma su PVM (jeigu įmonė yra PVM mokėtojas); \\n4.5. \\nPasiūlyme Vykdytojas pasirenka kokiomis sąlygomis dalyvaus konkurse: \\n4.6. \\nAdministratorius vieną kartą į ketvirtį už atliktus darbus Vykdytojui apmoka tiek, kiek surinko lėšų iš daugiabučio \\nnamo savininkų (gyventojų), t.y. Vykdytojui tenka visa mokesčių nemokėjimo ir faktinių atliekamų darbų gavėjų \\nnemokumo rizika. Vykdytojui pageidaujant gauti atsiskaitymą per 45 kalendorines dienas, vykdytojas gali \\nįsigyti paslaugų paketą, kuris apskaičiuojamas nuo bendros pasiūlymo vertės: \\n4.6.1. \\nTechninis konsultavimas dėl darbų optimalaus įgyvendinimo; \\n4.6.2. \\nProjektinės užduoties parengimas; \\n4.6.3. \\nSertifikavimas (įtraukimas į patikimų įmonių sąrašą); \\n4.6.4. \\nMarketinginės (patikimų įmonių sąrašo viešinimas) paslaugos; \\n \\n5. Reikalavimai kainų apklausos dalyviams. \\nĮmonė, norinti dalyvauti atrankoje, privalo: \\n5.1. turėti tinkamą patirtį tokių pačių/panašių darbų atlikime, o jos darbuotojai turi turėti teisės aktų nustatytą \\nkvalifikaciją, patvirtinančią teisę atlikti numatytus darbus. Užsakovas turi teisę reikalauti pateikti dokumentus, \\npatvirtinančius įmonės atitikimą šiam kvalifikacjos reikalavimui. \\n5.2. turėti projektuotojo civilinės atsakomybės draudimą. Užsakovas turi teisę reikalauti pateikti dokumentus, \\npatvirtinančius įmonės atitikimą šiam kvalifikacjos reikalavimui. \\n5.3. pateikti atestatą, įrodantį, kad įmonė gali dirbti kultūros paveldo objektuose; (Jeigu pastatas kultūros paveldo \\nsaugoma vertybė arba yra kultūros paveldo saugomoje zonoje); \\n5.4. informuoti, jeigu bus daroma jungtinės veikla su kita įmone; \\n5.5. įvykdyti kitus reikalavimus pagal apklausos ir apklausos technines sąlygas (jeigu tokios yra pateikiamos); \\n5.6. patvirtinti, kad pasiūlymuose nurodyta informacija ir duomenys nėra ir nebus laikomi konfidencialiais ir pateikta \\ninformacija nesudaro tiekėjo komercinės paslapties. \\n \\n6. Pasiūlymų vertinimo kriterijai ir sąlygos: \\n6.1. gavus pasiūlymus visų pirma yra patikrinama, ar pateiktas pasiūlymas ir jį pateikęs dalyvis atitinka kvietime \\nnurodytus reikalavimus. Reikalavimų neatitinkantys pasiūlymai nevertinami; \\n6.2. kainų apklausos reikalavimus atitinkantys pasiūlymai vertinami vadovaujanti kokybiniu vertinimo kriterijų \\nkompleksu, naudojant tokią vertinimo kriterijų prioritetinę eilę: \\n6.2.1. butų/patalpų savininkų pasirinkimas; \\n6.2.2. kaina; \\n6.2.3. vertinami tik tie pasiūlymai kurie atitinka 6 punkto ir techninių sąlygų reikalavimus. \\n \\n \\n7. Jei pasiūlyme nebus nurodytos pastabos, bus laikoma, kad pasiūlymas galioja pagal visas konkurso sąlygas. \\n \\n9. Pasiūlymą pateikti iki  2024-12-13 d.  12 val. \\n \\n10.  Pasiūlymo pateikimo būdas: Pasiūlymai pateikiami el. paštu renata@pirkimucentras.lt arba pristatant pasiūlymą \\nužklijuotame voke Administratoriui adresu Kuosų g. 18-1, Klaipėda. Ant voko turi būti užrašytas tiekėjo pavadinimas ir \\nprierašas ,,Darbų pavadinimas ir adresas“ \\n \\n11. Dėl papildomos informacijos kreiptis el.paštu.  \\nRenata Rapšė, renata@pirkimucentras/lt \\n \\n \\n  \\n')]"
      ]
     },
     "execution_count": 35,
     "metadata": {},
     "output_type": "execute_result"
    }
   ],
   "source": [
    "retriever.invoke(\"Kokiu objektu yra Šilutėje?\")"
   ]
  },
  {
   "cell_type": "markdown",
   "metadata": {},
   "source": [
    "### Instruct retriever initialization from base retriever\n",
    "### Inicijuojamas Instruct retriveris, pagrįstas baziniu retrieveriu."
   ]
  },
  {
   "cell_type": "code",
   "execution_count": 36,
   "metadata": {},
   "outputs": [],
   "source": [
    "from langchain.schema.retriever import BaseRetriever\n",
    "\n",
    "def get_detailed_instruct(task_description: str, query: str) -> str:\n",
    "    \"\"\"Format a query with a task description to guide the model.\"\"\"\n",
    "    return f'Instruct: {task_description}\\nQuery: {query}'\n",
    "\n",
    "\n",
    "class InstructRetriever(BaseRetriever):\n",
    "    \"\"\"Retriever that adds instruction to queries before retrieval.\"\"\"\n",
    "    \n",
    "    base_retriever: BaseRetriever = Field(...)\n",
    "    task_description: str = Field(...)\n",
    "\n",
    "    def _get_relevant_documents(self, query: str) -> List[Document]:\n",
    "        \"\"\"Add instruction to the query before passing to the base retriever.\"\"\"\n",
    "        formatted_query = get_detailed_instruct(self.task_description, query)\n",
    "        return self.base_retriever.invoke(formatted_query)\n"
   ]
  },
  {
   "cell_type": "code",
   "execution_count": 37,
   "metadata": {},
   "outputs": [],
   "source": [
    "\n",
    "basic_retriever = vectorstore.as_retriever(search_type=\"similarity\", search_kwargs={\"k\": 3})\n",
    "\n",
    "\n",
    "task_description = \"Atrask aktualiausius objektus iš duombazės\"\n",
    "\n",
    "\n",
    "instruct_retriever = InstructRetriever(\n",
    "    base_retriever=basic_retriever,\n",
    "    task_description=task_description\n",
    ")"
   ]
  },
  {
   "cell_type": "code",
   "execution_count": null,
   "metadata": {},
   "outputs": [],
   "source": []
  },
  {
   "cell_type": "code",
   "execution_count": 38,
   "metadata": {
    "scrolled": true
   },
   "outputs": [
    {
     "data": {
      "text/plain": [
       "[Document(metadata={'Dokumento_pavadinimas': 'Kvietimas pateikti pasiūlymą dėl vandentiekio projekto parengimo darbų, adresu Panerių g. 41, Vilnius.pdf', 'Dokumento_tipas': 'Kvietimas', 'Gatvė': 'Panerių g.41', 'Kreipiamasi_dėl': 'dėl vandentiekio projekto parengimo darbų', 'Miestas': 'Vilnius', 'Pasiulyma_pateikti_iki': '2025-06-09 d. 12 val.', 'uuid': '52950d34-7d6e-4075-8604-0f73ca4bb27a'}, page_content=' \\n \\n \\n \\n \\nSKELBIMAS PATEIKTI PASIŪLYMĄ \\n2025-05-23 \\n \\n1. \\nUžsakovas: UAB Mano Būstas Vilnius įmonės kodas 121452091 \\n \\n2. \\nObjektas: Panerių g.   41, Vilnius \\n \\n3. \\nTeiktinų paslaugų arba atliktinų darbų pobūdis: \\n3.1. Vandentiekio pajungimo projekto parengimo darbai.  \\n \\n4. \\nPateiktų dokumentų pavadinimai kainai paskaičiuoti: \\nVilniaus vandenų prisijungimo sąlygos.  \\n \\n5. \\nKonkurso sąlygos: \\n5.1. Vykdant darbus vadovaujantis Lietuvos Respublikos teisės aktais.  \\n5.2. Pasiūlymo galiojimo terminas 3 mėnesiai.  \\n5.3. Darbų eigą ir atlikimą pagal atskirą susitarimą fiksuoti per Administratoriaus nurodytą sistemą (e-Paskyra). \\n5.4. Galutinė pasiūlymo kaina nurodoma su PVM (jeigu įmonė yra PVM mokėtojas). \\n5.5. Pasiūlyme Vykdytojas pasirenka kokiomis sąlygomis dalyvaus konkurse. \\n5.6. Administratorius vieną kartą į ketvirtį už atliktus darbus Vykdytojui apmoka tiek, kiek surinko lėšų iš \\ndaugiabučio namo savininkų (gyventojų), t.y. Vykdytojui tenka visa mokesčių nemokėjimo ir faktinių \\natliekamų darbų gavėjų nemokumo rizika. Jeigu Vykdytojas pageidauja gauti atsiskaitymą per 45 \\nkalendorines dienas, vykdytojas gali įsigyti paslaugų paketą, kuris apskaičiuojamas nuo bendros \\npasiūlymo vertės: \\n5.6.1. Konsultavimas dėl darbų optimalaus įgyvendinimo; \\n5.6.2. Projektinės užduoties parengimas; \\n5.6.3. Sertifikavimas (įtraukimas į patikimų įmonių sąrašą); \\n \\n \\n6. \\nReikalavimai kainų apklausos dalyviams: \\n6.1. Tiekėjas, dalyvaujantis konkurse, turi atitikti šio kvietimo priede Nr. 1 nurodytus reikalavimus ir pateikti tą \\npatvirtinančius dokumentus. Tuo atveju, kai ankstesnių apklausų ar konkursų pagrindu Tiekėjas jau yra \\npateikęs Priede Nr. 1 nurodytus reikalavimus patvirtinančius dokumentus, o aplinkybės dėl šių reikalavimų \\natitikimo nėra pasikeitusios, Tiekėjas neprivalo teikti jų pakartotinai. Pasibaigus pateiktų dokumentų \\ngaliojimo terminui arba pasikeitus galiojančių dokumentų turiniui ar apimčiai, Tiekėjas privalo apie tai \\ninformuoti Užsakovą ir pateikti galiojančias dokumentų versijas.   \\n6.2. Rangovas teikdamas pasiūlymą patvirtina, kad jam yra žinoma, jog jei pagal galiojančius teisės aktus atlikti \\nDarbus yra būtinos licencijos, atestatai ar leidimai, Rangovas įsipareigoja laiku gauti visus reikiamus \\nleidimus, sutikimus ir kitus dokumentus Darbų atlikimui ir užbaigimui. \\n6.3. Tiekėjas pasiūlymo pateikimo dieną privalo būti įvykdęs įsipareigojimus, susijusius su mokesčių, socialinio \\ndraudimo įmokų mokėjimu. Tiekėjas laikomas įvykdžiusiu įsipareigojimus, susijusius su mokesčių \\nmokėjimu, jeigu jo neįvykdytų įsipareigojimų suma yra mažesnė kaip 50 Eur. Užsakovas atitiktį šiam \\nreikalavimui tikrins viešai prieinamuose registruose. \\n6.4. Jeigu Tiekėjas ketina pasitelkti subtiekėjus ar kitus ūkio subjektus pirkimo sutarties vykdymui, Tiekėjas juos \\nprivalo nurodyto pasiūlymo pateikimo metu. \\n6.5. Tiekėjas, teikdamas pasiūlymą, privalo pateikti informaciją apie dalyvavimą teisminiuose procesuose kaip \\natsakovas dėl Tiekėjo vykdomos veiklos (pvz. sutartinių įsipareigojimų netinkamo vykdymo ir pan.) per \\npaskutinius trejus metus iki pasiūlymų pateikimo termino paskutinės dienos. \\n6.6. Tiekėjas, teikdamas pasiūlymą patvirtina, kad yra susipažinęs su City Service SE įmonių grupės Partnerių \\nelgesio kodeksu bei Mano Būstas įmonių grupės Subjektų įtraukimo į nepatikimų subjektų sąrašą tvarkos \\naprašu (City Service SE įmonių grupės Partnerių elgesio kodeksas ir Mano Būstas įmonių grupės Subjektų \\nįtraukimo į nepatikimų subjektų sąrašą tvarkos aprašas).  \\n \\n \\n \\n \\n5.6.4. Marketinginės (patikimų įmonių sąrašo viešinimas) paslaugos; \\n \\n7. \\nPasiūlymų vertinimo kriterijai ir sąlygos: \\n \\n7.1. Vertinami tik tie pasiūlymai ir jį pateikęs dalyviai, kurie atitinka šiame Kvietime aukščiau nurodytus \\nreikalavimus. Reikalavimų neatitinkantys pasiūlymai nevertinami. \\n7.2. Kainų apklausos reikalavimus atitinkantys pasiūlymai vertinami vadovaujantis mažiausiu kainos kriterijumi. \\n \\n8. Jei pasiūlyme nebus nurodytos pastabos, bus priimama, kad pasiūlymas galioja pagal visas konkurso \\nsąlygas. \\n \\n9.  Pasiūlymą pateikti iki  2025-06-09 d.  12 val. \\n \\n10. Pasiūlymo pateikimo būdas: kristina.kochanskiene@pirkimucentras.lt  \\n \\n11. Pasiūlymų vertinimo vieta, data, laikas (valanda): UAB Mano Būstas Vilnius, adresu Laisvės pr. 77B, \\nVilnius, 2025-06-10 d. 11 val.  \\n \\nDėl papildomos informacijos kreiptis el. paštu.'),\n",
       " Document(metadata={'Dokumento_pavadinimas': 'Kvietimas pateikti pasiūlymą dėl stogo remonto darbų, adresu V. Šopeno g. 5, Vilnius.pdf', 'Dokumento_tipas': 'Kvietimas', 'Gatvė': 'V. Šopeno g.5', 'Kreipiamasi_dėl': 'dėl stogo remonto darbų', 'Miestas': 'Vilnius', 'Pasiulyma_pateikti_iki': '2025-06-02 d. 12 val.', 'uuid': '664fd756-ef90-47de-8227-13d8c29ed525'}, page_content=' \\n \\n \\nSKELBIMAS PATEIKTI PASIŪLYMĄ \\n2025-05-16 \\n \\n \\n1. \\nUžsakovas: UAB Mano Būstas Vilnius įmonės kodas 121452091 \\n \\n2. \\nObjektas: V. Šopeno g.    5, Vilnius \\n \\n3. \\nTeiktinų paslaugų arba atliktinų darbų pobūdis: \\n3.1. Stogo remontas pagal projektą.  \\n \\n4. \\nPateiktų dokumentų pavadinimai kainai paskaičiuoti: \\n4.1. Vilniaus senamiesčio (kodas 16073), saugomos gatvių užstatymo išklotinės V. Šopeno g. PV ir ŠR pusių \\natkarpos, namo V. Šopeno g. 5, Vilniuje, paveldo tvarkybos darbų projektas. Remontas. Restauravimas.  \\n \\n5. \\nNumatoma darbų/paslaugų pradžios data: 2026 m.  \\n \\n6. \\nKonkurso sąlygos: \\n6.1. Vadovaujantis Lietuvos Respublikos teisės aktais, darbai turi būti atliekami kokybiškai ir suteikiant jiems \\ngarantiją. \\n6.2. Pasiūlymo galiojimo terminas 3 mėnesiai.  \\n6.3. Darbų eigą ir atlikimą pagal atskirą susitarimą fiksuoti per Administratoriaus nurodytą sistemą (e-Paskyra). \\n6.4. Siekiant užtikrinti Rangovo garantinių įsipareigojimų tinkamą vykdymą, taikomos šios sąlygos: \\n6.4.1. Kai Rangovo pasiūlymo kaina yra iki 3000 Eur be PVM, garantinis sulaikymas arba draudimas \\nnereikalaujamas. \\n6.4.2. Kai Rangovo pasiūlymo kaina yra nuo 3001 Eur be PVM iki 15 000 Eur be PVM, Administratorius \\nsulaiko 7 proc. sumą nuo sutarties kainos Eur be PVM darbų garantiniam laikotarpiui. \\n6.4.3. Kai Rangovo pasiūlymo kaina yra didesnė nei 15 001 Eur be PVM - privalomas sutartinių \\nįsipareigojimų garantinio laikotarpio laidavimo draudimas (10% nuo darbų vertės), kuris apimtų nemokumą ir \\nbankroto atvejį. Šis draudimas turi galioti ne trumpiau nei darbams taikomas garantinis terminas. \\n6.5. Galutinė pasiūlymo kaina nurodoma su PVM (jeigu įmonė yra PVM mokėtojas). \\n6.6. Pasiūlyme Rangovas pasirenka kokiomis sąlygomis dalyvaus konkurse. \\n6.7. Atsiskaitymo su Rangovu už atliktus darbus sąlygos ir terminai: \\n6.7.1. Darbų suma, sumažinta paramos dalimi (kurią Užsakovui po darbų atlikimo turėtų sumokėti paramos \\nadministratorius), sumokama Rangovui per 48 mėn. nuo darbų atlikimo. \\n6.7.2. Likusi suma už Darbus (paramos suma) sumokama Rangovui per 30 kalendorinių dienų nuo dienos, \\nkai paramą Užsakovui perveda paramos administratorius.  \\n6.7.3. Jeigu Rangovas pageidauja gauti mokėjimą, nurodytą 6.7.1 p., per 30 kalendorinių dienų, Rangovas \\ngali įsigyti paslaugų paketą, kurio kaina bus apskaičiuota pasibaigus konkursui. Į šį paketą įeina: \\n6.7.3.1. Techninis konsultavimas dėl darbų optimalaus įgyvendinimo; \\n6.7.3.2. Projektinės užduoties parengimas; \\n6.7.3.3. Rangovų atliktų darbų garantinių įsipareigojimų organizavimas; \\n6.7.3.4. Sertifikavimas (įtraukimas į patikimų rangovų sąrašą); \\n6.7.3.5. Marketinginės (patikimų rangovų sąrašo viešinimas) paslaugos; \\n6.7.3.6. Rangovų finansinio faktoringo organizavimas; \\n6.7.3.7. Garantijos, kurią išduoda Užsakovas, kad su Rangovu pagal Sutartį bus atsiskaityta, kaštai. \\n6.7.4. Jeigu parama nėra gaunama, likusi Darbų suma (paramos suma) sumokama Rangovui per 6.7.1 p. \\nnurodytą terminą. Rangovui pageidaujant gauti mokėjimą anksčiau – Rangovas gali kreiptis į \\nfaktoringo įmonę. \\n \\n7. \\nReikalavimai kainų apklausos dalyviams: \\n7.1. Rangovas, dalyvaujantis konkurse, turi atitikti šio kvietimo priede Nr. 1 nurodytus reikalavimus ir pateikti tą \\npatvirtinančius dokumentus. Tuo atveju, kai ankstesnių apklausų ar konkursų pagrindu Rangovas jau yra \\npateikęs Priede Nr. 1 nurodytus reikalavimus patvirtinančius dokumentus, o aplinkybės dėl šių reikalavimų \\natitikimo nėra pasikeitusios, Rangovas neprivalo teikti jų pakartotinai. Pasibaigus pateiktų dokumentų \\n \\ngaliojimo terminui arba pasikeitus galiojančių dokumentų turiniui ar apimčiai, Rangovas privalo apie tai \\ninformuoti Užsakovą ir pateikti galiojančias dokumentų versijas.   \\n7.2. Rangovas teikdamas pasiūlymą patvirtina, kad jam yra žinoma, jog jei pagal galiojančius teisės aktus atlikti \\nDarbus yra būtinos licencijos, atestatai ar leidimai, Rangovas įsipareigoja laiku gauti visus reikiamus leidimus, \\nsutikimus ir kitus dokumentus Darbų atlikimui ir užbaigimui. \\n7.3. Rangovas pasiūlymo pateikimo dieną privalo būti įvykdęs įsipareigojimus, susijusius su mokesčių, socialinio \\ndraudimo įmokų mokėjimu. Rangovas laikomas įvykdžiusiu įsipareigojimus, susijusius su mokesčių \\nmokėjimu, jeigu jo neįvykdytų įsipareigojimų suma yra mažesnė kaip 50 Eur. Užsakovas atitiktį šiam \\nreikalavimui tikrins viešai prieinamuose registruose. \\n7.4. Jeigu Rangovas ketina pasitelkti subrangovus ar kitus ūkio subjektus pirkimo sutarties vykdymui, Rangovas \\njuos privalo nurodyto pasiūlymo pateikimo metu. \\n7.5. Rangovas, teikdamas pasiūlymą, privalo pateikti informaciją apie dalyvavimą teisminiuose procesuose kaip \\natsakovas dėl Rangovo vykdomos veiklos (pvz. sutartinių įsipareigojimų netinkamo vykdymo ir pan.) per \\npaskutinius trejus metus iki pasiūlymų pateikimo termino paskutinės dienos. \\n7.6. Rangovas, teikdamas pasiūlymą patvirtina, kad yra susipažinęs su City Service SE įmonių grupės Partnerių \\nelgesio kodeksu bei Mano Būstas įmonių grupės Subjektų įtraukimo į nepatikimų subjektų sąrašą tvarkos \\naprašu (City Service SE įmonių grupės Partnerių elgesio kodeksas ir Mano Būstas įmonių grupės Subjektų \\nįtraukimo į nepatikimų subjektų sąrašą tvarkos aprašas).  \\n \\n8. \\nPasiūlymų vertinimo kriterijai ir sąlygos: \\n \\n8.1. Vertinami tik tie pasiūlymai ir jį pateikęs dalyviai, kurie atitinka šiame Kvietime aukščiau nurodytus \\nreikalavimus. Reikalavimų neatitinkantys pasiūlymai nevertinami. \\n8.2. Kainų apklausos reikalavimus atitinkantys pasiūlymai vertinami vadovaujantis mažiausiu kainos kriterijumi. \\n \\n9. Jei pasiūlyme nebus nurodytos pastabos, bus priimama, kad pasiūlymas galioja pagal visas konkurso \\nsąlygas. \\n \\n10. Pasiūlymą pateikti iki  2025-06-02 d.  12 val. \\n \\n11. Pasiūlymo pateikimo būdas: kristina.kochanskiene@pirkimucentras.lt  \\n \\n \\n12. Pasiūlymų vertinimo vieta, data, laikas (valanda): UAB Mano Būstas Vilnius, adresu Laisvės pr. 77B, \\nVilnius, 2025-06-03 d. 11 val.  \\n \\nDėl papildomos informacijos kreiptis el. paštu.'),\n",
       " Document(metadata={'Dokumento_pavadinimas': 'Kvietimas pateikti pasiūlymą adresu V. Kudirkos g. 25, Šilutė, dėl Namo kadastrinės bylos atnaujinimo po namo renovacijos.pdf', 'Dokumento_tipas': 'Kvietimas', 'Gatvė': 'V. Kudirkos g.25', 'Kreipiamasi_dėl': 'dėl Namo kadastrinės bylos atnaujinimo po namo renovacijos', 'Miestas': 'Šilutė', 'Pasiulyma_pateikti_iki': '2024-09-17 d. 12 val.', 'uuid': 'd46ec46c-14e8-49c9-b4e3-a009b2819bcc'}, page_content=' \\n \\n \\n \\n \\n \\n \\n \\n \\n \\n \\nKVIETIMAS PATEIKTI PASIŪLYMĄ \\n2024-09-12 \\n \\n \\n1. Užsakovas: UAB Mano Būstas Vakarai \\n \\n2. Objektas:  V. Kudirkos g.   25, Šilutė \\n \\n3. Teiktinų paslaugų arba atliktinų darbų pobūdis: \\n3.1.   Po namo renovacijos, Namo kadastrinės bylos atnaujinimas 20 butų namas, 2 aukštų. Bendras namo plotas \\n1 223,17 m2, naudingas plotas 962,88 m2. \\n3.2.  Įregistravimas registrų centre \\n \\n4. Konkurso sąlygos: \\n4.1. Vykdant darbus vadovaujantis Lietuvos Respublikos teisės aktais.  \\n4.2. Darbų atlikimo terminas derinamas su laimėtoju sutarties pasirašymo metu; \\n4.3. Pasiūlymo galiojimo terminas 3 mėnesiai.  \\n4.4. Galutinė pasiūlymo kaina nurodoma su PVM (jeigu įmonė yra PVM mokėtojas). \\n4.5. Pasiūlyme Vykdytojas pasirenka kokiomis sąlygomis dalyvaus konkurse: \\n4.6. Administratorius vieną kartą į ketvirtį už atliktus darbus Vykdytojui apmoka tiek, kiek surinko lėšų iš \\ndaugiabučio namo savininkų (gyventojų), t.y. Vykdytojui tenka visa mokesčių nemokėjimo ir faktinių \\natliekamų darbų gavėjų nemokumo rizika. Vykdytojui pageidaujant gauti atsiskaitymą per 45 \\nkalendorines dienas, vykdytojas gali įsigyti paslaugų paketą, kuris apskaičiuojamas nuo bendros \\npasiūlymo vertės: \\n4.6.1. Techninis konsultavimas dėl darbų optimalaus įgyvendinimo; \\n4.6.2. Projektinės užduoties parengimas; \\n4.6.3. Sertifikavimas (įtraukimas į patikimų rangovų sąrašą); \\n4.6.4. Marketinginės (patikimų rangovų sąrašo viešinimas) paslaugos; \\n \\n5. Reikalavimai kainų apklausos dalyviams: \\n5.1. Įmonė, norinti dalyvauti atrankoje, privalo pateikti licencijas, atestatus ar leidimus ir (ar) jos darbuotojų \\nkvalifikaciją, patvirtinančią teisę atlikti nustatytus darbus, liudijančius dokumentus, jeigu pagal \\ngaliojančius teisės aktus darbus atlikti yra būtinos licencijos, atestatai ar leidimai ir (ar) darbuotojo \\nkvalifikacija. \\n5.2. Tuo atveju, jeigu Vykdytojas pretenduoja veikti jungtinės veiklos pagrindu, Vykdytojas įsipareigoja \\npranešti Užsakovui, jog tarp Vykdytojo ir Partnerio yra sudaryta jungtinės veiklos sutartis ir ją pateikti. \\n \\n6. Pasiūlymų vertinimo kriterijai ir sąlygos: \\n \\n6.1. Vertinami tik tie pasiūlymai ir jį pateikęs dalyviai, kurie atitinka šiame Kvietime aukščiau nurodytus \\nreikalavimus. Reikalavimų neatitinkantys pasiūlymai nevertinami. \\n6.2. Kainų apklausos reikalavimus atitinkantys pasiūlymai vertinami vadovaujantis mažiausiu kainos \\nkriterijumi. \\n6.3. Jei pasiūlyme nebuvo nurodytos pastabos, bus priimama, kad pasiūlymas galioja pagal visas konkurso \\nsąlygas. \\n6.4. Užsakovas vadovaudamasis 2001 m. gegužės 23 d. LR Vyriausybės nutarimo Nr. 603 Dėl daugiabučio \\nnamo bendrojo naudojimo objektų administravimo nuostatų patvirtinimo, patvirtinto 2022 m. gruodžio \\n29 d. LR Vyriausybės nutarimu Nr. 1331, 14.2.7. punktu daugiabučių namų skelbimų lentose ir \\nAdministratoriaus internetinėje svetainėje skelbs Rangovo informaciją t. y. kontaktinę informaciją \\n(telefono numerį) bei vardą pavardę/įmonės pavadinimą. \\n \\n7. Jei pasiūlyme nebus nurodytos pastabos, bus laikoma, kad pasiūlymas galioja pagal visas konkurso \\nsąlygas. \\n \\n9. Pasiūlymą pateikti iki  2024-09-17 d.  12 val. \\n \\n10.  Pasiūlymo pateikimo būdas: Pasiūlymai pateikiami el. paštu renata@pirkimucentras.lt arba pristatant \\npasiūlymą užklijuotame voke Administratoriui adresu Kuosų g. 18-1, Klaipėda. Ant voko turi būti užrašytas \\ntiekėjo pavadinimas ir prierašas ,,Darbų pavadinimas ir adresas“ \\n \\n11. Dėl papildomos informacijos kreiptis el.paštu.  \\nRenata Rapšė, renata@pirkimucentras/lt \\n \\n \\n  \\n')]"
      ]
     },
     "execution_count": 38,
     "metadata": {},
     "output_type": "execute_result"
    }
   ],
   "source": [
    "instruct_retriever.invoke(\"Kvietimai Vilniuje\")"
   ]
  },
  {
   "cell_type": "code",
   "execution_count": null,
   "metadata": {},
   "outputs": [],
   "source": []
  },
  {
   "cell_type": "markdown",
   "metadata": {},
   "source": [
    "# Preprocess of documents for second chroma vectorstore , where documents page content will be made from documents title, because documents are named in good naming style, having all the nessesery information for retrieval and grading\n",
    "# Dokumentų apdorojimas antrai Chroma vektorių saugyklai, kur dokumentų turinys pakeičiamas pavadinimais. Pavadinimai yra gerai struktūruoti ir talpina visą reikalingą informaciją paieškai ir reitingavimui ir tikrinimui."
   ]
  },
  {
   "cell_type": "code",
   "execution_count": 39,
   "metadata": {},
   "outputs": [],
   "source": [
    "def create_title_only_documents(documents):\n",
    "    \"\"\"\n",
    "    Creates a new list of documents where each document's page_content\n",
    "    is replaced with its 'Dokumento_pavadinimas' metadata value.\n",
    "    \n",
    "    Args:\n",
    "        documents: List of Document objects with metadata['Dokumento_pavadinimas']\n",
    "    \n",
    "    Returns:\n",
    "        List of documents with page_content replaced by document title\n",
    "    \"\"\"\n",
    "    title_documents = []\n",
    "    \n",
    "    for doc in documents:\n",
    "        document_title = doc.metadata.get('Dokumento_pavadinimas', '')\n",
    "        \n",
    "\n",
    "        title_doc = Document(\n",
    "            page_content=document_title,  \n",
    "            metadata=doc.metadata.copy()  \n",
    "        )\n",
    "        \n",
    "        title_documents.append(title_doc)\n",
    "    \n",
    "    return title_documents\n",
    "\n",
    "title_only_documents = create_title_only_documents(enriched_documents)\n",
    "\n",
    "\n"
   ]
  },
  {
   "cell_type": "markdown",
   "metadata": {},
   "source": [
    "## Example of how documents appear after preprocessing.\n",
    "## Pavyzdys, kaip dokumentai atrodo po apdorojimo."
   ]
  },
  {
   "cell_type": "code",
   "execution_count": 40,
   "metadata": {},
   "outputs": [
    {
     "name": "stdout",
     "output_type": "stream",
     "text": [
      "Document 1:\n",
      "Page Content: Aukštabalio g. 4, Šiauliai Įėjimo laiptų remontas.pdf\n",
      "Metadata: {'Dokumento_pavadinimas': 'Aukštabalio g. 4, Šiauliai Įėjimo laiptų remontas.pdf', 'Pasiulyma_pateikti_iki': '2025-06-11 d. 12 val.', 'uuid': 'f2afcf42-c5e3-444e-bd71-44b5930064de', 'Dokumento_tipas': 'Nėra', 'Miestas': 'Šiauliai', 'Gatvė': 'Aukštabalio g.4', 'Kreipiamasi_dėl': 'Įėjimo laiptų remontas'}\n",
      "\n",
      "Document 2:\n",
      "Page Content: Dariaus ir Girėno g. 8, Šiauliai, Stogo, galinių sienų remontas įrengiant apšiltinimą.pdf\n",
      "Metadata: {'Dokumento_pavadinimas': 'Dariaus ir Girėno g. 8, Šiauliai, Stogo, galinių sienų remontas įrengiant apšiltinimą.pdf', 'Pasiulyma_pateikti_iki': '2025-06-05 d. 12 val.', 'uuid': '304d0f4a-a3e8-4ed7-a2ba-e087655ccd03', 'Dokumento_tipas': 'Kvietimas', 'Miestas': 'Šiauliai', 'Gatvė': 'Dariaus ir Girėno g.8', 'Kreipiamasi_dėl': 'Stogo, galinių sienų remontas įrengiant apšiltinimą'}\n",
      "\n",
      "Document 3:\n",
      "Page Content: Kvietimas pateikti pasiūlymą adresu Baltijos pr. 47, Klaipėda, dėl 7 laiptinės laiptų pakopų atnaujinimo darbų.pdf\n",
      "Metadata: {'Dokumento_pavadinimas': 'Kvietimas pateikti pasiūlymą adresu Baltijos pr. 47, Klaipėda, dėl 7 laiptinės laiptų pakopų atnaujinimo darbų.pdf', 'Pasiulyma_pateikti_iki': '2025-05-12 d. 12 val.', 'uuid': 'ff781da8-4a31-4d20-b4ee-57556ba1e707', 'Dokumento_tipas': 'Kvietimas', 'Miestas': 'Klaipėda', 'Gatvė': 'Baltijos pr.47', 'Kreipiamasi_dėl': 'dėl 7 laiptinės laiptų pakopų atnaujinimo darbų'}\n",
      "\n",
      "Document 4:\n",
      "Page Content: Kvietimas pateikti pasiūlymą adresu Baltijos pr. 81, Klaipėda, dėl Fasado remontas (Siūlių padengimas hermetine medžiaga.pdf\n",
      "Metadata: {'Dokumento_pavadinimas': 'Kvietimas pateikti pasiūlymą adresu Baltijos pr. 81, Klaipėda, dėl Fasado remontas (Siūlių padengimas hermetine medžiaga.pdf', 'Pasiulyma_pateikti_iki': '2025-05-28 d. 12 val.', 'uuid': '30b315a9-c1c7-4fe3-92ee-6a19e185bfec', 'Dokumento_tipas': 'Kvietimas', 'Miestas': 'Klaipėda', 'Gatvė': 'Baltijos pr.81', 'Kreipiamasi_dėl': 'dėl Fasado remontas (Siūlių padengimas hermetine medžiaga)'}\n",
      "\n",
      "Document 5:\n",
      "Page Content: Kvietimas pateikti pasiūlymą adresu Debreceno g. 16, Klaipėda, dėl fasado plytų mūro remonto darbų.pdf\n",
      "Metadata: {'Dokumento_pavadinimas': 'Kvietimas pateikti pasiūlymą adresu Debreceno g. 16, Klaipėda, dėl fasado plytų mūro remonto darbų.pdf', 'Pasiulyma_pateikti_iki': '2025-06-02 d. 12 val.', 'uuid': '229e91c1-e005-4fa0-a42a-dc4401415dd2', 'Dokumento_tipas': 'Kvietimas', 'Miestas': 'Klaipėda', 'Gatvė': 'Debreceno g.16', 'Kreipiamasi_dėl': 'dėl fasado plytų mūro remonto darbų'}\n",
      "\n",
      "Document 6:\n",
      "Page Content: Kvietimas pateikti pasiūlymą adresu Debreceno g. 20, Klaipėda, dėl 6 os laiptinės langų keitimo.pdf\n",
      "Metadata: {'Dokumento_pavadinimas': 'Kvietimas pateikti pasiūlymą adresu Debreceno g. 20, Klaipėda, dėl 6 os laiptinės langų keitimo.pdf', 'Pasiulyma_pateikti_iki': '2025-06-05 d. 12 val.', 'uuid': 'c39bf1de-6a44-49cd-aea4-e07e7a42c20b', 'Dokumento_tipas': 'Kvietimas', 'Miestas': 'Klaipėda', 'Gatvė': 'Debreceno g.20', 'Kreipiamasi_dėl': 'dėl 6-os laiptinės langų keitimo'}\n",
      "\n",
      "Document 7:\n",
      "Page Content: Kvietimas pateikti pasiūlymą adresu Debreceno g. 34, Klaipėda, dėl 5 ir 6 os laiptinės langų keitimo.pdf\n",
      "Metadata: {'Dokumento_pavadinimas': 'Kvietimas pateikti pasiūlymą adresu Debreceno g. 34, Klaipėda, dėl 5 ir 6 os laiptinės langų keitimo.pdf', 'Pasiulyma_pateikti_iki': '2025-06-05 d. 12 val.', 'uuid': '3d9d3871-88a9-487e-b577-f3446ad15985', 'Dokumento_tipas': 'Kvietimas', 'Miestas': 'Klaipėda', 'Gatvė': 'Debreceno g.34', 'Kreipiamasi_dėl': 'dėl 5 ir 6 os laiptinės langų keitimo'}\n",
      "\n",
      "Document 8:\n",
      "Page Content: Kvietimas pateikti pasiūlymą adresu Jaunimo al. 6, Šilutė, dėl stogo remonto darbų.pdf\n",
      "Metadata: {'Dokumento_pavadinimas': 'Kvietimas pateikti pasiūlymą adresu Jaunimo al. 6, Šilutė, dėl stogo remonto darbų.pdf', 'Pasiulyma_pateikti_iki': '2023-09-28', 'uuid': 'ef7da482-5ea2-415f-9945-7f36f8594301', 'Dokumento_tipas': 'Kvietimas', 'Miestas': 'Šilutė', 'Gatvė': 'Jaunimo al.6', 'Kreipiamasi_dėl': 'dėl stogo remonto darbų'}\n",
      "\n",
      "Document 9:\n",
      "Page Content: Kvietimas pateikti pasiūlymą adresu Kauno g. 23, Klaipėda, dėl 5 laiptinės įėjimo aikštelės remonto darbų.pdf\n",
      "Metadata: {'Dokumento_pavadinimas': 'Kvietimas pateikti pasiūlymą adresu Kauno g. 23, Klaipėda, dėl 5 laiptinės įėjimo aikštelės remonto darbų.pdf', 'Pasiulyma_pateikti_iki': '2025-06-09 d. 12 val.', 'uuid': '93b8d768-d50b-4716-85f6-b9150b24b950', 'Dokumento_tipas': 'Kvietimas', 'Miestas': 'Klaipėda', 'Gatvė': 'Kauno g.23', 'Kreipiamasi_dėl': 'dėl 5 laiptinės įėjimo aikštelės remonto darbų'}\n",
      "\n",
      "Document 10:\n",
      "Page Content: Kvietimas pateikti pasiūlymą adresu Liepų g. 28, Klaipėda, dėl stogo remonto darbų.pdf\n",
      "Metadata: {'Dokumento_pavadinimas': 'Kvietimas pateikti pasiūlymą adresu Liepų g. 28, Klaipėda, dėl stogo remonto darbų.pdf', 'Pasiulyma_pateikti_iki': '2025-06-11 d. 12 val.', 'uuid': 'dcfdaafb-3b77-435a-bddb-52154a2b12eb', 'Dokumento_tipas': 'Kvietimas', 'Miestas': 'Klaipėda', 'Gatvė': 'Liepų g.28', 'Kreipiamasi_dėl': 'dėl stogo remonto darbų'}\n",
      "\n"
     ]
    }
   ],
   "source": [
    "for i, doc in enumerate(title_only_documents[:10]):  \n",
    "    print(f\"Document {i+1}:\")\n",
    "    print(f\"Page Content: {doc.page_content}\")\n",
    "    print(f\"Metadata: {doc.metadata}\")\n",
    "    print()"
   ]
  },
  {
   "cell_type": "markdown",
   "metadata": {},
   "source": [
    "## Second vectorstore initialization\n",
    "## Antros vectorinės duombazės  inicializavimas"
   ]
  },
  {
   "cell_type": "code",
   "execution_count": 41,
   "metadata": {},
   "outputs": [],
   "source": [
    "persist_directory = os.path.join(vectorstores_dir, 'Mano_BustasPasiulymai_VMaza')"
   ]
  },
  {
   "cell_type": "code",
   "execution_count": 42,
   "metadata": {},
   "outputs": [],
   "source": [
    "vectorstore2  = Chroma.from_documents(documents=title_only_documents, embedding=embeddings, persist_directory=persist_directory,\n",
    ")"
   ]
  },
  {
   "cell_type": "code",
   "execution_count": 43,
   "metadata": {},
   "outputs": [],
   "source": [
    "retriever = vectorstore2.as_retriever(search_type=\"similarity\", search_kwargs={\"k\": 15, })"
   ]
  },
  {
   "cell_type": "markdown",
   "metadata": {},
   "source": [
    "### Test of retriever from second vectorstore\n",
    "### Testuojamas retrieveris iš antrosios vektorių saugyklos."
   ]
  },
  {
   "cell_type": "code",
   "execution_count": 44,
   "metadata": {},
   "outputs": [
    {
     "data": {
      "text/plain": [
       "[Document(metadata={'Dokumento_pavadinimas': 'Kvietimas pateikti pasiūlymą adresu Jaunimo al. 6, Šilutė, dėl stogo remonto darbų.pdf', 'Dokumento_tipas': 'Kvietimas', 'Gatvė': 'Jaunimo al.6', 'Kreipiamasi_dėl': 'dėl stogo remonto darbų', 'Miestas': 'Šilutė', 'Pasiulyma_pateikti_iki': '2023-09-28', 'uuid': 'ef7da482-5ea2-415f-9945-7f36f8594301'}, page_content='Kvietimas pateikti pasiūlymą adresu Jaunimo al. 6, Šilutė, dėl stogo remonto darbų.pdf'),\n",
       " Document(metadata={'Dokumento_pavadinimas': 'Kvietimas pateikti pasiūlymą adresu Sodų g. 1, Šilutė, dėl vidaus šildymo sistemos modernizavimo rangos darbų su projektinės dokumentacijos paruošimu.pdf', 'Dokumento_tipas': 'Kvietimas', 'Gatvė': 'Sodų g.1', 'Kreipiamasi_dėl': 'dėl vidaus šildymo sistemos modernizavimo rangos darbų su projektinės dokumentacijos paruošimu', 'Miestas': 'Šilutė', 'Pasiulyma_pateikti_iki': '2025-02-20 d. 12 val.', 'uuid': 'a43277cd-251d-466a-94af-7124740d7a72'}, page_content='Kvietimas pateikti pasiūlymą adresu Sodų g. 1, Šilutė, dėl vidaus šildymo sistemos modernizavimo rangos darbų su projektinės dokumentacijos paruošimu.pdf'),\n",
       " Document(metadata={'Dokumento_pavadinimas': 'Kvietimas pateikti pasiūlymą adresu Šilutės pl. 44, Klaipėda, dėl 1-mos laiptinės langų keitimo.pdf', 'Dokumento_tipas': 'Kvietimas', 'Gatvė': 'Šilutės pl.44', 'Kreipiamasi_dėl': 'dėl 1-mos laiptinės langų keitimo', 'Miestas': 'Klaipėda', 'Pasiulyma_pateikti_iki': '2025-05-30 d. 12 val.', 'uuid': 'd937164b-d009-432f-83c7-74bba3eeb530'}, page_content='Kvietimas pateikti pasiūlymą adresu Šilutės pl. 44, Klaipėda, dėl 1-mos laiptinės langų keitimo.pdf'),\n",
       " Document(metadata={'Dokumento_pavadinimas': 'Kvietimas pateikti pasiūlymą adresu V. Kudirkos g. 25, Šilutė, dėl 1 ir 2 laiptinės remonto darbų.pdf', 'Dokumento_tipas': 'Kvietimas', 'Gatvė': 'V. Kudirkos g.25', 'Kreipiamasi_dėl': 'dėl1 ir2 laiptinės remonto darbų', 'Miestas': 'Šilutė', 'Pasiulyma_pateikti_iki': '2025-02-27 d. 09 val.', 'uuid': 'fbdc8d60-c024-459e-8328-60e09832e6e6'}, page_content='Kvietimas pateikti pasiūlymą adresu V. Kudirkos g. 25, Šilutė, dėl 1 ir 2 laiptinės remonto darbų.pdf'),\n",
       " Document(metadata={'Dokumento_pavadinimas': 'Kvietimas pateikti pasiūlymą adresu Skirvytėlės g. 11a, Rusnė, Šilutės r., dėl sudaptinto stogo remonto darbų..pdf', 'Dokumento_tipas': 'Kvietimas', 'Gatvė': 'Skirvytėlės g.11a', 'Kreipiamasi_dėl': 'dėl sudaptinto stogo remonto darbų', 'Miestas': 'Rusnė', 'Pasiulyma_pateikti_iki': '2025-03-17 d. 12 val.', 'uuid': 'af6a7e59-584e-4812-ab1f-7af1f590439e'}, page_content='Kvietimas pateikti pasiūlymą adresu Skirvytėlės g. 11a, Rusnė, Šilutės r., dėl sudaptinto stogo remonto darbų..pdf'),\n",
       " Document(metadata={'Dokumento_pavadinimas': 'Kvietimas pateikti pasiūlymą adresu Skirvytėlės g. 11a, Rusnė, Šilutės r., dėl laiptinės ir rūsio durų keitimo.pdf', 'Dokumento_tipas': 'Kvietimas', 'Gatvė': 'Skirvytėlės g.11a', 'Kreipiamasi_dėl': 'dėl laiptinės ir rūsio durų keitimo', 'Miestas': 'Rusnė', 'Pasiulyma_pateikti_iki': '2025-04-01 d. 12 val.', 'uuid': '5264dd2e-6ca9-4e13-a4ef-98593a319ae6'}, page_content='Kvietimas pateikti pasiūlymą adresu Skirvytėlės g. 11a, Rusnė, Šilutės r., dėl laiptinės ir rūsio durų keitimo.pdf'),\n",
       " Document(metadata={'Dokumento_pavadinimas': 'Kvietimas pateikti pasiūlymą adresu Turgaus g. 4a, Šilutė, dėl šlaitinio stogo remonto darbų (su projekto paruošimu).pdf', 'Dokumento_tipas': 'Kvietimas', 'Gatvė': 'Turgaus g.4a', 'Kreipiamasi_dėl': 'dėl šlaitinio stogo remonto darbų (su projekto paruošimu)', 'Miestas': 'Šilutė', 'Pasiulyma_pateikti_iki': '2025-03-18 d. 09 val.', 'uuid': 'ea56fe4d-70a8-4dfc-8235-0a6e13a7f886'}, page_content='Kvietimas pateikti pasiūlymą adresu Turgaus g. 4a, Šilutė, dėl šlaitinio stogo remonto darbų (su projekto paruošimu).pdf'),\n",
       " Document(metadata={'Dokumento_pavadinimas': 'Kvietimas pateikti pasiūlymą dėl skaitiklių rodmenų nurašymo paslaugos teikimo S. Žukausko g., Vilnius.pdf', 'Dokumento_tipas': 'Kvietimas', 'Gatvė': 'S. Žukausko g.', 'Kreipiamasi_dėl': 'dėl skaitiklių rodmenų nurašymo paslaugos teikimo', 'Miestas': 'Vilnius', 'Pasiulyma_pateikti_iki': '2025 m. birželio mėn. 6 d. 15 val.', 'uuid': '6c8526d7-a39b-45e6-a720-f0f4355903bd'}, page_content='Kvietimas pateikti pasiūlymą dėl skaitiklių rodmenų nurašymo paslaugos teikimo S. Žukausko g., Vilnius.pdf'),\n",
       " Document(metadata={'Dokumento_pavadinimas': 'Kvietimas pateikti pasiūlymą, adresu Gedimino pr. 37, Tauragė, darbo projekto parengimas.pdf', 'Dokumento_tipas': 'Kvietimas', 'Gatvė': 'Gedimino pr.37', 'Kreipiamasi_dėl': 'darbo projekto parengimas', 'Miestas': 'Tauragė', 'Pasiulyma_pateikti_iki': '2021-09-21 d. 12 val.', 'uuid': '6525c805-2394-4da1-ab1d-3eaa2ff216f1'}, page_content='Kvietimas pateikti pasiūlymą, adresu Gedimino pr. 37, Tauragė, darbo projekto parengimas.pdf'),\n",
       " Document(metadata={'Dokumento_pavadinimas': 'Kvietimas_Klevu-g.-13.-Nuogrindos-remontas.pdf', 'Dokumento_tipas': 'Kvietimas', 'Gatvė': 'Klevų g.13', 'Kreipiamasi_dėl': 'Nuogrindos remontas', 'Miestas': 'Nenurodyta pavadinime', 'Pasiulyma_pateikti_iki': '2025-06-03 d. 12 val.', 'uuid': 'd5aa788c-0719-431d-b6de-060501d02f9e'}, page_content='Kvietimas_Klevu-g.-13.-Nuogrindos-remontas.pdf'),\n",
       " Document(metadata={'Dokumento_pavadinimas': 'Kvietimas pateikti pasiūlymą adresu Baltijos pr. 81, Klaipėda, dėl Fasado remontas (Siūlių padengimas hermetine medžiaga.pdf', 'Dokumento_tipas': 'Kvietimas', 'Gatvė': 'Baltijos pr.81', 'Kreipiamasi_dėl': 'dėl Fasado remontas (Siūlių padengimas hermetine medžiaga)', 'Miestas': 'Klaipėda', 'Pasiulyma_pateikti_iki': '2025-05-28 d. 12 val.', 'uuid': '30b315a9-c1c7-4fe3-92ee-6a19e185bfec'}, page_content='Kvietimas pateikti pasiūlymą adresu Baltijos pr. 81, Klaipėda, dėl Fasado remontas (Siūlių padengimas hermetine medžiaga.pdf'),\n",
       " Document(metadata={'Dokumento_pavadinimas': 'Skelbimas pateikti pasiūlymą Šaltinių g. 18, Alytus durų gamyba ir montavimas.pdf', 'Dokumento_tipas': 'Skelbimas', 'Gatvė': 'Šaltinių g.18', 'Kreipiamasi_dėl': 'durų gamyba ir montavimas', 'Miestas': 'Alytus', 'Pasiulyma_pateikti_iki': '2024-10-22 d. 9 val.', 'uuid': 'ab9af0b6-c727-4ff6-9d9f-8ea7b9bc2e18'}, page_content='Skelbimas pateikti pasiūlymą Šaltinių g. 18, Alytus durų gamyba ir montavimas.pdf'),\n",
       " Document(metadata={'Dokumento_pavadinimas': 'Kvietimas pateikti pasiūlymą adresu V. Kudirkos g. 25, Šilutė, dėl Namo kadastrinės bylos atnaujinimo po namo renovacijos.pdf', 'Dokumento_tipas': 'Kvietimas', 'Gatvė': 'V. Kudirkos g.25', 'Kreipiamasi_dėl': 'dėl Namo kadastrinės bylos atnaujinimo po namo renovacijos', 'Miestas': 'Šilutė', 'Pasiulyma_pateikti_iki': '2024-09-17 d. 12 val.', 'uuid': 'd46ec46c-14e8-49c9-b4e3-a009b2819bcc'}, page_content='Kvietimas pateikti pasiūlymą adresu V. Kudirkos g. 25, Šilutė, dėl Namo kadastrinės bylos atnaujinimo po namo renovacijos.pdf'),\n",
       " Document(metadata={'Dokumento_pavadinimas': 'Kvietimas pateikti pasiūlymą adresu Taikos g. 15, Šilutė, dėl fasado ir stogo paprastojo remonto techninio – darbo projekto parengimo.pdf', 'Dokumento_tipas': 'Kvietimas', 'Gatvė': 'Taikos g.15', 'Kreipiamasi_dėl': 'dėl fasado ir stogo paprastojo remonto techninio – darbo projekto parengimo', 'Miestas': 'Šilutė', 'Pasiulyma_pateikti_iki': '2024-12-13 d. 12 val.', 'uuid': '23b3c17e-de48-4fbe-8fd9-8bd5930a9eaf'}, page_content='Kvietimas pateikti pasiūlymą adresu Taikos g. 15, Šilutė, dėl fasado ir stogo paprastojo remonto techninio – darbo projekto parengimo.pdf'),\n",
       " Document(metadata={'Dokumento_pavadinimas': 'Skelbimas pateikti pasiūlymą Putinų g. 6, Alytus stovų keitimo darbai.pdf', 'Dokumento_tipas': 'Skelbimas', 'Gatvė': 'Putinų g.6', 'Kreipiamasi_dėl': 'stovų keitimo darbai', 'Miestas': 'Alytus', 'Pasiulyma_pateikti_iki': '2025-03-21 d. 9 val.', 'uuid': 'e728a00b-466e-4941-a13d-d98a3e7c97b2'}, page_content='Skelbimas pateikti pasiūlymą Putinų g. 6, Alytus stovų keitimo darbai.pdf')]"
      ]
     },
     "execution_count": 44,
     "metadata": {},
     "output_type": "execute_result"
    }
   ],
   "source": [
    "retriever.invoke(\"Kvietimai Šilutėje\")"
   ]
  },
  {
   "cell_type": "markdown",
   "metadata": {},
   "source": [
    "### These documents retain all necessary information for retrieval. This approach enables retrieving many more documents from a token count perspective, making grading simpler, more effective, and much less costly in tokens.\n",
    "### Šie dokumentai išlaiko visą reikalingą informaciją paieškai. Tokiu būdu galima iš tokenų kiekio perspektyvos gauti daug daugiau dokumentų, o jų vertinimas tampa paprastesnis, efektyvesnis ir žymiai mažiau kainuoja tokenų."
   ]
  },
  {
   "cell_type": "markdown",
   "metadata": {},
   "source": [
    "## Test of instruct retriever from second vectorstore\n",
    "## Testavimas Instrukcijomis grysto retrieverio iš antros vektorinės duombazės"
   ]
  },
  {
   "cell_type": "code",
   "execution_count": 45,
   "metadata": {},
   "outputs": [],
   "source": [
    "basic_retriever_small = vectorstore2.as_retriever(search_type=\"similarity\", search_kwargs={\"k\": 15})\n",
    "\n",
    "task_description = \"Atrask aktualiausius objektus iš duombazės, jei miestas ar tipas paminėti , užtikrink kad jie būtu gražinti kaip tinkamiausi\"\n",
    "\n",
    "instruct_retriever_small = InstructRetriever(\n",
    "    base_retriever=basic_retriever_small,\n",
    "    task_description=task_description\n",
    ")"
   ]
  },
  {
   "cell_type": "code",
   "execution_count": 46,
   "metadata": {},
   "outputs": [
    {
     "data": {
      "text/plain": [
       "[Document(metadata={'Dokumento_pavadinimas': 'Kvietimas pateikti pasiūlymą adresu Sodų g. 1, Šilutė, dėl vidaus šildymo sistemos modernizavimo rangos darbų su projektinės dokumentacijos paruošimu.pdf', 'Dokumento_tipas': 'Kvietimas', 'Gatvė': 'Sodų g.1', 'Kreipiamasi_dėl': 'dėl vidaus šildymo sistemos modernizavimo rangos darbų su projektinės dokumentacijos paruošimu', 'Miestas': 'Šilutė', 'Pasiulyma_pateikti_iki': '2025-02-20 d. 12 val.', 'uuid': 'a43277cd-251d-466a-94af-7124740d7a72'}, page_content='Kvietimas pateikti pasiūlymą adresu Sodų g. 1, Šilutė, dėl vidaus šildymo sistemos modernizavimo rangos darbų su projektinės dokumentacijos paruošimu.pdf'),\n",
       " Document(metadata={'Dokumento_pavadinimas': 'Kvietimas pateikti pasiūlymą adresu Jaunimo al. 6, Šilutė, dėl stogo remonto darbų.pdf', 'Dokumento_tipas': 'Kvietimas', 'Gatvė': 'Jaunimo al.6', 'Kreipiamasi_dėl': 'dėl stogo remonto darbų', 'Miestas': 'Šilutė', 'Pasiulyma_pateikti_iki': '2023-09-28', 'uuid': 'ef7da482-5ea2-415f-9945-7f36f8594301'}, page_content='Kvietimas pateikti pasiūlymą adresu Jaunimo al. 6, Šilutė, dėl stogo remonto darbų.pdf'),\n",
       " Document(metadata={'Dokumento_pavadinimas': 'Kvietimas pateikti pasiūlymą adresu V. Kudirkos g. 25, Šilutė, dėl 1 ir 2 laiptinės remonto darbų.pdf', 'Dokumento_tipas': 'Kvietimas', 'Gatvė': 'V. Kudirkos g.25', 'Kreipiamasi_dėl': 'dėl1 ir2 laiptinės remonto darbų', 'Miestas': 'Šilutė', 'Pasiulyma_pateikti_iki': '2025-02-27 d. 09 val.', 'uuid': 'fbdc8d60-c024-459e-8328-60e09832e6e6'}, page_content='Kvietimas pateikti pasiūlymą adresu V. Kudirkos g. 25, Šilutė, dėl 1 ir 2 laiptinės remonto darbų.pdf'),\n",
       " Document(metadata={'Dokumento_pavadinimas': 'Kvietimas pateikti pasiūlymą adresu Turgaus g. 4a, Šilutė, dėl šlaitinio stogo remonto darbų (su projekto paruošimu).pdf', 'Dokumento_tipas': 'Kvietimas', 'Gatvė': 'Turgaus g.4a', 'Kreipiamasi_dėl': 'dėl šlaitinio stogo remonto darbų (su projekto paruošimu)', 'Miestas': 'Šilutė', 'Pasiulyma_pateikti_iki': '2025-03-18 d. 09 val.', 'uuid': 'ea56fe4d-70a8-4dfc-8235-0a6e13a7f886'}, page_content='Kvietimas pateikti pasiūlymą adresu Turgaus g. 4a, Šilutė, dėl šlaitinio stogo remonto darbų (su projekto paruošimu).pdf'),\n",
       " Document(metadata={'Dokumento_pavadinimas': 'Kvietimas pateikti pasiūlymą adresu Skirvytėlės g. 11a, Rusnė, Šilutės r., dėl sudaptinto stogo remonto darbų..pdf', 'Dokumento_tipas': 'Kvietimas', 'Gatvė': 'Skirvytėlės g.11a', 'Kreipiamasi_dėl': 'dėl sudaptinto stogo remonto darbų', 'Miestas': 'Rusnė', 'Pasiulyma_pateikti_iki': '2025-03-17 d. 12 val.', 'uuid': 'af6a7e59-584e-4812-ab1f-7af1f590439e'}, page_content='Kvietimas pateikti pasiūlymą adresu Skirvytėlės g. 11a, Rusnė, Šilutės r., dėl sudaptinto stogo remonto darbų..pdf'),\n",
       " Document(metadata={'Dokumento_pavadinimas': 'Kvietimas pateikti pasiūlymą adresu V. Kudirkos g. 25, Šilutė, dėl Namo kadastrinės bylos atnaujinimo po namo renovacijos.pdf', 'Dokumento_tipas': 'Kvietimas', 'Gatvė': 'V. Kudirkos g.25', 'Kreipiamasi_dėl': 'dėl Namo kadastrinės bylos atnaujinimo po namo renovacijos', 'Miestas': 'Šilutė', 'Pasiulyma_pateikti_iki': '2024-09-17 d. 12 val.', 'uuid': 'd46ec46c-14e8-49c9-b4e3-a009b2819bcc'}, page_content='Kvietimas pateikti pasiūlymą adresu V. Kudirkos g. 25, Šilutė, dėl Namo kadastrinės bylos atnaujinimo po namo renovacijos.pdf'),\n",
       " Document(metadata={'Dokumento_pavadinimas': 'Kvietimas pateikti pasiūlymą adresu Šilutės pl. 44, Klaipėda, dėl 1-mos laiptinės langų keitimo.pdf', 'Dokumento_tipas': 'Kvietimas', 'Gatvė': 'Šilutės pl.44', 'Kreipiamasi_dėl': 'dėl 1-mos laiptinės langų keitimo', 'Miestas': 'Klaipėda', 'Pasiulyma_pateikti_iki': '2025-05-30 d. 12 val.', 'uuid': 'd937164b-d009-432f-83c7-74bba3eeb530'}, page_content='Kvietimas pateikti pasiūlymą adresu Šilutės pl. 44, Klaipėda, dėl 1-mos laiptinės langų keitimo.pdf'),\n",
       " Document(metadata={'Dokumento_pavadinimas': 'Kvietimas pateikti pasiūlymą adresu Skirvytėlės g. 11a, Rusnė, Šilutės r., dėl laiptinės ir rūsio durų keitimo.pdf', 'Dokumento_tipas': 'Kvietimas', 'Gatvė': 'Skirvytėlės g.11a', 'Kreipiamasi_dėl': 'dėl laiptinės ir rūsio durų keitimo', 'Miestas': 'Rusnė', 'Pasiulyma_pateikti_iki': '2025-04-01 d. 12 val.', 'uuid': '5264dd2e-6ca9-4e13-a4ef-98593a319ae6'}, page_content='Kvietimas pateikti pasiūlymą adresu Skirvytėlės g. 11a, Rusnė, Šilutės r., dėl laiptinės ir rūsio durų keitimo.pdf'),\n",
       " Document(metadata={'Dokumento_pavadinimas': 'Kvietimas pateikti pasiūlymą adresu Taikos g. 15, Šilutė, dėl fasado ir stogo paprastojo remonto techninio – darbo projekto parengimo.pdf', 'Dokumento_tipas': 'Kvietimas', 'Gatvė': 'Taikos g.15', 'Kreipiamasi_dėl': 'dėl fasado ir stogo paprastojo remonto techninio – darbo projekto parengimo', 'Miestas': 'Šilutė', 'Pasiulyma_pateikti_iki': '2024-12-13 d. 12 val.', 'uuid': '23b3c17e-de48-4fbe-8fd9-8bd5930a9eaf'}, page_content='Kvietimas pateikti pasiūlymą adresu Taikos g. 15, Šilutė, dėl fasado ir stogo paprastojo remonto techninio – darbo projekto parengimo.pdf'),\n",
       " Document(metadata={'Dokumento_pavadinimas': 'Kvietimas pateikti pasiūlymą adresu Baltijos pr. 81, Klaipėda, dėl Fasado remontas (Siūlių padengimas hermetine medžiaga.pdf', 'Dokumento_tipas': 'Kvietimas', 'Gatvė': 'Baltijos pr.81', 'Kreipiamasi_dėl': 'dėl Fasado remontas (Siūlių padengimas hermetine medžiaga)', 'Miestas': 'Klaipėda', 'Pasiulyma_pateikti_iki': '2025-05-28 d. 12 val.', 'uuid': '30b315a9-c1c7-4fe3-92ee-6a19e185bfec'}, page_content='Kvietimas pateikti pasiūlymą adresu Baltijos pr. 81, Klaipėda, dėl Fasado remontas (Siūlių padengimas hermetine medžiaga.pdf'),\n",
       " Document(metadata={'Dokumento_pavadinimas': 'Kvietimas pateikti pasiūlymą, adresu Gedimino pr. 37, Tauragė, darbo projekto parengimas.pdf', 'Dokumento_tipas': 'Kvietimas', 'Gatvė': 'Gedimino pr.37', 'Kreipiamasi_dėl': 'darbo projekto parengimas', 'Miestas': 'Tauragė', 'Pasiulyma_pateikti_iki': '2021-09-21 d. 12 val.', 'uuid': '6525c805-2394-4da1-ab1d-3eaa2ff216f1'}, page_content='Kvietimas pateikti pasiūlymą, adresu Gedimino pr. 37, Tauragė, darbo projekto parengimas.pdf'),\n",
       " Document(metadata={'Dokumento_pavadinimas': 'Kvietimas pateikti pasiūlymą adresu Nidos g. 46, Klaipėda, dėl stogo remonto darbų.pdf', 'Dokumento_tipas': 'Kvietimas', 'Gatvė': 'Nidos g.46', 'Kreipiamasi_dėl': 'dėl stogo remonto darbų', 'Miestas': 'Klaipėda', 'Pasiulyma_pateikti_iki': '2025-05-28 d. 12 val.', 'uuid': '47f9b64d-9a9c-4a93-b1b9-f900ea886947'}, page_content='Kvietimas pateikti pasiūlymą adresu Nidos g. 46, Klaipėda, dėl stogo remonto darbų.pdf'),\n",
       " Document(metadata={'Dokumento_pavadinimas': 'Kvietimas pateikti pasiūlymą adresu Ligoninės g. 2, Klaipėda, dėl nuogrindos remonto darbų.pdf', 'Dokumento_tipas': 'Kvietimas', 'Gatvė': 'Ligoninės g.2', 'Kreipiamasi_dėl': 'dėl nuogrindos remonto darbų', 'Miestas': 'Klaipėda', 'Pasiulyma_pateikti_iki': '2025-06-06 d. 12 val.', 'uuid': 'f5af0038-8b3c-4ee0-a5b6-0b0253b681aa'}, page_content='Kvietimas pateikti pasiūlymą adresu Ligoninės g. 2, Klaipėda, dėl nuogrindos remonto darbų.pdf'),\n",
       " Document(metadata={'Dokumento_pavadinimas': 'Kvietimas pateikti pasiūlymą adresu Taikos pr. 127, Klaipėda, dėl fasado remonto (Siūlių padengimas hidroizoliacine medžiaga).pdf', 'Dokumento_tipas': 'Kvietimas', 'Gatvė': 'Taikos pr.127', 'Kreipiamasi_dėl': 'dėl fasado remonto (Siūlių padengimas hidroizoliacine medžiaga)', 'Miestas': 'Klaipėda', 'Pasiulyma_pateikti_iki': '2025-05-29 d. 12 val.', 'uuid': '74983073-a29c-4a8e-97cb-629fa6e537e2'}, page_content='Kvietimas pateikti pasiūlymą adresu Taikos pr. 127, Klaipėda, dėl fasado remonto (Siūlių padengimas hidroizoliacine medžiaga).pdf'),\n",
       " Document(metadata={'Dokumento_pavadinimas': 'Kvietimas pateikti pasiūlymą dėl šlaitinių stogų remonto darbų Užsakovo administruojamuose daugiabučiuose namuose.pdf', 'Dokumento_tipas': 'Kvietimas', 'Gatvė': 'Nenurodyta pavadinime', 'Kreipiamasi_dėl': 'dėl šlaitinių stogų remonto darbų', 'Miestas': 'Nenurodyta pavadinime', 'Pasiulyma_pateikti_iki': '2025-05-30 d. (imtinai).', 'uuid': 'b806f09e-99d8-4899-b360-f7b5255a60cb'}, page_content='Kvietimas pateikti pasiūlymą dėl šlaitinių stogų remonto darbų Užsakovo administruojamuose daugiabučiuose namuose.pdf')]"
      ]
     },
     "execution_count": 46,
     "metadata": {},
     "output_type": "execute_result"
    }
   ],
   "source": [
    "instruct_retriever_small.invoke(\"Kvietimai Šilutėje\")"
   ]
  },
  {
   "cell_type": "markdown",
   "metadata": {},
   "source": [
    "### The base retriever reranks documents, prioritizing those more related to the query. This helps retrieve documents more effectively; all documents from Šilutė now appear at the front of the list.\n",
    "### Bazinis retriveris perrikiuoja dokumentus, pirmiausia rodydamas labiau su užklausa susijusius. Tai padeda efektyviau gauti dokumentus; visi dokumentai iš Šilutės dabar yra sąrašo pradžioje."
   ]
  },
  {
   "cell_type": "code",
   "execution_count": null,
   "metadata": {},
   "outputs": [],
   "source": []
  },
  {
   "cell_type": "markdown",
   "metadata": {},
   "source": [
    "# Conclusion\n",
    "This project demonstrates an effective method for document retrieval using multiple metadata-enriched vector stores. By focusing on minimal yet information-rich document representations, it achieves faster retrieval with lower memory overhead, in comparison with multivector retriever from langchain, while reducing the risk of hallucinations in downstream language model tasks in comparison with original retrieval or for example PathRag.\n",
    "\n",
    "The clear and consistent document naming conventions greatly facilitate metadata extraction and subsequent data processing. The approach supports flexible filtering and opens pathways for agentic retrieval methods that leverage metadata dynamically, making the retrieval pipeline more intelligent and adaptive.\n",
    "\n",
    "Overall, this architecture provides a solid foundation for scalable and efficient document search and grading systems in practical applications, balancing performance and accuracy while maintaining interpretability and ease of extension.\n",
    "\n"
   ]
  },
  {
   "cell_type": "markdown",
   "metadata": {},
   "source": [
    "# Išvados\n",
    "Šis projektas demonstruoja efektyvų dokumentų paieškos metodą, naudojant kelis metaduomenimis papildytus vektorių saugyklas. Dėmesys minimaliai, tačiau informatyviai dokumentų reprezentacijai leidžia pasiekti greitesnę paiešką su mažesne atminties apkrova, palyginti su „multivector“ paieškos sprendimu iš LangChain, tuo pačiu sumažinant hallucinacijų riziką kalbos modelių užklausose, palyginus su tradicine paieška ar, pavyzdžiui, PathRag metodu.\n",
    "\n",
    "Aiškios ir nuoseklios dokumentų pavadinimų konvencijos gerokai palengvina metaduomenų išgavimą ir tolesnį duomenų apdorojimą. Šis metodas leidžia lanksčiai filtruoti dokumentus ir atveria galimybes agentiškai paieškai, kai metaduomenys naudojami dinamiškai, taip darant paieškos procesą išmanesnį ir adaptyvesnį.\n",
    "\n",
    "Apskritai ši architektūra sudaro tvirtą pagrindą keičiamoms ir efektyvioms dokumentų paieškos bei vertinimo sistemoms praktinėse taikomosiose programose, subalansuojant našumą ir tikslumą bei užtikrinant aiškumą ir paprastumą plėtrai."
   ]
  },
  {
   "cell_type": "code",
   "execution_count": null,
   "metadata": {},
   "outputs": [],
   "source": []
  },
  {
   "cell_type": "code",
   "execution_count": null,
   "metadata": {},
   "outputs": [],
   "source": []
  },
  {
   "cell_type": "code",
   "execution_count": null,
   "metadata": {},
   "outputs": [],
   "source": []
  },
  {
   "cell_type": "code",
   "execution_count": null,
   "metadata": {},
   "outputs": [],
   "source": []
  },
  {
   "cell_type": "code",
   "execution_count": null,
   "metadata": {},
   "outputs": [],
   "source": []
  },
  {
   "cell_type": "code",
   "execution_count": null,
   "metadata": {},
   "outputs": [],
   "source": []
  },
  {
   "cell_type": "code",
   "execution_count": null,
   "metadata": {},
   "outputs": [],
   "source": []
  },
  {
   "cell_type": "code",
   "execution_count": null,
   "metadata": {},
   "outputs": [],
   "source": []
  },
  {
   "cell_type": "code",
   "execution_count": null,
   "metadata": {},
   "outputs": [],
   "source": []
  },
  {
   "cell_type": "code",
   "execution_count": null,
   "metadata": {},
   "outputs": [],
   "source": []
  },
  {
   "cell_type": "code",
   "execution_count": null,
   "metadata": {},
   "outputs": [],
   "source": []
  },
  {
   "cell_type": "code",
   "execution_count": null,
   "metadata": {},
   "outputs": [],
   "source": []
  },
  {
   "cell_type": "code",
   "execution_count": null,
   "metadata": {},
   "outputs": [],
   "source": []
  },
  {
   "cell_type": "code",
   "execution_count": null,
   "metadata": {},
   "outputs": [],
   "source": []
  },
  {
   "cell_type": "code",
   "execution_count": null,
   "metadata": {},
   "outputs": [],
   "source": []
  },
  {
   "cell_type": "code",
   "execution_count": null,
   "metadata": {},
   "outputs": [],
   "source": []
  },
  {
   "cell_type": "code",
   "execution_count": null,
   "metadata": {},
   "outputs": [],
   "source": []
  },
  {
   "cell_type": "code",
   "execution_count": null,
   "metadata": {},
   "outputs": [],
   "source": []
  }
 ],
 "metadata": {
  "kaggle": {
   "accelerator": "nvidiaTeslaT4",
   "dataSources": [
    {
     "datasetId": 6500018,
     "sourceId": 10498320,
     "sourceType": "datasetVersion"
    }
   ],
   "dockerImageVersionId": 31041,
   "isGpuEnabled": true,
   "isInternetEnabled": true,
   "language": "python",
   "sourceType": "notebook"
  },
  "kernelspec": {
   "display_name": "Python 3 (ipykernel)",
   "language": "python",
   "name": "python3"
  },
  "language_info": {
   "codemirror_mode": {
    "name": "ipython",
    "version": 3
   },
   "file_extension": ".py",
   "mimetype": "text/x-python",
   "name": "python",
   "nbconvert_exporter": "python",
   "pygments_lexer": "ipython3",
   "version": "3.10.15"
  }
 },
 "nbformat": 4,
 "nbformat_minor": 4
}
